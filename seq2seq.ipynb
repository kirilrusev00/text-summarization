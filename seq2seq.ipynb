{
  "cells": [
    {
      "cell_type": "markdown",
      "metadata": {
        "id": "view-in-github",
        "colab_type": "text"
      },
      "source": [
        "<a href=\"https://colab.research.google.com/github/kirilrusev00/text-summarization/blob/seq2seq/seq2seq.ipynb\" target=\"_parent\"><img src=\"https://colab.research.google.com/assets/colab-badge.svg\" alt=\"Open In Colab\"/></a>"
      ]
    },
    {
      "cell_type": "markdown",
      "metadata": {
        "id": "wq7TDqtpWZe3"
      },
      "source": [
        "# Seq2Seq Model"
      ],
      "id": "wq7TDqtpWZe3"
    },
    {
      "cell_type": "markdown",
      "metadata": {
        "id": "J5fD3pz_WncA"
      },
      "source": [
        "## Install necessary libraries"
      ],
      "id": "J5fD3pz_WncA"
    },
    {
      "cell_type": "code",
      "execution_count": null,
      "metadata": {
        "id": "ygJSdye5BQh2"
      },
      "outputs": [],
      "source": [
        "# Note: You may need to restart your kernel!\n",
        "!pip install -U pip setuptools wheel\n",
        "!pip install -U spacy\n",
        "!python -m spacy download en_core_web_sm\n",
        "!pip install pandas\n",
        "!pip3 install sklearn"
      ],
      "id": "ygJSdye5BQh2"
    },
    {
      "cell_type": "markdown",
      "metadata": {
        "id": "Yx_hf2c0XCRK"
      },
      "source": [
        "## Imports"
      ],
      "id": "Yx_hf2c0XCRK"
    },
    {
      "cell_type": "code",
      "execution_count": null,
      "metadata": {
        "id": "159eb201"
      },
      "outputs": [],
      "source": [
        "import pandas as pd"
      ],
      "id": "159eb201"
    },
    {
      "cell_type": "markdown",
      "metadata": {
        "id": "cmxVxpMNW0Lz"
      },
      "source": [
        "## Mount Google Drive"
      ],
      "id": "cmxVxpMNW0Lz"
    },
    {
      "cell_type": "code",
      "execution_count": null,
      "metadata": {
        "colab": {
          "base_uri": "https://localhost:8080/"
        },
        "id": "ViYYOEkq5AoA",
        "outputId": "9d91d2a5-f0cc-4679-ef2d-3e752ed55ae7"
      },
      "outputs": [
        {
          "name": "stdout",
          "output_type": "stream",
          "text": [
            "Mounted at /content/drive\n"
          ]
        }
      ],
      "source": [
        "from google.colab import drive\n",
        "drive.mount('/content/drive')"
      ],
      "id": "ViYYOEkq5AoA"
    },
    {
      "cell_type": "markdown",
      "metadata": {
        "id": "bb600093"
      },
      "source": [
        "## Read dataset"
      ],
      "id": "bb600093"
    },
    {
      "cell_type": "code",
      "execution_count": null,
      "metadata": {
        "id": "033e10ac"
      },
      "outputs": [],
      "source": [
        "df = pd.read_csv('/content/drive/MyDrive/Master/IR/wikihowAll.csv')"
      ],
      "id": "033e10ac"
    },
    {
      "cell_type": "code",
      "execution_count": null,
      "metadata": {
        "colab": {
          "base_uri": "https://localhost:8080/",
          "height": 337
        },
        "id": "2ce9f9d8",
        "outputId": "4d0f8aea-d2af-4006-ae1c-8039f0f8a008"
      },
      "outputs": [
        {
          "data": {
            "text/html": [
              "\n",
              "  <div id=\"df-168c2d3b-a3cb-487b-b876-13b627d91662\">\n",
              "    <div class=\"colab-df-container\">\n",
              "      <div>\n",
              "<style scoped>\n",
              "    .dataframe tbody tr th:only-of-type {\n",
              "        vertical-align: middle;\n",
              "    }\n",
              "\n",
              "    .dataframe tbody tr th {\n",
              "        vertical-align: top;\n",
              "    }\n",
              "\n",
              "    .dataframe thead th {\n",
              "        text-align: right;\n",
              "    }\n",
              "</style>\n",
              "<table border=\"1\" class=\"dataframe\">\n",
              "  <thead>\n",
              "    <tr style=\"text-align: right;\">\n",
              "      <th></th>\n",
              "      <th>headline</th>\n",
              "      <th>title</th>\n",
              "      <th>text</th>\n",
              "    </tr>\n",
              "  </thead>\n",
              "  <tbody>\n",
              "    <tr>\n",
              "      <th>0</th>\n",
              "      <td>\\nKeep related supplies in the same area.,\\nMa...</td>\n",
              "      <td>How to Be an Organized Artist1</td>\n",
              "      <td>If you're a photographer, keep all the necess...</td>\n",
              "    </tr>\n",
              "    <tr>\n",
              "      <th>1</th>\n",
              "      <td>\\nCreate a sketch in the NeoPopRealist manner ...</td>\n",
              "      <td>How to Create a Neopoprealist Art Work</td>\n",
              "      <td>See the image for how this drawing develops s...</td>\n",
              "    </tr>\n",
              "    <tr>\n",
              "      <th>2</th>\n",
              "      <td>\\nGet a bachelor’s degree.,\\nEnroll in a studi...</td>\n",
              "      <td>How to Be a Visual Effects Artist1</td>\n",
              "      <td>It is possible to become a VFX artist without...</td>\n",
              "    </tr>\n",
              "    <tr>\n",
              "      <th>3</th>\n",
              "      <td>\\nStart with some experience or interest in ar...</td>\n",
              "      <td>How to Become an Art Investor</td>\n",
              "      <td>The best art investors do their research on t...</td>\n",
              "    </tr>\n",
              "    <tr>\n",
              "      <th>4</th>\n",
              "      <td>\\nKeep your reference materials, sketches, art...</td>\n",
              "      <td>How to Be an Organized Artist2</td>\n",
              "      <td>As you start planning for a project or work, ...</td>\n",
              "    </tr>\n",
              "  </tbody>\n",
              "</table>\n",
              "</div>\n",
              "      <button class=\"colab-df-convert\" onclick=\"convertToInteractive('df-168c2d3b-a3cb-487b-b876-13b627d91662')\"\n",
              "              title=\"Convert this dataframe to an interactive table.\"\n",
              "              style=\"display:none;\">\n",
              "        \n",
              "  <svg xmlns=\"http://www.w3.org/2000/svg\" height=\"24px\"viewBox=\"0 0 24 24\"\n",
              "       width=\"24px\">\n",
              "    <path d=\"M0 0h24v24H0V0z\" fill=\"none\"/>\n",
              "    <path d=\"M18.56 5.44l.94 2.06.94-2.06 2.06-.94-2.06-.94-.94-2.06-.94 2.06-2.06.94zm-11 1L8.5 8.5l.94-2.06 2.06-.94-2.06-.94L8.5 2.5l-.94 2.06-2.06.94zm10 10l.94 2.06.94-2.06 2.06-.94-2.06-.94-.94-2.06-.94 2.06-2.06.94z\"/><path d=\"M17.41 7.96l-1.37-1.37c-.4-.4-.92-.59-1.43-.59-.52 0-1.04.2-1.43.59L10.3 9.45l-7.72 7.72c-.78.78-.78 2.05 0 2.83L4 21.41c.39.39.9.59 1.41.59.51 0 1.02-.2 1.41-.59l7.78-7.78 2.81-2.81c.8-.78.8-2.07 0-2.86zM5.41 20L4 18.59l7.72-7.72 1.47 1.35L5.41 20z\"/>\n",
              "  </svg>\n",
              "      </button>\n",
              "      \n",
              "  <style>\n",
              "    .colab-df-container {\n",
              "      display:flex;\n",
              "      flex-wrap:wrap;\n",
              "      gap: 12px;\n",
              "    }\n",
              "\n",
              "    .colab-df-convert {\n",
              "      background-color: #E8F0FE;\n",
              "      border: none;\n",
              "      border-radius: 50%;\n",
              "      cursor: pointer;\n",
              "      display: none;\n",
              "      fill: #1967D2;\n",
              "      height: 32px;\n",
              "      padding: 0 0 0 0;\n",
              "      width: 32px;\n",
              "    }\n",
              "\n",
              "    .colab-df-convert:hover {\n",
              "      background-color: #E2EBFA;\n",
              "      box-shadow: 0px 1px 2px rgba(60, 64, 67, 0.3), 0px 1px 3px 1px rgba(60, 64, 67, 0.15);\n",
              "      fill: #174EA6;\n",
              "    }\n",
              "\n",
              "    [theme=dark] .colab-df-convert {\n",
              "      background-color: #3B4455;\n",
              "      fill: #D2E3FC;\n",
              "    }\n",
              "\n",
              "    [theme=dark] .colab-df-convert:hover {\n",
              "      background-color: #434B5C;\n",
              "      box-shadow: 0px 1px 3px 1px rgba(0, 0, 0, 0.15);\n",
              "      filter: drop-shadow(0px 1px 2px rgba(0, 0, 0, 0.3));\n",
              "      fill: #FFFFFF;\n",
              "    }\n",
              "  </style>\n",
              "\n",
              "      <script>\n",
              "        const buttonEl =\n",
              "          document.querySelector('#df-168c2d3b-a3cb-487b-b876-13b627d91662 button.colab-df-convert');\n",
              "        buttonEl.style.display =\n",
              "          google.colab.kernel.accessAllowed ? 'block' : 'none';\n",
              "\n",
              "        async function convertToInteractive(key) {\n",
              "          const element = document.querySelector('#df-168c2d3b-a3cb-487b-b876-13b627d91662');\n",
              "          const dataTable =\n",
              "            await google.colab.kernel.invokeFunction('convertToInteractive',\n",
              "                                                     [key], {});\n",
              "          if (!dataTable) return;\n",
              "\n",
              "          const docLinkHtml = 'Like what you see? Visit the ' +\n",
              "            '<a target=\"_blank\" href=https://colab.research.google.com/notebooks/data_table.ipynb>data table notebook</a>'\n",
              "            + ' to learn more about interactive tables.';\n",
              "          element.innerHTML = '';\n",
              "          dataTable['output_type'] = 'display_data';\n",
              "          await google.colab.output.renderOutput(dataTable, element);\n",
              "          const docLink = document.createElement('div');\n",
              "          docLink.innerHTML = docLinkHtml;\n",
              "          element.appendChild(docLink);\n",
              "        }\n",
              "      </script>\n",
              "    </div>\n",
              "  </div>\n",
              "  "
            ],
            "text/plain": [
              "                                            headline  \\\n",
              "0  \\nKeep related supplies in the same area.,\\nMa...   \n",
              "1  \\nCreate a sketch in the NeoPopRealist manner ...   \n",
              "2  \\nGet a bachelor’s degree.,\\nEnroll in a studi...   \n",
              "3  \\nStart with some experience or interest in ar...   \n",
              "4  \\nKeep your reference materials, sketches, art...   \n",
              "\n",
              "                                    title  \\\n",
              "0          How to Be an Organized Artist1   \n",
              "1  How to Create a Neopoprealist Art Work   \n",
              "2      How to Be a Visual Effects Artist1   \n",
              "3           How to Become an Art Investor   \n",
              "4          How to Be an Organized Artist2   \n",
              "\n",
              "                                                text  \n",
              "0   If you're a photographer, keep all the necess...  \n",
              "1   See the image for how this drawing develops s...  \n",
              "2   It is possible to become a VFX artist without...  \n",
              "3   The best art investors do their research on t...  \n",
              "4   As you start planning for a project or work, ...  "
            ]
          },
          "execution_count": 4,
          "metadata": {},
          "output_type": "execute_result"
        }
      ],
      "source": [
        "df.head()"
      ],
      "id": "2ce9f9d8"
    },
    {
      "cell_type": "code",
      "execution_count": null,
      "metadata": {
        "id": "3db488c0"
      },
      "outputs": [],
      "source": [
        "df = df.dropna()"
      ],
      "id": "3db488c0"
    },
    {
      "cell_type": "markdown",
      "metadata": {
        "id": "kr70f3foXK8j"
      },
      "source": [
        "## Prepare dataset"
      ],
      "id": "kr70f3foXK8j"
    },
    {
      "cell_type": "code",
      "execution_count": null,
      "metadata": {
        "colab": {
          "base_uri": "https://localhost:8080/",
          "height": 250
        },
        "id": "25e0052c",
        "outputId": "bb7da42b-97e5-493f-f9dc-be5598a847a6"
      },
      "outputs": [
        {
          "data": {
            "text/html": [
              "\n",
              "  <div id=\"df-5adc5fc5-ade4-4556-8cf7-7ca483a5733b\">\n",
              "    <div class=\"colab-df-container\">\n",
              "      <div>\n",
              "<style scoped>\n",
              "    .dataframe tbody tr th:only-of-type {\n",
              "        vertical-align: middle;\n",
              "    }\n",
              "\n",
              "    .dataframe tbody tr th {\n",
              "        vertical-align: top;\n",
              "    }\n",
              "\n",
              "    .dataframe thead th {\n",
              "        text-align: right;\n",
              "    }\n",
              "</style>\n",
              "<table border=\"1\" class=\"dataframe\">\n",
              "  <thead>\n",
              "    <tr style=\"text-align: right;\">\n",
              "      <th></th>\n",
              "      <th>summary</th>\n",
              "      <th>text</th>\n",
              "    </tr>\n",
              "  </thead>\n",
              "  <tbody>\n",
              "    <tr>\n",
              "      <th>0</th>\n",
              "      <td>\\nKeep related supplies in the same area.,\\nMa...</td>\n",
              "      <td>If you're a photographer, keep all the necess...</td>\n",
              "    </tr>\n",
              "    <tr>\n",
              "      <th>1</th>\n",
              "      <td>\\nCreate a sketch in the NeoPopRealist manner ...</td>\n",
              "      <td>See the image for how this drawing develops s...</td>\n",
              "    </tr>\n",
              "    <tr>\n",
              "      <th>2</th>\n",
              "      <td>\\nGet a bachelor’s degree.,\\nEnroll in a studi...</td>\n",
              "      <td>It is possible to become a VFX artist without...</td>\n",
              "    </tr>\n",
              "    <tr>\n",
              "      <th>3</th>\n",
              "      <td>\\nStart with some experience or interest in ar...</td>\n",
              "      <td>The best art investors do their research on t...</td>\n",
              "    </tr>\n",
              "    <tr>\n",
              "      <th>4</th>\n",
              "      <td>\\nKeep your reference materials, sketches, art...</td>\n",
              "      <td>As you start planning for a project or work, ...</td>\n",
              "    </tr>\n",
              "  </tbody>\n",
              "</table>\n",
              "</div>\n",
              "      <button class=\"colab-df-convert\" onclick=\"convertToInteractive('df-5adc5fc5-ade4-4556-8cf7-7ca483a5733b')\"\n",
              "              title=\"Convert this dataframe to an interactive table.\"\n",
              "              style=\"display:none;\">\n",
              "        \n",
              "  <svg xmlns=\"http://www.w3.org/2000/svg\" height=\"24px\"viewBox=\"0 0 24 24\"\n",
              "       width=\"24px\">\n",
              "    <path d=\"M0 0h24v24H0V0z\" fill=\"none\"/>\n",
              "    <path d=\"M18.56 5.44l.94 2.06.94-2.06 2.06-.94-2.06-.94-.94-2.06-.94 2.06-2.06.94zm-11 1L8.5 8.5l.94-2.06 2.06-.94-2.06-.94L8.5 2.5l-.94 2.06-2.06.94zm10 10l.94 2.06.94-2.06 2.06-.94-2.06-.94-.94-2.06-.94 2.06-2.06.94z\"/><path d=\"M17.41 7.96l-1.37-1.37c-.4-.4-.92-.59-1.43-.59-.52 0-1.04.2-1.43.59L10.3 9.45l-7.72 7.72c-.78.78-.78 2.05 0 2.83L4 21.41c.39.39.9.59 1.41.59.51 0 1.02-.2 1.41-.59l7.78-7.78 2.81-2.81c.8-.78.8-2.07 0-2.86zM5.41 20L4 18.59l7.72-7.72 1.47 1.35L5.41 20z\"/>\n",
              "  </svg>\n",
              "      </button>\n",
              "      \n",
              "  <style>\n",
              "    .colab-df-container {\n",
              "      display:flex;\n",
              "      flex-wrap:wrap;\n",
              "      gap: 12px;\n",
              "    }\n",
              "\n",
              "    .colab-df-convert {\n",
              "      background-color: #E8F0FE;\n",
              "      border: none;\n",
              "      border-radius: 50%;\n",
              "      cursor: pointer;\n",
              "      display: none;\n",
              "      fill: #1967D2;\n",
              "      height: 32px;\n",
              "      padding: 0 0 0 0;\n",
              "      width: 32px;\n",
              "    }\n",
              "\n",
              "    .colab-df-convert:hover {\n",
              "      background-color: #E2EBFA;\n",
              "      box-shadow: 0px 1px 2px rgba(60, 64, 67, 0.3), 0px 1px 3px 1px rgba(60, 64, 67, 0.15);\n",
              "      fill: #174EA6;\n",
              "    }\n",
              "\n",
              "    [theme=dark] .colab-df-convert {\n",
              "      background-color: #3B4455;\n",
              "      fill: #D2E3FC;\n",
              "    }\n",
              "\n",
              "    [theme=dark] .colab-df-convert:hover {\n",
              "      background-color: #434B5C;\n",
              "      box-shadow: 0px 1px 3px 1px rgba(0, 0, 0, 0.15);\n",
              "      filter: drop-shadow(0px 1px 2px rgba(0, 0, 0, 0.3));\n",
              "      fill: #FFFFFF;\n",
              "    }\n",
              "  </style>\n",
              "\n",
              "      <script>\n",
              "        const buttonEl =\n",
              "          document.querySelector('#df-5adc5fc5-ade4-4556-8cf7-7ca483a5733b button.colab-df-convert');\n",
              "        buttonEl.style.display =\n",
              "          google.colab.kernel.accessAllowed ? 'block' : 'none';\n",
              "\n",
              "        async function convertToInteractive(key) {\n",
              "          const element = document.querySelector('#df-5adc5fc5-ade4-4556-8cf7-7ca483a5733b');\n",
              "          const dataTable =\n",
              "            await google.colab.kernel.invokeFunction('convertToInteractive',\n",
              "                                                     [key], {});\n",
              "          if (!dataTable) return;\n",
              "\n",
              "          const docLinkHtml = 'Like what you see? Visit the ' +\n",
              "            '<a target=\"_blank\" href=https://colab.research.google.com/notebooks/data_table.ipynb>data table notebook</a>'\n",
              "            + ' to learn more about interactive tables.';\n",
              "          element.innerHTML = '';\n",
              "          dataTable['output_type'] = 'display_data';\n",
              "          await google.colab.output.renderOutput(dataTable, element);\n",
              "          const docLink = document.createElement('div');\n",
              "          docLink.innerHTML = docLinkHtml;\n",
              "          element.appendChild(docLink);\n",
              "        }\n",
              "      </script>\n",
              "    </div>\n",
              "  </div>\n",
              "  "
            ],
            "text/plain": [
              "                                             summary  \\\n",
              "0  \\nKeep related supplies in the same area.,\\nMa...   \n",
              "1  \\nCreate a sketch in the NeoPopRealist manner ...   \n",
              "2  \\nGet a bachelor’s degree.,\\nEnroll in a studi...   \n",
              "3  \\nStart with some experience or interest in ar...   \n",
              "4  \\nKeep your reference materials, sketches, art...   \n",
              "\n",
              "                                                text  \n",
              "0   If you're a photographer, keep all the necess...  \n",
              "1   See the image for how this drawing develops s...  \n",
              "2   It is possible to become a VFX artist without...  \n",
              "3   The best art investors do their research on t...  \n",
              "4   As you start planning for a project or work, ...  "
            ]
          },
          "execution_count": 6,
          "metadata": {},
          "output_type": "execute_result"
        }
      ],
      "source": [
        "prepare_df = pd.DataFrame()\n",
        "prepare_df['summary'] = df['headline']\n",
        "prepare_df['text'] = df['text']\n",
        "\n",
        "prepare_df.head()"
      ],
      "id": "25e0052c"
    },
    {
      "cell_type": "markdown",
      "metadata": {
        "id": "49257df3"
      },
      "source": [
        "### Clean the data"
      ],
      "id": "49257df3"
    },
    {
      "cell_type": "code",
      "execution_count": null,
      "metadata": {
        "id": "f3931c03"
      },
      "outputs": [],
      "source": [
        "import re\n",
        "\n",
        "# Remove non-alphabetic characters (Data Cleaning)\n",
        "def text_strip(column):\n",
        "  for row in column:\n",
        "    row = str(row)\n",
        "\n",
        "    row = row.rstrip()\n",
        "    row = re.sub(\"(\\\\t)\", \" \", row).lower()\n",
        "    row = re.sub(\"(\\\\r)\", \" \", row).lower()\n",
        "    row = re.sub(\"(\\\\n)\", \" \", row).lower()\n",
        "\n",
        "    # Remove _ if it occurs more than one time consecutively\n",
        "    row = re.sub(\"(__+)\", \" \", row).lower()\n",
        "\n",
        "    # Remove - if it occurs more than one time consecutively\n",
        "    row = re.sub(\"(--+)\", \" \", row).lower()\n",
        "\n",
        "    # Remove ~ if it occurs more than one time consecutively\n",
        "    row = re.sub(\"(~~+)\", \" \", row).lower()\n",
        "\n",
        "    # Remove + if it occurs more than one time consecutively\n",
        "    row = re.sub(\"(\\+\\++)\", \" \", row).lower()\n",
        "\n",
        "    # Remove . if it occurs more than one time consecutively\n",
        "    row = re.sub(\"(\\.\\.+)\", \" \", row).lower()\n",
        "\n",
        "    # Remove the characters - <>()|&©ø\"',;?~*!\n",
        "    row = re.sub(r\"[<>()|&©ø\\[\\]\\'\\\",;?~*!]\", \" \", row).lower()\n",
        "\n",
        "    # Remove punctuations at the end of a word\n",
        "    row = re.sub(\"(\\.\\s+)\", \" \", row).lower()\n",
        "    row = re.sub(\"(\\-\\s+)\", \" \", row).lower()\n",
        "    row = re.sub(\"(\\:\\s+)\", \" \", row).lower()\n",
        "\n",
        "    # Replace any url to only the domain name\n",
        "    try:\n",
        "      url = re.search(r\"((https*:\\/*)([^\\/\\s]+))(.[^\\s]+)\", row)\n",
        "      repl_url = url.group(3)\n",
        "      row = re.sub(r\"((https*:\\/*)([^\\/\\s]+))(.[^\\s]+)\", repl_url, row)\n",
        "    except:\n",
        "      pass\n",
        "\n",
        "    # Remove numbers at end of words\n",
        "    try:\n",
        "      word_with_digit = re.search(r\"([A-Za-z]+)\\d+\", row)\n",
        "      word_without_digit = word_with_digit.group(1)\n",
        "      row = re.sub(r\"([A-Za-z]+)\\d+\", word_without_digit, row)\n",
        "    except:\n",
        "      pass\n",
        "\n",
        "    # Remove multiple spaces\n",
        "    row = re.sub(\"(\\s+)\", \" \", row).lower()\n",
        "\n",
        "    # Remove the single character hanging between any two spaces\n",
        "    row = re.sub(\"(\\s+.\\s+)\", \" \", row).lower()\n",
        "\n",
        "    yield row"
      ],
      "id": "f3931c03"
    },
    {
      "cell_type": "code",
      "execution_count": null,
      "metadata": {
        "id": "48886869"
      },
      "outputs": [],
      "source": [
        "processed_text = text_strip(prepare_df['text'])\n",
        "processed_summary = text_strip(prepare_df['summary'])"
      ],
      "id": "48886869"
    },
    {
      "cell_type": "code",
      "execution_count": null,
      "metadata": {
        "colab": {
          "base_uri": "https://localhost:8080/",
          "height": 319
        },
        "id": "37d8c01b",
        "outputId": "513c9d05-b17a-49c4-9362-a5fb7bc8520c"
      },
      "outputs": [
        {
          "data": {
            "text/html": [
              "\n",
              "  <div id=\"df-c9dac24a-33e4-49fe-a067-973e7c4de6ef\">\n",
              "    <div class=\"colab-df-container\">\n",
              "      <div>\n",
              "<style scoped>\n",
              "    .dataframe tbody tr th:only-of-type {\n",
              "        vertical-align: middle;\n",
              "    }\n",
              "\n",
              "    .dataframe tbody tr th {\n",
              "        vertical-align: top;\n",
              "    }\n",
              "\n",
              "    .dataframe thead th {\n",
              "        text-align: right;\n",
              "    }\n",
              "</style>\n",
              "<table border=\"1\" class=\"dataframe\">\n",
              "  <thead>\n",
              "    <tr style=\"text-align: right;\">\n",
              "      <th></th>\n",
              "      <th>summary</th>\n",
              "      <th>text</th>\n",
              "    </tr>\n",
              "  </thead>\n",
              "  <tbody>\n",
              "    <tr>\n",
              "      <th>0</th>\n",
              "      <td>\\nKeep related supplies in the same area.,\\nMa...</td>\n",
              "      <td>If you're a photographer, keep all the necess...</td>\n",
              "    </tr>\n",
              "    <tr>\n",
              "      <th>1</th>\n",
              "      <td>\\nCreate a sketch in the NeoPopRealist manner ...</td>\n",
              "      <td>See the image for how this drawing develops s...</td>\n",
              "    </tr>\n",
              "    <tr>\n",
              "      <th>2</th>\n",
              "      <td>\\nGet a bachelor’s degree.,\\nEnroll in a studi...</td>\n",
              "      <td>It is possible to become a VFX artist without...</td>\n",
              "    </tr>\n",
              "    <tr>\n",
              "      <th>3</th>\n",
              "      <td>\\nStart with some experience or interest in ar...</td>\n",
              "      <td>The best art investors do their research on t...</td>\n",
              "    </tr>\n",
              "    <tr>\n",
              "      <th>4</th>\n",
              "      <td>\\nKeep your reference materials, sketches, art...</td>\n",
              "      <td>As you start planning for a project or work, ...</td>\n",
              "    </tr>\n",
              "  </tbody>\n",
              "</table>\n",
              "</div>\n",
              "      <button class=\"colab-df-convert\" onclick=\"convertToInteractive('df-c9dac24a-33e4-49fe-a067-973e7c4de6ef')\"\n",
              "              title=\"Convert this dataframe to an interactive table.\"\n",
              "              style=\"display:none;\">\n",
              "        \n",
              "  <svg xmlns=\"http://www.w3.org/2000/svg\" height=\"24px\"viewBox=\"0 0 24 24\"\n",
              "       width=\"24px\">\n",
              "    <path d=\"M0 0h24v24H0V0z\" fill=\"none\"/>\n",
              "    <path d=\"M18.56 5.44l.94 2.06.94-2.06 2.06-.94-2.06-.94-.94-2.06-.94 2.06-2.06.94zm-11 1L8.5 8.5l.94-2.06 2.06-.94-2.06-.94L8.5 2.5l-.94 2.06-2.06.94zm10 10l.94 2.06.94-2.06 2.06-.94-2.06-.94-.94-2.06-.94 2.06-2.06.94z\"/><path d=\"M17.41 7.96l-1.37-1.37c-.4-.4-.92-.59-1.43-.59-.52 0-1.04.2-1.43.59L10.3 9.45l-7.72 7.72c-.78.78-.78 2.05 0 2.83L4 21.41c.39.39.9.59 1.41.59.51 0 1.02-.2 1.41-.59l7.78-7.78 2.81-2.81c.8-.78.8-2.07 0-2.86zM5.41 20L4 18.59l7.72-7.72 1.47 1.35L5.41 20z\"/>\n",
              "  </svg>\n",
              "      </button>\n",
              "      \n",
              "  <style>\n",
              "    .colab-df-container {\n",
              "      display:flex;\n",
              "      flex-wrap:wrap;\n",
              "      gap: 12px;\n",
              "    }\n",
              "\n",
              "    .colab-df-convert {\n",
              "      background-color: #E8F0FE;\n",
              "      border: none;\n",
              "      border-radius: 50%;\n",
              "      cursor: pointer;\n",
              "      display: none;\n",
              "      fill: #1967D2;\n",
              "      height: 32px;\n",
              "      padding: 0 0 0 0;\n",
              "      width: 32px;\n",
              "    }\n",
              "\n",
              "    .colab-df-convert:hover {\n",
              "      background-color: #E2EBFA;\n",
              "      box-shadow: 0px 1px 2px rgba(60, 64, 67, 0.3), 0px 1px 3px 1px rgba(60, 64, 67, 0.15);\n",
              "      fill: #174EA6;\n",
              "    }\n",
              "\n",
              "    [theme=dark] .colab-df-convert {\n",
              "      background-color: #3B4455;\n",
              "      fill: #D2E3FC;\n",
              "    }\n",
              "\n",
              "    [theme=dark] .colab-df-convert:hover {\n",
              "      background-color: #434B5C;\n",
              "      box-shadow: 0px 1px 3px 1px rgba(0, 0, 0, 0.15);\n",
              "      filter: drop-shadow(0px 1px 2px rgba(0, 0, 0, 0.3));\n",
              "      fill: #FFFFFF;\n",
              "    }\n",
              "  </style>\n",
              "\n",
              "      <script>\n",
              "        const buttonEl =\n",
              "          document.querySelector('#df-c9dac24a-33e4-49fe-a067-973e7c4de6ef button.colab-df-convert');\n",
              "        buttonEl.style.display =\n",
              "          google.colab.kernel.accessAllowed ? 'block' : 'none';\n",
              "\n",
              "        async function convertToInteractive(key) {\n",
              "          const element = document.querySelector('#df-c9dac24a-33e4-49fe-a067-973e7c4de6ef');\n",
              "          const dataTable =\n",
              "            await google.colab.kernel.invokeFunction('convertToInteractive',\n",
              "                                                     [key], {});\n",
              "          if (!dataTable) return;\n",
              "\n",
              "          const docLinkHtml = 'Like what you see? Visit the ' +\n",
              "            '<a target=\"_blank\" href=https://colab.research.google.com/notebooks/data_table.ipynb>data table notebook</a>'\n",
              "            + ' to learn more about interactive tables.';\n",
              "          element.innerHTML = '';\n",
              "          dataTable['output_type'] = 'display_data';\n",
              "          await google.colab.output.renderOutput(dataTable, element);\n",
              "          const docLink = document.createElement('div');\n",
              "          docLink.innerHTML = docLinkHtml;\n",
              "          element.appendChild(docLink);\n",
              "        }\n",
              "      </script>\n",
              "    </div>\n",
              "  </div>\n",
              "  "
            ],
            "text/plain": [
              "                                             summary  \\\n",
              "0  \\nKeep related supplies in the same area.,\\nMa...   \n",
              "1  \\nCreate a sketch in the NeoPopRealist manner ...   \n",
              "2  \\nGet a bachelor’s degree.,\\nEnroll in a studi...   \n",
              "3  \\nStart with some experience or interest in ar...   \n",
              "4  \\nKeep your reference materials, sketches, art...   \n",
              "\n",
              "                                                text  \n",
              "0   If you're a photographer, keep all the necess...  \n",
              "1   See the image for how this drawing develops s...  \n",
              "2   It is possible to become a VFX artist without...  \n",
              "3   The best art investors do their research on t...  \n",
              "4   As you start planning for a project or work, ...  "
            ]
          },
          "execution_count": 12,
          "metadata": {},
          "output_type": "execute_result"
        }
      ],
      "source": [
        "prepare_df.head()"
      ],
      "id": "37d8c01b"
    },
    {
      "cell_type": "code",
      "execution_count": null,
      "metadata": {
        "colab": {
          "base_uri": "https://localhost:8080/"
        },
        "id": "ff9e7343",
        "outputId": "d02fcca7-3527-4d7e-9ca0-bfb878e927da"
      },
      "outputs": [
        {
          "name": "stderr",
          "output_type": "stream",
          "text": [
            "/usr/local/lib/python3.8/dist-packages/torch/cuda/__init__.py:497: UserWarning: Can't initialize NVML\n",
            "  warnings.warn(\"Can't initialize NVML\")\n"
          ]
        }
      ],
      "source": [
        "import spacy\n",
        "from time import time\n",
        "\n",
        "nlp = spacy.load('en_core_web_sm', disable=['ner', 'parser']) \n",
        "\n",
        "# Process text as batches and yield Doc objects in order\n",
        "text = [str(doc) for doc in nlp.pipe(processed_text, batch_size=500)]\n",
        "\n",
        "summary = ['_START_ '+ str(doc) + ' _END_' for doc in nlp.pipe(processed_summary, batch_size=500)]"
      ],
      "id": "ff9e7343"
    },
    {
      "cell_type": "code",
      "execution_count": null,
      "metadata": {
        "colab": {
          "base_uri": "https://localhost:8080/",
          "height": 122
        },
        "id": "618111b4",
        "outputId": "3ff4af77-5412-4cea-8a91-ed820ae2777c"
      },
      "outputs": [
        {
          "data": {
            "application/vnd.google.colaboratory.intrinsic+json": {
              "type": "string"
            },
            "text/plain": [
              "'if you re photographer keep all the necessary lens cords and batteries in the same quadrant of your home or studio paints should be kept with brushes cleaner and canvas print supplies should be by the ink etc make broader groups and areas for your supplies to make finding them easier limiting your search to much smaller area some ideas include essential supplies area the things you use every day inspiration and reference area dedicated work area infrequent or secondary supplies area tucked out of the way this doesn mean cleaning the entire studio it just means keeping the area immediately around the desk easel pottery wheel etc clean each night discard trash or unnecessary materials and wipe down dirty surfaces endeavor to leave the workspace in way that you can sit down the next day and start working immediately without having to do any work or tidying even if the rest of your studio is bit disorganized an organized workspace will help you get down to business every time you want to make art as visual people lot of artist clutter comes from desire to keep track of supplies visually instead of tucked out of sight by using jars old glasses vases and cheap clear plastic drawers you can keep things in sight without leaving it strewn about haphazardly some ideas beyond those just mentioned include canvas shoe racks on the back of the door wine racks with cups in each slot to hold pens/pencils plastic restaurant squirt bottles for paint pigment etc simply string up the wires across wall or along the ceiling and use them to hold essential papers that you don want to cut or ruin with tacks or tape cheap and easy this is also good way to handle papers and ideas you touch regularly or need to pin up and down for inspiration shelving is an artist best friend and is cheap and easy way to get more room in your studio or art space don be afraid to get up high either especially for infrequently used supplies the upper reaches of the room are often the most under-utilized but provide vital space for all your tools and materials turning one wall into chalkboard gives you perfect space for ideas sketches and planning without requiring extra equipment or space you can even use it for smaller areas paint over jars or storage equipment allowing you to relabel them with chalk as your needs change lot of disorganization comes when you keep moving the location of things trying to optimize your space by reorganizing frequently this usually has the opposite effect leading to lost items and uncertainty when cleaning but an afternoon with label maker can solve everything instead of spending all of your mental energy looking for or storing things you can just follow the labels freeing your mind to think about art once month do purge of your studio if it isn essential or part of project either throw it out or file it away for later artists are constantly making new things experimenting and making mess this is good thing but only if you set aside time to declutter it may not be fun at the moment but it is lot more fun than spending 30 minutes digging through junk to find the right paint or an old sketch don be sentimental here if you haven used it in the last six months there is little chance you ll use it in the next six months toss it.'"
            ]
          },
          "execution_count": 25,
          "metadata": {},
          "output_type": "execute_result"
        }
      ],
      "source": [
        "text[0]"
      ],
      "id": "618111b4"
    },
    {
      "cell_type": "code",
      "execution_count": null,
      "metadata": {
        "colab": {
          "base_uri": "https://localhost:8080/",
          "height": 139
        },
        "id": "gzsfD9zzJpjL",
        "outputId": "a0ca37d9-7090-4542-ad07-d137875e6736"
      },
      "outputs": [
        {
          "data": {
            "application/vnd.google.colaboratory.intrinsic+json": {
              "type": "string"
            },
            "text/plain": [
              "'_START_  keep related supplies in the same area make an effort to clean dedicated workspace after every session place loose supplies in large clearly visible containers use clotheslines and clips to hang sketches photos and reference material use every inch of the room for storage especially vertical space use chalkboard paint to make space for drafting ideas right on the walls purchase label maker to make your organization strategy semi-permanent make habit of throwing out old excess or useless stuff each month. _END_'"
            ]
          },
          "execution_count": 17,
          "metadata": {},
          "output_type": "execute_result"
        }
      ],
      "source": [
        "summary[0]"
      ],
      "id": "gzsfD9zzJpjL"
    },
    {
      "cell_type": "code",
      "execution_count": null,
      "metadata": {
        "id": "_1G9MAaYkN_W"
      },
      "outputs": [],
      "source": [
        "with open(\"output_text.txt\", \"w\") as txt_file:\n",
        "    for line in text:\n",
        "        txt_file.write(line + \"\\n\")"
      ],
      "id": "_1G9MAaYkN_W"
    },
    {
      "cell_type": "code",
      "execution_count": null,
      "metadata": {
        "id": "PXGiqo1KlWvs"
      },
      "outputs": [],
      "source": [
        "with open(\"output_summary.txt\", \"w\") as txt_file:\n",
        "    for line in summary:\n",
        "        txt_file.write(line + \"\\n\")"
      ],
      "id": "PXGiqo1KlWvs"
    },
    {
      "cell_type": "code",
      "execution_count": null,
      "metadata": {
        "id": "glNaYq_cMuGF"
      },
      "outputs": [],
      "source": [
        "prepare_df['cleaned_text'] = pd.Series(text)\n",
        "prepare_df['cleaned_summary'] = pd.Series(summary)"
      ],
      "id": "glNaYq_cMuGF"
    },
    {
      "cell_type": "markdown",
      "metadata": {
        "id": "9L9UOoogXd_X"
      },
      "source": [
        "### Save prepared dataset to csv"
      ],
      "id": "9L9UOoogXd_X"
    },
    {
      "cell_type": "code",
      "execution_count": null,
      "metadata": {
        "id": "5yF3Mj3RdtL0"
      },
      "outputs": [],
      "source": [
        "prepare_df.to_csv('cleaned.csv', index=False)"
      ],
      "id": "5yF3Mj3RdtL0"
    },
    {
      "cell_type": "markdown",
      "metadata": {
        "id": "LfmEBbZSXn_c"
      },
      "source": [
        "## Filter examples by word size"
      ],
      "id": "LfmEBbZSXn_c"
    },
    {
      "cell_type": "code",
      "execution_count": null,
      "metadata": {
        "id": "8Mp_B1Dr6Za9"
      },
      "outputs": [],
      "source": [
        "prepare_df = pd.read_csv('/content/drive/MyDrive/Master/IR/cleaned.csv')"
      ],
      "id": "8Mp_B1Dr6Za9"
    },
    {
      "cell_type": "code",
      "execution_count": null,
      "metadata": {
        "colab": {
          "base_uri": "https://localhost:8080/",
          "height": 423
        },
        "id": "idJU-Uu-wufC",
        "outputId": "6a7e1ef5-a77b-4358-9726-6c7bfa1620a7"
      },
      "outputs": [
        {
          "data": {
            "text/html": [
              "\n",
              "  <div id=\"df-5bdda9c3-e5b0-420c-a375-bb31ee12632c\">\n",
              "    <div class=\"colab-df-container\">\n",
              "      <div>\n",
              "<style scoped>\n",
              "    .dataframe tbody tr th:only-of-type {\n",
              "        vertical-align: middle;\n",
              "    }\n",
              "\n",
              "    .dataframe tbody tr th {\n",
              "        vertical-align: top;\n",
              "    }\n",
              "\n",
              "    .dataframe thead th {\n",
              "        text-align: right;\n",
              "    }\n",
              "</style>\n",
              "<table border=\"1\" class=\"dataframe\">\n",
              "  <thead>\n",
              "    <tr style=\"text-align: right;\">\n",
              "      <th></th>\n",
              "      <th>summary</th>\n",
              "      <th>text</th>\n",
              "      <th>cleaned_text</th>\n",
              "      <th>cleaned_summary</th>\n",
              "    </tr>\n",
              "  </thead>\n",
              "  <tbody>\n",
              "    <tr>\n",
              "      <th>0</th>\n",
              "      <td>\\nKeep related supplies in the same area.,\\nMa...</td>\n",
              "      <td>If you're a photographer, keep all the necess...</td>\n",
              "      <td>if you re photographer keep all the necessary...</td>\n",
              "      <td>_START_  keep related supplies in the same are...</td>\n",
              "    </tr>\n",
              "    <tr>\n",
              "      <th>1</th>\n",
              "      <td>\\nCreate a sketch in the NeoPopRealist manner ...</td>\n",
              "      <td>See the image for how this drawing develops s...</td>\n",
              "      <td>see the image for how this drawing develops s...</td>\n",
              "      <td>_START_  create sketch in the neopoprealist ma...</td>\n",
              "    </tr>\n",
              "    <tr>\n",
              "      <th>2</th>\n",
              "      <td>\\nGet a bachelor’s degree.,\\nEnroll in a studi...</td>\n",
              "      <td>It is possible to become a VFX artist without...</td>\n",
              "      <td>it is possible to become vfx artist without c...</td>\n",
              "      <td>_START_  get bachelor’s degree enroll in studi...</td>\n",
              "    </tr>\n",
              "    <tr>\n",
              "      <th>3</th>\n",
              "      <td>\\nStart with some experience or interest in ar...</td>\n",
              "      <td>The best art investors do their research on t...</td>\n",
              "      <td>the best art investors do their research on t...</td>\n",
              "      <td>_START_  start with some experience or interes...</td>\n",
              "    </tr>\n",
              "    <tr>\n",
              "      <th>4</th>\n",
              "      <td>\\nKeep your reference materials, sketches, art...</td>\n",
              "      <td>As you start planning for a project or work, ...</td>\n",
              "      <td>as you start planning for project or work you...</td>\n",
              "      <td>_START_  keep your reference materials sketche...</td>\n",
              "    </tr>\n",
              "  </tbody>\n",
              "</table>\n",
              "</div>\n",
              "      <button class=\"colab-df-convert\" onclick=\"convertToInteractive('df-5bdda9c3-e5b0-420c-a375-bb31ee12632c')\"\n",
              "              title=\"Convert this dataframe to an interactive table.\"\n",
              "              style=\"display:none;\">\n",
              "        \n",
              "  <svg xmlns=\"http://www.w3.org/2000/svg\" height=\"24px\"viewBox=\"0 0 24 24\"\n",
              "       width=\"24px\">\n",
              "    <path d=\"M0 0h24v24H0V0z\" fill=\"none\"/>\n",
              "    <path d=\"M18.56 5.44l.94 2.06.94-2.06 2.06-.94-2.06-.94-.94-2.06-.94 2.06-2.06.94zm-11 1L8.5 8.5l.94-2.06 2.06-.94-2.06-.94L8.5 2.5l-.94 2.06-2.06.94zm10 10l.94 2.06.94-2.06 2.06-.94-2.06-.94-.94-2.06-.94 2.06-2.06.94z\"/><path d=\"M17.41 7.96l-1.37-1.37c-.4-.4-.92-.59-1.43-.59-.52 0-1.04.2-1.43.59L10.3 9.45l-7.72 7.72c-.78.78-.78 2.05 0 2.83L4 21.41c.39.39.9.59 1.41.59.51 0 1.02-.2 1.41-.59l7.78-7.78 2.81-2.81c.8-.78.8-2.07 0-2.86zM5.41 20L4 18.59l7.72-7.72 1.47 1.35L5.41 20z\"/>\n",
              "  </svg>\n",
              "      </button>\n",
              "      \n",
              "  <style>\n",
              "    .colab-df-container {\n",
              "      display:flex;\n",
              "      flex-wrap:wrap;\n",
              "      gap: 12px;\n",
              "    }\n",
              "\n",
              "    .colab-df-convert {\n",
              "      background-color: #E8F0FE;\n",
              "      border: none;\n",
              "      border-radius: 50%;\n",
              "      cursor: pointer;\n",
              "      display: none;\n",
              "      fill: #1967D2;\n",
              "      height: 32px;\n",
              "      padding: 0 0 0 0;\n",
              "      width: 32px;\n",
              "    }\n",
              "\n",
              "    .colab-df-convert:hover {\n",
              "      background-color: #E2EBFA;\n",
              "      box-shadow: 0px 1px 2px rgba(60, 64, 67, 0.3), 0px 1px 3px 1px rgba(60, 64, 67, 0.15);\n",
              "      fill: #174EA6;\n",
              "    }\n",
              "\n",
              "    [theme=dark] .colab-df-convert {\n",
              "      background-color: #3B4455;\n",
              "      fill: #D2E3FC;\n",
              "    }\n",
              "\n",
              "    [theme=dark] .colab-df-convert:hover {\n",
              "      background-color: #434B5C;\n",
              "      box-shadow: 0px 1px 3px 1px rgba(0, 0, 0, 0.15);\n",
              "      filter: drop-shadow(0px 1px 2px rgba(0, 0, 0, 0.3));\n",
              "      fill: #FFFFFF;\n",
              "    }\n",
              "  </style>\n",
              "\n",
              "      <script>\n",
              "        const buttonEl =\n",
              "          document.querySelector('#df-5bdda9c3-e5b0-420c-a375-bb31ee12632c button.colab-df-convert');\n",
              "        buttonEl.style.display =\n",
              "          google.colab.kernel.accessAllowed ? 'block' : 'none';\n",
              "\n",
              "        async function convertToInteractive(key) {\n",
              "          const element = document.querySelector('#df-5bdda9c3-e5b0-420c-a375-bb31ee12632c');\n",
              "          const dataTable =\n",
              "            await google.colab.kernel.invokeFunction('convertToInteractive',\n",
              "                                                     [key], {});\n",
              "          if (!dataTable) return;\n",
              "\n",
              "          const docLinkHtml = 'Like what you see? Visit the ' +\n",
              "            '<a target=\"_blank\" href=https://colab.research.google.com/notebooks/data_table.ipynb>data table notebook</a>'\n",
              "            + ' to learn more about interactive tables.';\n",
              "          element.innerHTML = '';\n",
              "          dataTable['output_type'] = 'display_data';\n",
              "          await google.colab.output.renderOutput(dataTable, element);\n",
              "          const docLink = document.createElement('div');\n",
              "          docLink.innerHTML = docLinkHtml;\n",
              "          element.appendChild(docLink);\n",
              "        }\n",
              "      </script>\n",
              "    </div>\n",
              "  </div>\n",
              "  "
            ],
            "text/plain": [
              "                                             summary  \\\n",
              "0  \\nKeep related supplies in the same area.,\\nMa...   \n",
              "1  \\nCreate a sketch in the NeoPopRealist manner ...   \n",
              "2  \\nGet a bachelor’s degree.,\\nEnroll in a studi...   \n",
              "3  \\nStart with some experience or interest in ar...   \n",
              "4  \\nKeep your reference materials, sketches, art...   \n",
              "\n",
              "                                                text  \\\n",
              "0   If you're a photographer, keep all the necess...   \n",
              "1   See the image for how this drawing develops s...   \n",
              "2   It is possible to become a VFX artist without...   \n",
              "3   The best art investors do their research on t...   \n",
              "4   As you start planning for a project or work, ...   \n",
              "\n",
              "                                        cleaned_text  \\\n",
              "0   if you re photographer keep all the necessary...   \n",
              "1   see the image for how this drawing develops s...   \n",
              "2   it is possible to become vfx artist without c...   \n",
              "3   the best art investors do their research on t...   \n",
              "4   as you start planning for project or work you...   \n",
              "\n",
              "                                     cleaned_summary  \n",
              "0  _START_  keep related supplies in the same are...  \n",
              "1  _START_  create sketch in the neopoprealist ma...  \n",
              "2  _START_  get bachelor’s degree enroll in studi...  \n",
              "3  _START_  start with some experience or interes...  \n",
              "4  _START_  keep your reference materials sketche...  "
            ]
          },
          "execution_count": 4,
          "metadata": {},
          "output_type": "execute_result"
        }
      ],
      "source": [
        "prepare_df.head()"
      ],
      "id": "idJU-Uu-wufC"
    },
    {
      "cell_type": "code",
      "execution_count": null,
      "metadata": {
        "colab": {
          "base_uri": "https://localhost:8080/",
          "height": 281
        },
        "id": "azv1UrxyM_6Y",
        "outputId": "feacabd3-8be5-4645-ad8b-db44e3e154e5"
      },
      "outputs": [
        {
          "data": {
            "image/png": "[encoded data removed]",
            "text/plain": [
              "<Figure size 432x288 with 2 Axes>"
            ]
          },
          "metadata": {},
          "output_type": "display_data"
        }
      ],
      "source": [
        "import matplotlib.pyplot as plt\n",
        "\n",
        "prepare_df = prepare_df.dropna()\n",
        "\n",
        "text_count = []\n",
        "summary_count = []\n",
        "\n",
        "for sent in prepare_df['cleaned_text']:\n",
        "    text_count.append(len(sent.split()))\n",
        "    \n",
        "for sent in prepare_df['cleaned_summary']:\n",
        "    summary_count.append(len(sent.split()))\n",
        "\n",
        "graph_df = pd.DataFrame() \n",
        "\n",
        "graph_df['text'] = text_count\n",
        "graph_df['summary'] = summary_count\n",
        "\n",
        "graph_df.hist(bins = 5)\n",
        "plt.show()"
      ],
      "id": "azv1UrxyM_6Y"
    },
    {
      "cell_type": "markdown",
      "metadata": {
        "id": "c8K2iZI5XzqZ"
      },
      "source": [
        "### Check how much % of text have 0-150 words"
      ],
      "id": "c8K2iZI5XzqZ"
    },
    {
      "cell_type": "code",
      "execution_count": null,
      "metadata": {
        "colab": {
          "base_uri": "https://localhost:8080/"
        },
        "id": "dRRCWSyFOApg",
        "outputId": "242e30f7-e181-43ff-a6d4-8764fbf3d6fe"
      },
      "outputs": [
        {
          "name": "stdout",
          "output_type": "stream",
          "text": [
            "0.2796154297103998\n"
          ]
        }
      ],
      "source": [
        "cnt = 0\n",
        "for i in prepare_df['cleaned_text']:\n",
        "    if len(i.split()) <= 150:\n",
        "        cnt = cnt + 1\n",
        "print(cnt / len(prepare_df['cleaned_text']))"
      ],
      "id": "dRRCWSyFOApg"
    },
    {
      "cell_type": "markdown",
      "metadata": {
        "id": "MywZxaeHX6qg"
      },
      "source": [
        "### Check how much % of summaries have 0-25 words"
      ],
      "id": "MywZxaeHX6qg"
    },
    {
      "cell_type": "code",
      "execution_count": null,
      "metadata": {
        "colab": {
          "base_uri": "https://localhost:8080/"
        },
        "id": "Jt-nyTNtCXD5",
        "outputId": "c2f58b78-d886-4cc6-c99b-8c1db20f0dde"
      },
      "outputs": [
        {
          "name": "stdout",
          "output_type": "stream",
          "text": [
            "0.2417962246453277\n"
          ]
        }
      ],
      "source": [
        "cnt = 0\n",
        "for i in prepare_df['cleaned_summary']:\n",
        "    if len(i.split()) <= 25:\n",
        "        cnt = cnt + 1\n",
        "print(cnt / len(prepare_df['cleaned_summary']))"
      ],
      "id": "Jt-nyTNtCXD5"
    },
    {
      "cell_type": "markdown",
      "metadata": {
        "id": "nOH7FW_5X_Dm"
      },
      "source": [
        "### Model to summarize the text between 0-25 words for Summary and 0-150 words for Text"
      ],
      "id": "nOH7FW_5X_Dm"
    },
    {
      "cell_type": "code",
      "execution_count": null,
      "metadata": {
        "id": "zNvCIlZ3OcrT"
      },
      "outputs": [],
      "source": [
        "max_text_len = 150\n",
        "max_summary_len = 25"
      ],
      "id": "zNvCIlZ3OcrT"
    },
    {
      "cell_type": "markdown",
      "metadata": {
        "id": "BTXxQUkFYFe7"
      },
      "source": [
        "### Select the Summaries and Text which fall below max length"
      ],
      "id": "BTXxQUkFYFe7"
    },
    {
      "cell_type": "code",
      "execution_count": null,
      "metadata": {
        "colab": {
          "base_uri": "https://localhost:8080/",
          "height": 112
        },
        "id": "76REAaTmOjdM",
        "outputId": "87dc037f-bbf4-4bad-a03a-7bf18d286adb"
      },
      "outputs": [
        {
          "data": {
            "text/html": [
              "\n",
              "  <div id=\"df-2184ad80-650c-4401-8945-5c38aa699c15\">\n",
              "    <div class=\"colab-df-container\">\n",
              "      <div>\n",
              "<style scoped>\n",
              "    .dataframe tbody tr th:only-of-type {\n",
              "        vertical-align: middle;\n",
              "    }\n",
              "\n",
              "    .dataframe tbody tr th {\n",
              "        vertical-align: top;\n",
              "    }\n",
              "\n",
              "    .dataframe thead th {\n",
              "        text-align: right;\n",
              "    }\n",
              "</style>\n",
              "<table border=\"1\" class=\"dataframe\">\n",
              "  <thead>\n",
              "    <tr style=\"text-align: right;\">\n",
              "      <th></th>\n",
              "      <th>text</th>\n",
              "      <th>summary</th>\n",
              "    </tr>\n",
              "  </thead>\n",
              "  <tbody>\n",
              "    <tr>\n",
              "      <th>0</th>\n",
              "      <td>while watching television pay close attention...</td>\n",
              "      <td>_START_  watch television advertisements deter...</td>\n",
              "    </tr>\n",
              "    <tr>\n",
              "      <th>1</th>\n",
              "      <td>the celery stalk should be twice as long or l...</td>\n",
              "      <td>_START_  gather celery stalk and carrot slide ...</td>\n",
              "    </tr>\n",
              "  </tbody>\n",
              "</table>\n",
              "</div>\n",
              "      <button class=\"colab-df-convert\" onclick=\"convertToInteractive('df-2184ad80-650c-4401-8945-5c38aa699c15')\"\n",
              "              title=\"Convert this dataframe to an interactive table.\"\n",
              "              style=\"display:none;\">\n",
              "        \n",
              "  <svg xmlns=\"http://www.w3.org/2000/svg\" height=\"24px\"viewBox=\"0 0 24 24\"\n",
              "       width=\"24px\">\n",
              "    <path d=\"M0 0h24v24H0V0z\" fill=\"none\"/>\n",
              "    <path d=\"M18.56 5.44l.94 2.06.94-2.06 2.06-.94-2.06-.94-.94-2.06-.94 2.06-2.06.94zm-11 1L8.5 8.5l.94-2.06 2.06-.94-2.06-.94L8.5 2.5l-.94 2.06-2.06.94zm10 10l.94 2.06.94-2.06 2.06-.94-2.06-.94-.94-2.06-.94 2.06-2.06.94z\"/><path d=\"M17.41 7.96l-1.37-1.37c-.4-.4-.92-.59-1.43-.59-.52 0-1.04.2-1.43.59L10.3 9.45l-7.72 7.72c-.78.78-.78 2.05 0 2.83L4 21.41c.39.39.9.59 1.41.59.51 0 1.02-.2 1.41-.59l7.78-7.78 2.81-2.81c.8-.78.8-2.07 0-2.86zM5.41 20L4 18.59l7.72-7.72 1.47 1.35L5.41 20z\"/>\n",
              "  </svg>\n",
              "      </button>\n",
              "      \n",
              "  <style>\n",
              "    .colab-df-container {\n",
              "      display:flex;\n",
              "      flex-wrap:wrap;\n",
              "      gap: 12px;\n",
              "    }\n",
              "\n",
              "    .colab-df-convert {\n",
              "      background-color: #E8F0FE;\n",
              "      border: none;\n",
              "      border-radius: 50%;\n",
              "      cursor: pointer;\n",
              "      display: none;\n",
              "      fill: #1967D2;\n",
              "      height: 32px;\n",
              "      padding: 0 0 0 0;\n",
              "      width: 32px;\n",
              "    }\n",
              "\n",
              "    .colab-df-convert:hover {\n",
              "      background-color: #E2EBFA;\n",
              "      box-shadow: 0px 1px 2px rgba(60, 64, 67, 0.3), 0px 1px 3px 1px rgba(60, 64, 67, 0.15);\n",
              "      fill: #174EA6;\n",
              "    }\n",
              "\n",
              "    [theme=dark] .colab-df-convert {\n",
              "      background-color: #3B4455;\n",
              "      fill: #D2E3FC;\n",
              "    }\n",
              "\n",
              "    [theme=dark] .colab-df-convert:hover {\n",
              "      background-color: #434B5C;\n",
              "      box-shadow: 0px 1px 3px 1px rgba(0, 0, 0, 0.15);\n",
              "      filter: drop-shadow(0px 1px 2px rgba(0, 0, 0, 0.3));\n",
              "      fill: #FFFFFF;\n",
              "    }\n",
              "  </style>\n",
              "\n",
              "      <script>\n",
              "        const buttonEl =\n",
              "          document.querySelector('#df-2184ad80-650c-4401-8945-5c38aa699c15 button.colab-df-convert');\n",
              "        buttonEl.style.display =\n",
              "          google.colab.kernel.accessAllowed ? 'block' : 'none';\n",
              "\n",
              "        async function convertToInteractive(key) {\n",
              "          const element = document.querySelector('#df-2184ad80-650c-4401-8945-5c38aa699c15');\n",
              "          const dataTable =\n",
              "            await google.colab.kernel.invokeFunction('convertToInteractive',\n",
              "                                                     [key], {});\n",
              "          if (!dataTable) return;\n",
              "\n",
              "          const docLinkHtml = 'Like what you see? Visit the ' +\n",
              "            '<a target=\"_blank\" href=https://colab.research.google.com/notebooks/data_table.ipynb>data table notebook</a>'\n",
              "            + ' to learn more about interactive tables.';\n",
              "          element.innerHTML = '';\n",
              "          dataTable['output_type'] = 'display_data';\n",
              "          await google.colab.output.renderOutput(dataTable, element);\n",
              "          const docLink = document.createElement('div');\n",
              "          docLink.innerHTML = docLinkHtml;\n",
              "          element.appendChild(docLink);\n",
              "        }\n",
              "      </script>\n",
              "    </div>\n",
              "  </div>\n",
              "  "
            ],
            "text/plain": [
              "                                                text  \\\n",
              "0   while watching television pay close attention...   \n",
              "1   the celery stalk should be twice as long or l...   \n",
              "\n",
              "                                             summary  \n",
              "0  _START_  watch television advertisements deter...  \n",
              "1  _START_  gather celery stalk and carrot slide ...  "
            ]
          },
          "execution_count": 10,
          "metadata": {},
          "output_type": "execute_result"
        }
      ],
      "source": [
        "import numpy as np\n",
        "\n",
        "cleaned_text = np.array(prepare_df['cleaned_text'])\n",
        "cleaned_summary= np.array(prepare_df['cleaned_summary'])\n",
        "\n",
        "short_text = []\n",
        "short_summary = []\n",
        "\n",
        "for i in range(len(cleaned_text)):\n",
        "    if len(cleaned_summary[i].split()) <= max_summary_len and len(cleaned_text[i].split()) <= max_text_len:\n",
        "        short_text.append(cleaned_text[i])\n",
        "        short_summary.append(cleaned_summary[i])\n",
        "        \n",
        "post_pre = pd.DataFrame({'text': short_text,'summary': short_summary})\n",
        "\n",
        "post_pre.head(2)"
      ],
      "id": "76REAaTmOjdM"
    },
    {
      "cell_type": "markdown",
      "metadata": {
        "id": "C9TteGKoYId9"
      },
      "source": [
        "# Add sostok and eostok tokens around the summaries"
      ],
      "id": "C9TteGKoYId9"
    },
    {
      "cell_type": "code",
      "execution_count": null,
      "metadata": {
        "colab": {
          "base_uri": "https://localhost:8080/",
          "height": 112
        },
        "id": "Lw39rVDvO3p1",
        "outputId": "563f6189-6cd5-4670-8951-b5f3f29551e7"
      },
      "outputs": [
        {
          "data": {
            "text/html": [
              "\n",
              "  <div id=\"df-f3e623cd-7dc1-4bcf-bc92-001ccaa02270\">\n",
              "    <div class=\"colab-df-container\">\n",
              "      <div>\n",
              "<style scoped>\n",
              "    .dataframe tbody tr th:only-of-type {\n",
              "        vertical-align: middle;\n",
              "    }\n",
              "\n",
              "    .dataframe tbody tr th {\n",
              "        vertical-align: top;\n",
              "    }\n",
              "\n",
              "    .dataframe thead th {\n",
              "        text-align: right;\n",
              "    }\n",
              "</style>\n",
              "<table border=\"1\" class=\"dataframe\">\n",
              "  <thead>\n",
              "    <tr style=\"text-align: right;\">\n",
              "      <th></th>\n",
              "      <th>text</th>\n",
              "      <th>summary</th>\n",
              "    </tr>\n",
              "  </thead>\n",
              "  <tbody>\n",
              "    <tr>\n",
              "      <th>0</th>\n",
              "      <td>while watching television pay close attention...</td>\n",
              "      <td>sostok _START_  watch television advertisement...</td>\n",
              "    </tr>\n",
              "    <tr>\n",
              "      <th>1</th>\n",
              "      <td>the celery stalk should be twice as long or l...</td>\n",
              "      <td>sostok _START_  gather celery stalk and carrot...</td>\n",
              "    </tr>\n",
              "  </tbody>\n",
              "</table>\n",
              "</div>\n",
              "      <button class=\"colab-df-convert\" onclick=\"convertToInteractive('df-f3e623cd-7dc1-4bcf-bc92-001ccaa02270')\"\n",
              "              title=\"Convert this dataframe to an interactive table.\"\n",
              "              style=\"display:none;\">\n",
              "        \n",
              "  <svg xmlns=\"http://www.w3.org/2000/svg\" height=\"24px\"viewBox=\"0 0 24 24\"\n",
              "       width=\"24px\">\n",
              "    <path d=\"M0 0h24v24H0V0z\" fill=\"none\"/>\n",
              "    <path d=\"M18.56 5.44l.94 2.06.94-2.06 2.06-.94-2.06-.94-.94-2.06-.94 2.06-2.06.94zm-11 1L8.5 8.5l.94-2.06 2.06-.94-2.06-.94L8.5 2.5l-.94 2.06-2.06.94zm10 10l.94 2.06.94-2.06 2.06-.94-2.06-.94-.94-2.06-.94 2.06-2.06.94z\"/><path d=\"M17.41 7.96l-1.37-1.37c-.4-.4-.92-.59-1.43-.59-.52 0-1.04.2-1.43.59L10.3 9.45l-7.72 7.72c-.78.78-.78 2.05 0 2.83L4 21.41c.39.39.9.59 1.41.59.51 0 1.02-.2 1.41-.59l7.78-7.78 2.81-2.81c.8-.78.8-2.07 0-2.86zM5.41 20L4 18.59l7.72-7.72 1.47 1.35L5.41 20z\"/>\n",
              "  </svg>\n",
              "      </button>\n",
              "      \n",
              "  <style>\n",
              "    .colab-df-container {\n",
              "      display:flex;\n",
              "      flex-wrap:wrap;\n",
              "      gap: 12px;\n",
              "    }\n",
              "\n",
              "    .colab-df-convert {\n",
              "      background-color: #E8F0FE;\n",
              "      border: none;\n",
              "      border-radius: 50%;\n",
              "      cursor: pointer;\n",
              "      display: none;\n",
              "      fill: #1967D2;\n",
              "      height: 32px;\n",
              "      padding: 0 0 0 0;\n",
              "      width: 32px;\n",
              "    }\n",
              "\n",
              "    .colab-df-convert:hover {\n",
              "      background-color: #E2EBFA;\n",
              "      box-shadow: 0px 1px 2px rgba(60, 64, 67, 0.3), 0px 1px 3px 1px rgba(60, 64, 67, 0.15);\n",
              "      fill: #174EA6;\n",
              "    }\n",
              "\n",
              "    [theme=dark] .colab-df-convert {\n",
              "      background-color: #3B4455;\n",
              "      fill: #D2E3FC;\n",
              "    }\n",
              "\n",
              "    [theme=dark] .colab-df-convert:hover {\n",
              "      background-color: #434B5C;\n",
              "      box-shadow: 0px 1px 3px 1px rgba(0, 0, 0, 0.15);\n",
              "      filter: drop-shadow(0px 1px 2px rgba(0, 0, 0, 0.3));\n",
              "      fill: #FFFFFF;\n",
              "    }\n",
              "  </style>\n",
              "\n",
              "      <script>\n",
              "        const buttonEl =\n",
              "          document.querySelector('#df-f3e623cd-7dc1-4bcf-bc92-001ccaa02270 button.colab-df-convert');\n",
              "        buttonEl.style.display =\n",
              "          google.colab.kernel.accessAllowed ? 'block' : 'none';\n",
              "\n",
              "        async function convertToInteractive(key) {\n",
              "          const element = document.querySelector('#df-f3e623cd-7dc1-4bcf-bc92-001ccaa02270');\n",
              "          const dataTable =\n",
              "            await google.colab.kernel.invokeFunction('convertToInteractive',\n",
              "                                                     [key], {});\n",
              "          if (!dataTable) return;\n",
              "\n",
              "          const docLinkHtml = 'Like what you see? Visit the ' +\n",
              "            '<a target=\"_blank\" href=https://colab.research.google.com/notebooks/data_table.ipynb>data table notebook</a>'\n",
              "            + ' to learn more about interactive tables.';\n",
              "          element.innerHTML = '';\n",
              "          dataTable['output_type'] = 'display_data';\n",
              "          await google.colab.output.renderOutput(dataTable, element);\n",
              "          const docLink = document.createElement('div');\n",
              "          docLink.innerHTML = docLinkHtml;\n",
              "          element.appendChild(docLink);\n",
              "        }\n",
              "      </script>\n",
              "    </div>\n",
              "  </div>\n",
              "  "
            ],
            "text/plain": [
              "                                                text  \\\n",
              "0   while watching television pay close attention...   \n",
              "1   the celery stalk should be twice as long or l...   \n",
              "\n",
              "                                             summary  \n",
              "0  sostok _START_  watch television advertisement...  \n",
              "1  sostok _START_  gather celery stalk and carrot...  "
            ]
          },
          "execution_count": 11,
          "metadata": {},
          "output_type": "execute_result"
        }
      ],
      "source": [
        "post_pre['summary'] = post_pre['summary'].apply(lambda x: 'sostok ' + x + ' eostok')\n",
        "\n",
        "post_pre.head(2)"
      ],
      "id": "Lw39rVDvO3p1"
    },
    {
      "cell_type": "markdown",
      "metadata": {
        "id": "N-1rOoroYQ1i"
      },
      "source": [
        "## Tokenizing the Text"
      ],
      "id": "N-1rOoroYQ1i"
    },
    {
      "cell_type": "markdown",
      "metadata": {
        "id": "V8gbUhjlYV7l"
      },
      "source": [
        "### Split to train and test data"
      ],
      "id": "V8gbUhjlYV7l"
    },
    {
      "cell_type": "code",
      "execution_count": null,
      "metadata": {
        "id": "prTQP4zBPO49"
      },
      "outputs": [],
      "source": [
        "from sklearn.model_selection import train_test_split\n",
        "\n",
        "x_tr, x_val, y_tr, y_val = train_test_split(np.array(post_pre['text']),np.array(post_pre['summary']), test_size=0.1, random_state=0, shuffle=True)"
      ],
      "id": "prTQP4zBPO49"
    },
    {
      "cell_type": "markdown",
      "metadata": {
        "id": "1LCkNEc0Yf-H"
      },
      "source": [
        "# Prepare a tokenizer on training text data"
      ],
      "id": "1LCkNEc0Yf-H"
    },
    {
      "cell_type": "code",
      "execution_count": null,
      "metadata": {
        "id": "bvZAkc7cPTWD"
      },
      "outputs": [],
      "source": [
        "# Tokenize the text to get the vocab count \n",
        "from tensorflow.keras.preprocessing.text import Tokenizer \n",
        "from tensorflow.keras.preprocessing.sequence import pad_sequences\n",
        "\n",
        "x_tokenizer = Tokenizer() \n",
        "x_tokenizer.fit_on_texts(list(x_tr))"
      ],
      "id": "bvZAkc7cPTWD"
    },
    {
      "cell_type": "markdown",
      "metadata": {
        "id": "fxU7fmQ4Yoi8"
      },
      "source": [
        "### Find the percentage of occurrence of rare words (in less than 5 texts)"
      ],
      "id": "fxU7fmQ4Yoi8"
    },
    {
      "cell_type": "code",
      "execution_count": null,
      "metadata": {
        "colab": {
          "base_uri": "https://localhost:8080/"
        },
        "id": "KMBP9nyURGHi",
        "outputId": "cd833785-08f8-4a04-b127-b41c3e16b9ad"
      },
      "outputs": [
        {
          "name": "stdout",
          "output_type": "stream",
          "text": [
            "% of rare words in vocabulary:  65.61924223644098\n"
          ]
        }
      ],
      "source": [
        "thresh = 5\n",
        "\n",
        "cnt = 0\n",
        "tot_cnt = 0\n",
        "\n",
        "for key, value in x_tokenizer.word_counts.items():\n",
        "    tot_cnt = tot_cnt + 1\n",
        "    if value < thresh:\n",
        "        cnt = cnt + 1\n",
        "    \n",
        "print(\"% of rare words in vocabulary: \", (cnt / tot_cnt) * 100)"
      ],
      "id": "KMBP9nyURGHi"
    },
    {
      "cell_type": "markdown",
      "metadata": {
        "id": "gdLeiCTJYvdS"
      },
      "source": [
        "### Prepare a tokenizer by not considering the rare words"
      ],
      "id": "gdLeiCTJYvdS"
    },
    {
      "cell_type": "code",
      "execution_count": null,
      "metadata": {
        "colab": {
          "base_uri": "https://localhost:8080/"
        },
        "id": "5tp1OHY_RPlk",
        "outputId": "59f8f456-743d-4a6a-acfd-46b88bf54e8e"
      },
      "outputs": [
        {
          "name": "stdout",
          "output_type": "stream",
          "text": [
            "Size of vocabulary in X = 10264\n"
          ]
        }
      ],
      "source": [
        "x_tokenizer = Tokenizer(num_words = tot_cnt - cnt) \n",
        "x_tokenizer.fit_on_texts(list(x_tr))\n",
        "\n",
        "# Convert text sequences to integer sequences \n",
        "x_tr_seq = x_tokenizer.texts_to_sequences(x_tr)\n",
        "x_val_seq = x_tokenizer.texts_to_sequences(x_val)\n",
        "\n",
        "# Pad zero upto maximum length\n",
        "x_tr = pad_sequences(x_tr_seq,  maxlen=max_text_len, padding='post')\n",
        "x_val = pad_sequences(x_val_seq, maxlen=max_text_len, padding='post')\n",
        "\n",
        "# Size of vocabulary (+1 for padding token)\n",
        "x_voc = x_tokenizer.num_words + 1\n",
        "\n",
        "print(\"Size of vocabulary in X = {}\".format(x_voc))"
      ],
      "id": "5tp1OHY_RPlk"
    },
    {
      "cell_type": "markdown",
      "metadata": {
        "id": "ApMCEaIhYzQc"
      },
      "source": [
        "### Prepare a tokenizer on testing data"
      ],
      "id": "ApMCEaIhYzQc"
    },
    {
      "cell_type": "code",
      "execution_count": null,
      "metadata": {
        "colab": {
          "base_uri": "https://localhost:8080/"
        },
        "id": "xAhqCEJJyjGV",
        "outputId": "faeb4c8f-586f-487f-c55b-cabc1e3c6799"
      },
      "outputs": [
        {
          "name": "stdout",
          "output_type": "stream",
          "text": [
            "% of rare words in vocabulary: 72.90037648421662\n",
            "Size of vocabulary in Y = 3744\n"
          ]
        }
      ],
      "source": [
        "y_tokenizer = Tokenizer()   \n",
        "y_tokenizer.fit_on_texts(list(y_tr))\n",
        "\n",
        "thresh = 5\n",
        "\n",
        "cnt = 0\n",
        "tot_cnt = 0\n",
        "\n",
        "for key, value in y_tokenizer.word_counts.items():\n",
        "    tot_cnt = tot_cnt + 1\n",
        "    if value < thresh:\n",
        "        cnt = cnt + 1\n",
        "    \n",
        "print(\"% of rare words in vocabulary:\",(cnt / tot_cnt) * 100)\n",
        "\n",
        "# Prepare a tokenizer by not considering the rare words\n",
        "y_tokenizer = Tokenizer(num_words=tot_cnt-cnt) \n",
        "y_tokenizer.fit_on_texts(list(y_tr))\n",
        "\n",
        "# Convert text sequences to integer sequences \n",
        "y_tr_seq = y_tokenizer.texts_to_sequences(y_tr) \n",
        "y_val_seq = y_tokenizer.texts_to_sequences(y_val) \n",
        "\n",
        "# Pad zero upto maximum length\n",
        "y_tr = pad_sequences(y_tr_seq, maxlen=max_summary_len, padding='post')\n",
        "y_val = pad_sequences(y_val_seq, maxlen=max_summary_len, padding='post')\n",
        "\n",
        "# Size of vocabulary (+1 for padding token)\n",
        "y_voc = y_tokenizer.num_words + 1\n",
        "\n",
        "print(\"Size of vocabulary in Y = {}\".format(y_voc))"
      ],
      "id": "xAhqCEJJyjGV"
    },
    {
      "cell_type": "markdown",
      "metadata": {
        "id": "XiEDu6NcY8iH"
      },
      "source": [
        "### Remove empty Summaries from train data, .i.e, which only have 'START' and 'END' tokens"
      ],
      "id": "XiEDu6NcY8iH"
    },
    {
      "cell_type": "code",
      "execution_count": null,
      "metadata": {
        "id": "cf2vtb-JyrHf"
      },
      "outputs": [],
      "source": [
        "ind = []\n",
        "\n",
        "for i in range(len(y_tr)):\n",
        "    cnt = 0\n",
        "    for j in y_tr[i]:\n",
        "        if j != 0:\n",
        "            cnt = cnt + 1\n",
        "    if cnt == 2:\n",
        "        ind.append(i)\n",
        "\n",
        "y_tr = np.delete(y_tr, ind, axis=0)\n",
        "x_tr = np.delete(x_tr, ind, axis=0)"
      ],
      "id": "cf2vtb-JyrHf"
    },
    {
      "cell_type": "markdown",
      "metadata": {
        "id": "BHJTQmBNZBck"
      },
      "source": [
        "### Remove empty Summaries from validation data, .i.e, which only have 'START' and 'END' tokens"
      ],
      "id": "BHJTQmBNZBck"
    },
    {
      "cell_type": "code",
      "execution_count": null,
      "metadata": {
        "id": "0vJ9b8XTyuF2"
      },
      "outputs": [],
      "source": [
        "ind = []\n",
        "for i in range(len(y_val)):\n",
        "    cnt = 0\n",
        "    for j in y_val[i]:\n",
        "        if j != 0:\n",
        "            cnt = cnt + 1\n",
        "    if cnt == 2:\n",
        "        ind.append(i)\n",
        "\n",
        "y_val = np.delete(y_val, ind, axis=0)\n",
        "x_val = np.delete(x_val, ind, axis=0)"
      ],
      "id": "0vJ9b8XTyuF2"
    },
    {
      "cell_type": "markdown",
      "metadata": {
        "id": "leIc3ji8ZUxm"
      },
      "source": [
        "## ‍Implement Seq2Seq Model"
      ],
      "id": "leIc3ji8ZUxm"
    },
    {
      "cell_type": "markdown",
      "metadata": {
        "id": "n2YN1b-kZXoM"
      },
      "source": [
        "## Imports"
      ],
      "id": "n2YN1b-kZXoM"
    },
    {
      "cell_type": "code",
      "execution_count": null,
      "metadata": {
        "id": "Vm8By_XX3sFr"
      },
      "outputs": [],
      "source": [
        "from tensorflow.keras.preprocessing.text import Tokenizer\n",
        "from tensorflow.keras.preprocessing.sequence import pad_sequences\n",
        "from tensorflow.keras.layers import Input, LSTM, Embedding, Dense, Concatenate, TimeDistributed\n",
        "from tensorflow.keras.models import Model\n",
        "from tensorflow.keras.callbacks import EarlyStopping"
      ],
      "id": "Vm8By_XX3sFr"
    },
    {
      "cell_type": "markdown",
      "metadata": {
        "id": "CrepYgjCZjhh"
      },
      "source": [
        "## Define neural network architecture"
      ],
      "id": "CrepYgjCZjhh"
    },
    {
      "cell_type": "code",
      "execution_count": null,
      "metadata": {
        "colab": {
          "base_uri": "https://localhost:8080/"
        },
        "id": "jSVP2cVO3pk3",
        "outputId": "48bb99ef-fbe1-4802-a2f1-02ea1228ac58"
      },
      "outputs": [
        {
          "name": "stdout",
          "output_type": "stream",
          "text": [
            "Model: \"model\"\n",
            "__________________________________________________________________________________________________\n",
            " Layer (type)                   Output Shape         Param #     Connected to                     \n",
            "==================================================================================================\n",
            " input_1 (InputLayer)           [(None, 150)]        0           []                               \n",
            "                                                                                                  \n",
            " embedding (Embedding)          (None, 150, 200)     2052800     ['input_1[0][0]']                \n",
            "                                                                                                  \n",
            " lstm (LSTM)                    [(None, 150, 300),   601200      ['embedding[0][0]']              \n",
            "                                 (None, 300),                                                     \n",
            "                                 (None, 300)]                                                     \n",
            "                                                                                                  \n",
            " input_2 (InputLayer)           [(None, None)]       0           []                               \n",
            "                                                                                                  \n",
            " lstm_1 (LSTM)                  [(None, 150, 300),   721200      ['lstm[0][0]']                   \n",
            "                                 (None, 300),                                                     \n",
            "                                 (None, 300)]                                                     \n",
            "                                                                                                  \n",
            " embedding_1 (Embedding)        (None, None, 200)    748800      ['input_2[0][0]']                \n",
            "                                                                                                  \n",
            " lstm_2 (LSTM)                  [(None, 150, 300),   721200      ['lstm_1[0][0]']                 \n",
            "                                 (None, 300),                                                     \n",
            "                                 (None, 300)]                                                     \n",
            "                                                                                                  \n",
            " lstm_3 (LSTM)                  [(None, None, 300),  601200      ['embedding_1[0][0]',            \n",
            "                                 (None, 300),                     'lstm_2[0][1]',                 \n",
            "                                 (None, 300)]                     'lstm_2[0][2]']                 \n",
            "                                                                                                  \n",
            " time_distributed (TimeDistribu  (None, None, 3744)  1126944     ['lstm_3[0][0]']                 \n",
            " ted)                                                                                             \n",
            "                                                                                                  \n",
            "==================================================================================================\n",
            "Total params: 6,573,344\n",
            "Trainable params: 6,573,344\n",
            "Non-trainable params: 0\n",
            "__________________________________________________________________________________________________\n"
          ]
        }
      ],
      "source": [
        "latent_dim = 300\n",
        "embedding_dim = 200\n",
        "\n",
        "# Encoder\n",
        "encoder_inputs = Input(shape=(max_text_len, ))\n",
        "\n",
        "# Embedding layer\n",
        "enc_emb = Embedding(x_voc, embedding_dim,\n",
        "                    trainable=True)(encoder_inputs)\n",
        "\n",
        "# Encoder LSTM 1\n",
        "encoder_lstm1 = LSTM(latent_dim, return_sequences=True,\n",
        "                     return_state=True, dropout=0.4,\n",
        "                     recurrent_dropout=0.4)\n",
        "(encoder_output1, state_h1, state_c1) = encoder_lstm1(enc_emb)\n",
        "\n",
        "# Encoder LSTM 2\n",
        "encoder_lstm2 = LSTM(latent_dim, return_sequences=True,\n",
        "                     return_state=True, dropout=0.4,\n",
        "                     recurrent_dropout=0.4)\n",
        "(encoder_output2, state_h2, state_c2) = encoder_lstm2(encoder_output1)\n",
        "\n",
        "# Encoder LSTM 3\n",
        "encoder_lstm3 = LSTM(latent_dim, return_state=True,\n",
        "                     return_sequences=True, dropout=0.4,\n",
        "                     recurrent_dropout=0.4)\n",
        "(encoder_outputs, state_h, state_c) = encoder_lstm3(encoder_output2)\n",
        "\n",
        "# Set up the decoder, using encoder_states as the initial state\n",
        "decoder_inputs = Input(shape=(None, ))\n",
        "\n",
        "# Embedding layer\n",
        "dec_emb_layer = Embedding(y_voc, embedding_dim, trainable=True)\n",
        "dec_emb = dec_emb_layer(decoder_inputs)\n",
        "\n",
        "# Decoder LSTM\n",
        "decoder_lstm = LSTM(latent_dim, return_sequences=True,\n",
        "                    return_state=True, dropout=0.4,\n",
        "                    recurrent_dropout=0.2)\n",
        "(decoder_outputs, decoder_fwd_state, decoder_back_state) = \\\n",
        "    decoder_lstm(dec_emb, initial_state=[state_h, state_c])\n",
        "\n",
        "# Dense layer\n",
        "decoder_dense = TimeDistributed(Dense(y_voc, activation='softmax'))\n",
        "decoder_outputs = decoder_dense(decoder_outputs)\n",
        "\n",
        "# Define the model\n",
        "model = Model([encoder_inputs, decoder_inputs], decoder_outputs)\n",
        "\n",
        "model.summary()"
      ],
      "id": "jSVP2cVO3pk3"
    },
    {
      "cell_type": "markdown",
      "metadata": {
        "id": "gfC4nPFQZrTE"
      },
      "source": [
        "## Train the model"
      ],
      "id": "gfC4nPFQZrTE"
    },
    {
      "cell_type": "code",
      "execution_count": null,
      "metadata": {
        "id": "A3Nmqm7y36t3"
      },
      "outputs": [],
      "source": [
        "model.compile(optimizer='rmsprop', loss='sparse_categorical_crossentropy')\n",
        "\n",
        "es = EarlyStopping(monitor='val_loss', mode='min', verbose=1, patience=2)"
      ],
      "id": "A3Nmqm7y36t3"
    },
    {
      "cell_type": "code",
      "execution_count": null,
      "metadata": {
        "colab": {
          "base_uri": "https://localhost:8080/"
        },
        "id": "QBTZ_mCk39L8",
        "outputId": "8dbef2b5-b715-419d-f1ee-8f3c7eaddc1e"
      },
      "outputs": [
        {
          "output_type": "stream",
          "name": "stdout",
          "text": [
            "Epoch 1/50\n",
            "94/94 [==============================] - 1307s 14s/step - loss: 4.8010 - val_loss: 4.1120\n",
            "Epoch 2/50\n",
            "94/94 [==============================] - 1289s 14s/step - loss: 3.9836 - val_loss: 3.7441\n",
            "Epoch 3/50\n",
            "94/94 [==============================] - 1466s 16s/step - loss: 3.8388 - val_loss: 3.6871\n",
            "Epoch 4/50\n",
            "94/94 [==============================] - 1353s 14s/step - loss: 3.7836 - val_loss: 3.6365\n",
            "Epoch 5/50\n",
            "94/94 [==============================] - 1348s 14s/step - loss: 3.7282 - val_loss: 3.5868\n",
            "Epoch 6/50\n",
            "94/94 [==============================] - 1330s 14s/step - loss: 3.6811 - val_loss: 3.5511\n",
            "Epoch 7/50\n",
            "94/94 [==============================] - 1332s 14s/step - loss: 3.6406 - val_loss: 3.5205\n",
            "Epoch 8/50\n",
            "94/94 [==============================] - 1333s 14s/step - loss: 3.6031 - val_loss: 3.4820\n",
            "Epoch 9/50\n",
            "94/94 [==============================] - 1338s 14s/step - loss: 3.5667 - val_loss: 3.4490\n",
            "Epoch 10/50\n",
            "94/94 [==============================] - 1322s 14s/step - loss: 3.5321 - val_loss: 3.4191\n",
            "Epoch 11/50\n",
            "94/94 [==============================] - 1285s 14s/step - loss: 3.4994 - val_loss: 3.3991\n",
            "Epoch 12/50\n",
            "94/94 [==============================] - 1281s 14s/step - loss: 3.4704 - val_loss: 3.3711\n",
            "Epoch 13/50\n",
            "94/94 [==============================] - 1263s 13s/step - loss: 3.4446 - val_loss: 3.3447\n",
            "Epoch 14/50\n",
            "94/94 [==============================] - 1243s 13s/step - loss: 3.4195 - val_loss: 3.3286\n",
            "Epoch 15/50\n",
            "94/94 [==============================] - 1261s 13s/step - loss: 3.3969 - val_loss: 3.3102\n",
            "Epoch 16/50\n",
            "94/94 [==============================] - 1257s 13s/step - loss: 3.3755 - val_loss: 3.2992\n",
            "Epoch 17/50\n",
            "94/94 [==============================] - 1247s 13s/step - loss: 3.3538 - val_loss: 3.2825\n",
            "Epoch 18/50\n",
            "94/94 [==============================] - 1264s 13s/step - loss: 3.3341 - val_loss: 3.2630\n",
            "Epoch 19/50\n",
            "62/94 [==================>...........] - ETA: 6:56 - loss: 3.3102"
          ]
        }
      ],
      "source": [
        "import tensorflow as tf\n",
        "\n",
        "history = model.fit([x_tr, y_tr[:,:-1]], y_tr.reshape(y_tr.shape[0], y_tr.shape[1], 1)[:,1:], epochs=50, callbacks=[es], batch_size=128, validation_data=([x_val, y_val[:, :-1]], y_val.reshape(y_val.shape[0], y_val.shape[1], 1)[:,1:]))"
      ],
      "id": "QBTZ_mCk39L8"
    },
    {
      "cell_type": "markdown",
      "metadata": {
        "id": "0KoVn2imZzmM"
      },
      "source": [
        "### Plot the training and validation loss metrics"
      ],
      "id": "0KoVn2imZzmM"
    },
    {
      "cell_type": "code",
      "execution_count": null,
      "metadata": {
        "id": "vO7z3tQx4ATH"
      },
      "outputs": [],
      "source": [
        "from matplotlib import pyplot\n",
        "\n",
        "pyplot.plot(history.history['loss'], label='train')\n",
        "pyplot.plot(history.history['val_loss'], label='test')\n",
        "pyplot.legend()\n",
        "pyplot.show()"
      ],
      "id": "vO7z3tQx4ATH"
    },
    {
      "cell_type": "markdown",
      "metadata": {
        "id": "Ggfl3-MSZ3r2"
      },
      "source": [
        "## Generating Predictions"
      ],
      "id": "Ggfl3-MSZ3r2"
    },
    {
      "cell_type": "code",
      "execution_count": null,
      "metadata": {
        "id": "8jsR1eat4F1t"
      },
      "outputs": [],
      "source": [
        "reverse_target_word_index = y_tokenizer.index_word\n",
        "reverse_source_word_index = x_tokenizer.index_word\n",
        "target_word_index = y_tokenizer.word_index"
      ],
      "id": "8jsR1eat4F1t"
    },
    {
      "cell_type": "code",
      "execution_count": null,
      "metadata": {
        "id": "UCzlBET44Ity"
      },
      "outputs": [],
      "source": [
        "# Inference Models\n",
        "\n",
        "# Encode the input sequence to get the feature vector\n",
        "encoder_model = Model(inputs=encoder_inputs, outputs=[encoder_outputs,\n",
        "                      state_h, state_c])\n",
        "\n",
        "# Decoder setup\n",
        "\n",
        "# Below tensors will hold the states of the previous time step\n",
        "decoder_state_input_h = Input(shape=(latent_dim, ))\n",
        "decoder_state_input_c = Input(shape=(latent_dim, ))\n",
        "decoder_hidden_state_input = Input(shape=(max_text_len, latent_dim))\n",
        "\n",
        "# Get the embeddings of the decoder sequence\n",
        "dec_emb2 = dec_emb_layer(decoder_inputs)\n",
        "\n",
        "# To predict the next word in the sequence, set the initial states to the states from the previous time step\n",
        "(decoder_outputs2, state_h2, state_c2) = decoder_lstm(dec_emb2,\n",
        "        initial_state=[decoder_state_input_h, decoder_state_input_c])\n",
        "\n",
        "# A dense softmax layer to generate prob dist. over the target vocabulary\n",
        "decoder_outputs2 = decoder_dense(decoder_outputs2)\n",
        "\n",
        "# Final decoder model\n",
        "decoder_model = Model([decoder_inputs] + [decoder_hidden_state_input,\n",
        "                      decoder_state_input_h, decoder_state_input_c],\n",
        "                      [decoder_outputs2] + [state_h2, state_c2])"
      ],
      "id": "UCzlBET44Ity"
    },
    {
      "cell_type": "code",
      "execution_count": null,
      "metadata": {
        "id": "zlA3IqX34Jpc"
      },
      "outputs": [],
      "source": [
        "def decode_sequence(input_seq):\n",
        "\n",
        "    # Encode the input as state vectors.\n",
        "    (e_out, e_h, e_c) = encoder_model.predict(input_seq)\n",
        "\n",
        "    # Generate empty target sequence of length 1\n",
        "    target_seq = np.zeros((1, 1))\n",
        "\n",
        "    # Populate the first word of target sequence with the start word.\n",
        "    target_seq[0, 0] = target_word_index['sostok']\n",
        "\n",
        "    stop_condition = False\n",
        "    decoded_sentence = ''\n",
        "\n",
        "    while not stop_condition:\n",
        "        (output_tokens, h, c) = decoder_model.predict([target_seq]\n",
        "                + [e_out, e_h, e_c])\n",
        "\n",
        "        # Sample a token\n",
        "        sampled_token_index = np.argmax(output_tokens[0, -1, :])\n",
        "        sampled_token = reverse_target_word_index[sampled_token_index]\n",
        "\n",
        "        if sampled_token != 'eostok':\n",
        "            decoded_sentence += ' ' + sampled_token\n",
        "\n",
        "        # Exit condition: either hit max length or find the stop word.\n",
        "        if sampled_token == 'eostok' or len(decoded_sentence.split()) \\\n",
        "            >= max_summary_len - 1:\n",
        "            stop_condition = True\n",
        "\n",
        "        # Update the target sequence (of length 1)\n",
        "        target_seq = np.zeros((1, 1))\n",
        "        target_seq[0, 0] = sampled_token_index\n",
        "\n",
        "        # Update internal states\n",
        "        (e_h, e_c) = (h, c)\n",
        "\n",
        "    return decoded_sentence"
      ],
      "id": "zlA3IqX34Jpc"
    },
    {
      "cell_type": "code",
      "execution_count": null,
      "metadata": {
        "id": "hXUjO6kK4Ns_"
      },
      "outputs": [],
      "source": [
        "# To convert sequence to summary\n",
        "def seq2summary(input_seq):\n",
        "    newString = ''\n",
        "    for i in input_seq:\n",
        "        if i != 0 and i != target_word_index['sostok'] and i \\\n",
        "            != target_word_index['eostok']:\n",
        "            newString = newString + reverse_target_word_index[i] + ' '\n",
        "\n",
        "    return newString\n",
        "\n",
        "\n",
        "# To convert sequence to text\n",
        "def seq2text(input_seq):\n",
        "    newString = ''\n",
        "    for i in input_seq:\n",
        "        if i != 0:\n",
        "            newString = newString + reverse_source_word_index[i] + ' '\n",
        "\n",
        "    return newString"
      ],
      "id": "hXUjO6kK4Ns_"
    },
    {
      "cell_type": "code",
      "execution_count": null,
      "metadata": {
        "id": "N25_uOx5gJ_c"
      },
      "outputs": [],
      "source": [
        "from rouge import Rouge\n",
        "\n",
        "def evaluate_rouge_score(reference_summaries, generated_summaries):\n",
        "    rouge_scores = []\n",
        "    for reference_summary, generated_summary in zip(reference_summaries, generated_summaries):\n",
        "        reference_summary = ' '.join(reference_summary)\n",
        "        generated_summary = ' '.join(generated_summary)\n",
        "        rouge_scores.append(Rouge().get_scores(generated_summary, reference_summary, avg=True))\n",
        "    return rouge_scores "
      ],
      "id": "N25_uOx5gJ_c"
    },
    {
      "cell_type": "code",
      "execution_count": null,
      "metadata": {
        "id": "Hj7Qp9lOgK4O"
      },
      "outputs": [],
      "source": [
        "from nltk.translate.bleu_score import sentence_bleu\n",
        "\n",
        "def evaluate_bleu_score(reference_summaries, generated_summaries):\n",
        "    bleu_scores = []\n",
        "    for reference_summary, generated_summary in zip(reference_summaries, generated_summaries):\n",
        "        reference_summary = ' '.join(reference_summary)\n",
        "        generated_summary = ' '.join(generated_summary)\n",
        "        bleu_scores.append(sentence_bleu([reference_summary], generated_summary))\n",
        "        \n",
        "    return bleu_scores"
      ],
      "id": "Hj7Qp9lOgK4O"
    },
    {
      "cell_type": "code",
      "execution_count": null,
      "metadata": {
        "id": "rAPpaxaLhBcO"
      },
      "outputs": [],
      "source": [
        "len(x_tr)"
      ],
      "id": "rAPpaxaLhBcO"
    },
    {
      "cell_type": "code",
      "execution_count": null,
      "metadata": {
        "id": "R8pWct8KhEFJ"
      },
      "outputs": [],
      "source": [
        "len(y_tr)"
      ],
      "id": "R8pWct8KhEFJ"
    },
    {
      "cell_type": "code",
      "execution_count": null,
      "metadata": {
        "id": "forhWqWKf43Z"
      },
      "outputs": [],
      "source": [
        "reference_summaries = [seq2summary(summary) for summary in y_tr]\n",
        "\n",
        "print(\"Generating summaries\")\n",
        "generated_summaries = [decode_sequence(x_tr[i].reshape(1, max_text_len)) for text in x_tr]\n",
        "\n",
        "print(\"Evaluating rouge scores\")\n",
        "# Evaluate the generated summaries using the ROUGE score\n",
        "rouge_scores = evaluate_rouge_score(reference_summaries, generated_summaries)\n",
        "\n",
        "total_precision_1 = 0\n",
        "\n",
        "total_recall_1 = 0\n",
        "\n",
        "total_f_1 = 0\n",
        "\n",
        "total_precision_l = 0\n",
        "\n",
        "total_recall_l = 0\n",
        "\n",
        "total_f_l = 0\n",
        "\n",
        "for k in rouge_scores:\n",
        "    total_precision_1 += k['rouge-1']['p']\n",
        "    total_recall_1 += k['rouge-1']['r']\n",
        "    total_f_1 += k['rouge-1']['f']\n",
        "    total_precision_l += k['rouge-l']['p']\n",
        "    total_recall_l += k['rouge-l']['r']\n",
        "    total_f_l += k['rouge-l']['f']\n",
        "\n",
        "print('Average Rouge-1 score precision:', total_precision_1 / i)\n",
        "print('Average Rouge-1 score recall:', total_recall_1 / i)\n",
        "print('Average Rouge-1 score f :', total_f_1 / i)\n",
        "\n",
        "print('Average Rouge-l score precision:', total_precision_l / i)\n",
        "print('Average Rouge-l score recall:', total_recall_l / i)\n",
        "print('Average Rouge-l score f :', total_f_l / i)\n",
        "\n",
        "\n",
        "print(\"Evaluating BLEU scores\")\n",
        "# Evaluate the generated summaries using the BLEU score\n",
        "bleu_scores = evaluate_bleu_score(reference_summaries, generated_summaries)\n",
        "\n",
        "# Average BLEU score\n",
        "avg_bleu_score = sum(bleu_scores) / len(bleu_scores)\n",
        "print(\"Average BLEU score:\", avg_bleu_score)"
      ],
      "id": "forhWqWKf43Z"
    },
    {
      "cell_type": "code",
      "execution_count": null,
      "metadata": {
        "id": "04_J1cNC4QiL"
      },
      "outputs": [],
      "source": [
        "for i in range(0, 19):\n",
        "    print ('Review:', seq2text(x_tr[i]))\n",
        "    print ('Original summary:', seq2summary(y_tr[i]))\n",
        "    print ('Predicted summary:', decode_sequence(x_tr[i].reshape(1, max_text_len)))\n",
        "    print ('\\n')"
      ],
      "id": "04_J1cNC4QiL"
    }
  ],
  "metadata": {
    "colab": {
      "provenance": [],
      "include_colab_link": true
    },
    "kernelspec": {
      "display_name": "venv",
      "language": "python",
      "name": "venv"
    },
    "language_info": {
      "codemirror_mode": {
        "name": "ipython",
        "version": 3
      },
      "file_extension": ".py",
      "mimetype": "text/x-python",
      "name": "python",
      "nbconvert_exporter": "python",
      "pygments_lexer": "ipython3",
      "version": "3.10.8"
    }
  },
  "nbformat": 4,
  "nbformat_minor": 5
}