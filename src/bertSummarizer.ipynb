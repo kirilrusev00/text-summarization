{
 "cells": [
  {
   "cell_type": "markdown",
   "id": "14d278a6",
   "metadata": {},
   "source": [
    "### Install packages"
   ]
  },
  {
   "cell_type": "code",
   "execution_count": 1,
   "id": "8e432776",
   "metadata": {},
   "outputs": [
    {
     "name": "stdout",
     "output_type": "stream",
     "text": [
      "Requirement already satisfied: transformers in /home/vasil/.local/lib/python3.8/site-packages (4.26.1)\n",
      "Requirement already satisfied: packaging>=20.0 in /home/vasil/.local/lib/python3.8/site-packages (from transformers) (21.3)\n",
      "Requirement already satisfied: regex!=2019.12.17 in /home/vasil/.local/lib/python3.8/site-packages (from transformers) (2017.4.5)\n",
      "Requirement already satisfied: pyyaml>=5.1 in /usr/lib/python3/dist-packages (from transformers) (5.3.1)\n",
      "Requirement already satisfied: requests in /home/vasil/.local/lib/python3.8/site-packages (from transformers) (2.28.2)\n",
      "Requirement already satisfied: huggingface-hub<1.0,>=0.11.0 in /home/vasil/.local/lib/python3.8/site-packages (from transformers) (0.12.0)\n",
      "Requirement already satisfied: numpy>=1.17 in /home/vasil/.local/lib/python3.8/site-packages (from transformers) (1.21.5)\n",
      "Requirement already satisfied: filelock in /home/vasil/.local/lib/python3.8/site-packages (from transformers) (3.0.12)\n",
      "Requirement already satisfied: tqdm>=4.27 in /home/vasil/.local/lib/python3.8/site-packages (from transformers) (4.64.1)\n",
      "Requirement already satisfied: tokenizers!=0.11.3,<0.14,>=0.11.1 in /home/vasil/.local/lib/python3.8/site-packages (from transformers) (0.13.2)\n",
      "Requirement already satisfied: pyparsing!=3.0.5,>=2.0.2 in /home/vasil/.local/lib/python3.8/site-packages (from packaging>=20.0->transformers) (3.0.6)\n",
      "Requirement already satisfied: charset-normalizer<4,>=2 in /home/vasil/.local/lib/python3.8/site-packages (from requests->transformers) (3.0.1)\n",
      "Requirement already satisfied: certifi>=2017.4.17 in /usr/lib/python3/dist-packages (from requests->transformers) (2019.11.28)\n",
      "Requirement already satisfied: urllib3<1.27,>=1.21.1 in /usr/lib/python3/dist-packages (from requests->transformers) (1.25.8)\n",
      "Requirement already satisfied: idna<4,>=2.5 in /usr/lib/python3/dist-packages (from requests->transformers) (2.8)\n",
      "Requirement already satisfied: typing-extensions>=3.7.4.3 in /home/vasil/.local/lib/python3.8/site-packages (from huggingface-hub<1.0,>=0.11.0->transformers) (4.5.0)\n",
      "Requirement already satisfied: bert-extractive-summarizer in /home/vasil/.local/lib/python3.8/site-packages (0.10.1)\n",
      "Requirement already satisfied: transformers in /home/vasil/.local/lib/python3.8/site-packages (from bert-extractive-summarizer) (4.26.1)\n",
      "Requirement already satisfied: spacy in /home/vasil/.local/lib/python3.8/site-packages (from bert-extractive-summarizer) (2.0.12)\n",
      "Requirement already satisfied: scikit-learn in /home/vasil/.local/lib/python3.8/site-packages (from bert-extractive-summarizer) (1.2.1)\n",
      "Requirement already satisfied: regex!=2019.12.17 in /home/vasil/.local/lib/python3.8/site-packages (from transformers->bert-extractive-summarizer) (2017.4.5)\n",
      "Requirement already satisfied: requests in /home/vasil/.local/lib/python3.8/site-packages (from transformers->bert-extractive-summarizer) (2.28.2)\n",
      "Requirement already satisfied: huggingface-hub<1.0,>=0.11.0 in /home/vasil/.local/lib/python3.8/site-packages (from transformers->bert-extractive-summarizer) (0.12.0)\n",
      "Requirement already satisfied: tokenizers!=0.11.3,<0.14,>=0.11.1 in /home/vasil/.local/lib/python3.8/site-packages (from transformers->bert-extractive-summarizer) (0.13.2)\n",
      "Requirement already satisfied: pyyaml>=5.1 in /usr/lib/python3/dist-packages (from transformers->bert-extractive-summarizer) (5.3.1)\n",
      "Requirement already satisfied: packaging>=20.0 in /home/vasil/.local/lib/python3.8/site-packages (from transformers->bert-extractive-summarizer) (21.3)\n",
      "Requirement already satisfied: filelock in /home/vasil/.local/lib/python3.8/site-packages (from transformers->bert-extractive-summarizer) (3.0.12)\n",
      "Requirement already satisfied: tqdm>=4.27 in /home/vasil/.local/lib/python3.8/site-packages (from transformers->bert-extractive-summarizer) (4.64.1)\n",
      "Requirement already satisfied: numpy>=1.17 in /home/vasil/.local/lib/python3.8/site-packages (from transformers->bert-extractive-summarizer) (1.21.5)\n",
      "Requirement already satisfied: plac<1.0.0,>=0.9.6 in /home/vasil/.local/lib/python3.8/site-packages (from spacy->bert-extractive-summarizer) (0.9.6)\n",
      "Requirement already satisfied: preshed<2.0.0,>=1.0.0 in /home/vasil/.local/lib/python3.8/site-packages (from spacy->bert-extractive-summarizer) (1.0.1)\n",
      "Requirement already satisfied: thinc<6.11.0,>=6.10.3 in /home/vasil/.local/lib/python3.8/site-packages (from spacy->bert-extractive-summarizer) (6.10.3)\n",
      "Requirement already satisfied: cymem<1.32,>=1.30 in /home/vasil/.local/lib/python3.8/site-packages (from spacy->bert-extractive-summarizer) (1.31.2)\n",
      "Requirement already satisfied: ujson>=1.35 in /home/vasil/.local/lib/python3.8/site-packages (from spacy->bert-extractive-summarizer) (5.7.0)\n",
      "Requirement already satisfied: murmurhash<0.29,>=0.28 in /home/vasil/.local/lib/python3.8/site-packages (from spacy->bert-extractive-summarizer) (0.28.0)\n",
      "Requirement already satisfied: dill<0.3,>=0.2 in /home/vasil/.local/lib/python3.8/site-packages (from spacy->bert-extractive-summarizer) (0.2.9)\n",
      "Requirement already satisfied: joblib>=1.1.1 in /home/vasil/.local/lib/python3.8/site-packages (from scikit-learn->bert-extractive-summarizer) (1.2.0)\n",
      "Requirement already satisfied: threadpoolctl>=2.0.0 in /home/vasil/.local/lib/python3.8/site-packages (from scikit-learn->bert-extractive-summarizer) (3.1.0)\n",
      "Requirement already satisfied: scipy>=1.3.2 in /home/vasil/.local/lib/python3.8/site-packages (from scikit-learn->bert-extractive-summarizer) (1.10.0)\n",
      "Requirement already satisfied: charset-normalizer<4,>=2 in /home/vasil/.local/lib/python3.8/site-packages (from requests->transformers->bert-extractive-summarizer) (3.0.1)\n",
      "Requirement already satisfied: urllib3<1.27,>=1.21.1 in /usr/lib/python3/dist-packages (from requests->transformers->bert-extractive-summarizer) (1.25.8)\n",
      "Requirement already satisfied: idna<4,>=2.5 in /usr/lib/python3/dist-packages (from requests->transformers->bert-extractive-summarizer) (2.8)\n",
      "Requirement already satisfied: certifi>=2017.4.17 in /usr/lib/python3/dist-packages (from requests->transformers->bert-extractive-summarizer) (2019.11.28)\n",
      "Requirement already satisfied: typing-extensions>=3.7.4.3 in /home/vasil/.local/lib/python3.8/site-packages (from huggingface-hub<1.0,>=0.11.0->transformers->bert-extractive-summarizer) (4.5.0)\n",
      "Requirement already satisfied: pyparsing!=3.0.5,>=2.0.2 in /home/vasil/.local/lib/python3.8/site-packages (from packaging>=20.0->transformers->bert-extractive-summarizer) (3.0.6)\n",
      "Requirement already satisfied: cytoolz<0.10,>=0.9.0 in /home/vasil/.local/lib/python3.8/site-packages (from thinc<6.11.0,>=6.10.3->spacy->bert-extractive-summarizer) (0.9.0.1)\n",
      "Requirement already satisfied: wrapt<1.11.0,>=1.10.0 in /home/vasil/.local/lib/python3.8/site-packages (from thinc<6.11.0,>=6.10.3->spacy->bert-extractive-summarizer) (1.10.11)\n",
      "Requirement already satisfied: msgpack-numpy<1.0.0,>=0.4.1 in /home/vasil/.local/lib/python3.8/site-packages (from thinc<6.11.0,>=6.10.3->spacy->bert-extractive-summarizer) (0.4.8)\n",
      "Requirement already satisfied: msgpack<1.0.0,>=0.5.6 in /home/vasil/.local/lib/python3.8/site-packages (from thinc<6.11.0,>=6.10.3->spacy->bert-extractive-summarizer) (0.6.2)\n",
      "Requirement already satisfied: six<2.0.0,>=1.10.0 in /usr/lib/python3/dist-packages (from thinc<6.11.0,>=6.10.3->spacy->bert-extractive-summarizer) (1.14.0)\n",
      "Requirement already satisfied: toolz>=0.8.0 in /home/vasil/.local/lib/python3.8/site-packages (from cytoolz<0.10,>=0.9.0->thinc<6.11.0,>=6.10.3->spacy->bert-extractive-summarizer) (0.12.0)\n"
     ]
    }
   ],
   "source": [
    "!pip install transformers\n",
    "!pip install bert-extractive-summarizer"
   ]
  },
  {
   "cell_type": "code",
   "execution_count": 2,
   "id": "3200503f",
   "metadata": {},
   "outputs": [
    {
     "name": "stdout",
     "output_type": "stream",
     "text": [
      "Collecting spacy==2.0.12\n",
      "  Downloading spacy-2.0.12.tar.gz (22.0 MB)\n",
      "\u001b[K     |████████████████████████████████| 22.0 MB 4.1 MB/s eta 0:00:01\n",
      "\u001b[?25hCollecting cymem<1.32,>=1.30\n",
      "  Downloading cymem-1.31.2.tar.gz (33 kB)\n",
      "Collecting dill<0.3,>=0.2\n",
      "  Downloading dill-0.2.9.tar.gz (150 kB)\n",
      "\u001b[K     |████████████████████████████████| 150 kB 4.8 MB/s eta 0:00:01\n",
      "\u001b[?25hCollecting murmurhash<0.29,>=0.28\n",
      "  Downloading murmurhash-0.28.0.tar.gz (23 kB)\n",
      "Requirement already satisfied: numpy>=1.7 in /home/vasil/.local/lib/python3.8/site-packages (from spacy==2.0.12) (1.21.5)\n",
      "Collecting plac<1.0.0,>=0.9.6\n",
      "  Downloading plac-0.9.6-py2.py3-none-any.whl (20 kB)\n",
      "Collecting preshed<2.0.0,>=1.0.0\n",
      "  Downloading preshed-1.0.1.tar.gz (112 kB)\n",
      "\u001b[K     |████████████████████████████████| 112 kB 5.7 MB/s eta 0:00:01\n",
      "\u001b[?25hCollecting regex==2017.4.5\n",
      "  Downloading regex-2017.04.05.tar.gz (601 kB)\n",
      "\u001b[K     |████████████████████████████████| 601 kB 4.2 MB/s eta 0:00:01\n",
      "\u001b[?25hRequirement already satisfied: requests<3.0.0,>=2.13.0 in /home/vasil/.local/lib/python3.8/site-packages (from spacy==2.0.12) (2.28.2)\n",
      "Collecting thinc<6.11.0,>=6.10.3\n",
      "  Downloading thinc-6.10.3.tar.gz (1.2 MB)\n",
      "\u001b[K     |████████████████████████████████| 1.2 MB 4.5 MB/s eta 0:00:01\n",
      "\u001b[?25hCollecting ujson>=1.35\n",
      "  Downloading ujson-5.7.0-cp38-cp38-manylinux_2_17_x86_64.manylinux2014_x86_64.whl (52 kB)\n",
      "\u001b[K     |████████████████████████████████| 52 kB 2.9 MB/s eta 0:00:011\n",
      "\u001b[?25hRequirement already satisfied: urllib3<1.27,>=1.21.1 in /usr/lib/python3/dist-packages (from requests<3.0.0,>=2.13.0->spacy==2.0.12) (1.25.8)\n",
      "Requirement already satisfied: certifi>=2017.4.17 in /usr/lib/python3/dist-packages (from requests<3.0.0,>=2.13.0->spacy==2.0.12) (2019.11.28)\n",
      "Requirement already satisfied: idna<4,>=2.5 in /usr/lib/python3/dist-packages (from requests<3.0.0,>=2.13.0->spacy==2.0.12) (2.8)\n",
      "Requirement already satisfied: charset-normalizer<4,>=2 in /home/vasil/.local/lib/python3.8/site-packages (from requests<3.0.0,>=2.13.0->spacy==2.0.12) (3.0.1)\n",
      "Collecting cytoolz<0.10,>=0.9.0\n",
      "  Downloading cytoolz-0.9.0.1.tar.gz (443 kB)\n",
      "\u001b[K     |████████████████████████████████| 443 kB 4.6 MB/s eta 0:00:01\n",
      "\u001b[?25hCollecting msgpack-numpy<1.0.0,>=0.4.1\n",
      "  Downloading msgpack_numpy-0.4.8-py2.py3-none-any.whl (6.9 kB)\n",
      "Collecting msgpack<1.0.0,>=0.5.6\n",
      "  Downloading msgpack-0.6.2.tar.gz (119 kB)\n",
      "\u001b[K     |████████████████████████████████| 119 kB 4.4 MB/s eta 0:00:01\n",
      "\u001b[?25hRequirement already satisfied: six<2.0.0,>=1.10.0 in /usr/lib/python3/dist-packages (from thinc<6.11.0,>=6.10.3->spacy==2.0.12) (1.14.0)\n",
      "Requirement already satisfied: tqdm<5.0.0,>=4.10.0 in /home/vasil/.local/lib/python3.8/site-packages (from thinc<6.11.0,>=6.10.3->spacy==2.0.12) (4.64.1)\n",
      "Collecting wrapt<1.11.0,>=1.10.0\n",
      "  Downloading wrapt-1.10.11.tar.gz (27 kB)\n",
      "Collecting toolz>=0.8.0\n",
      "  Downloading toolz-0.12.0-py3-none-any.whl (55 kB)\n",
      "\u001b[K     |████████████████████████████████| 55 kB 4.8 MB/s eta 0:00:01\n",
      "\u001b[?25hBuilding wheels for collected packages: spacy, cymem, dill, murmurhash, preshed, regex, thinc, cytoolz, msgpack, wrapt\n",
      "  Building wheel for spacy (setup.py) ... \u001b[?25ldone\n",
      "\u001b[?25h  Created wheel for spacy: filename=spacy-2.0.12-cp38-cp38-linux_x86_64.whl size=34712436 sha256=c36a242819a02986753baaf219f39858ed79050570f7659427fef42a5ce250f3\n",
      "  Stored in directory: /home/vasil/.cache/pip/wheels/67/4a/62/2c5a7bfe277fe8097fe76262c81df06a873b4491640a515dc4\n",
      "  Building wheel for cymem (setup.py) ... \u001b[?25ldone\n",
      "\u001b[?25h  Created wheel for cymem: filename=cymem-1.31.2-cp38-cp38-linux_x86_64.whl size=101125 sha256=289e618a840165f07707dbb6f134aba58941f8edf682aaa09bfad976f6a9808e\n",
      "  Stored in directory: /home/vasil/.cache/pip/wheels/7d/79/cb/1a676ab9c2ea1be46f7d4ce7c687dac4aac9d45ee9935ed6e3\n",
      "  Building wheel for dill (setup.py) ... \u001b[?25ldone\n",
      "\u001b[?25h  Created wheel for dill: filename=dill-0.2.9-py3-none-any.whl size=77404 sha256=fd78bbbbf1f4483ca402c5c70a3dc553d59f323e9febd6b8565821263fde1114\n",
      "  Stored in directory: /home/vasil/.cache/pip/wheels/da/03/f6/41ff217c2d88b1446b2d593d5b7433b9e823f1ee52e798e4f2\n",
      "  Building wheel for murmurhash (setup.py) ... \u001b[?25ldone\n",
      "\u001b[?25h  Created wheel for murmurhash: filename=murmurhash-0.28.0-cp38-cp38-linux_x86_64.whl size=51762 sha256=a32383e3c9d54707033c4c37f925538285acca27087ec486b672070329ae1bbe\n",
      "  Stored in directory: /home/vasil/.cache/pip/wheels/c4/94/18/da70ce5a85c38612b346994f18e348e28e8c6006f6b2daf784\n",
      "  Building wheel for preshed (setup.py) ... \u001b[?25ldone\n",
      "\u001b[?25h  Created wheel for preshed: filename=preshed-1.0.1-cp38-cp38-linux_x86_64.whl size=446441 sha256=c707bc7fa6128c6de5debe2b8ca2945307be4564cd8bac10d2a00bfb47cdb4a3\n",
      "  Stored in directory: /home/vasil/.cache/pip/wheels/49/19/ca/7c61cfaa11914a9f562cd0d1f3ee745c049d1eef08d458e995\n",
      "  Building wheel for regex (setup.py) ... \u001b[?25ldone\n",
      "\u001b[?25h  Created wheel for regex: filename=regex-2017.4.5-cp38-cp38-linux_x86_64.whl size=683716 sha256=79d1471e97671dde336ff9c1a9fbd9cfd318bd96febce80f28164d99e7837ef5\n",
      "  Stored in directory: /home/vasil/.cache/pip/wheels/45/6d/d9/1c9b861321c9240122cb967b734a80545c9f465be4fcb16f19\n",
      "  Building wheel for thinc (setup.py) ... \u001b[?25ldone\n",
      "\u001b[?25h  Created wheel for thinc: filename=thinc-6.10.3-cp38-cp38-linux_x86_64.whl size=5374762 sha256=814f4cf99f017d84e307c80f604f86b4fad8c3156d7d964ab9a96b346a92d048\n",
      "  Stored in directory: /home/vasil/.cache/pip/wheels/fb/8a/f0/814ec96cace85b0afd73928e7c6396f270d6a61443c9b1ff57\n",
      "  Building wheel for cytoolz (setup.py) ... \u001b[?25ldone\n",
      "\u001b[?25h  Created wheel for cytoolz: filename=cytoolz-0.9.0.1-cp38-cp38-linux_x86_64.whl size=1933925 sha256=bfee4ba26439c798258a22c97dbedd117b76f18f51603d25825793e6c5ad1e94\n",
      "  Stored in directory: /home/vasil/.cache/pip/wheels/6f/49/e5/c1170703a39737d0b37581805c6d5b8cb99a430814e52c7a07\n",
      "  Building wheel for msgpack (setup.py) ... \u001b[?25ldone\n",
      "\u001b[?25h  Created wheel for msgpack: filename=msgpack-0.6.2-cp38-cp38-linux_x86_64.whl size=341688 sha256=e899a0bde3afd0f49aa98d762d37df0c2afaea11bee95d5f206dee4e74c00cf1\n",
      "  Stored in directory: /home/vasil/.cache/pip/wheels/5d/f2/04/0d19c10080b996bef17c908a6243e6e65d8da1a4094a3f604d\n",
      "  Building wheel for wrapt (setup.py) ... \u001b[?25ldone\n",
      "\u001b[?25h  Created wheel for wrapt: filename=wrapt-1.10.11-cp38-cp38-linux_x86_64.whl size=75168 sha256=7633ab8fe958bdf5f5526747cd6093e7e79590d2388017f6299557d3bd75d5d4\n",
      "  Stored in directory: /home/vasil/.cache/pip/wheels/93/8e/c9/a18fa0021f99d9e55a3ce5f2adc4c14b1dd1cab385e6993e2b\n",
      "Successfully built spacy cymem dill murmurhash preshed regex thinc cytoolz msgpack wrapt\n",
      "\u001b[31mERROR: nltk 3.7 has requirement regex>=2021.8.3, but you'll have regex 2017.4.5 which is incompatible.\u001b[0m\n",
      "Installing collected packages: cymem, dill, murmurhash, plac, preshed, regex, toolz, cytoolz, msgpack, msgpack-numpy, wrapt, thinc, ujson, spacy\n",
      "  Attempting uninstall: cymem\n",
      "    Found existing installation: cymem 2.0.7\n",
      "    Uninstalling cymem-2.0.7:\n",
      "      Successfully uninstalled cymem-2.0.7\n",
      "  Attempting uninstall: murmurhash\n",
      "    Found existing installation: murmurhash 1.0.9\n",
      "    Uninstalling murmurhash-1.0.9:\n",
      "      Successfully uninstalled murmurhash-1.0.9\n",
      "  Attempting uninstall: preshed\n",
      "    Found existing installation: preshed 3.0.8\n",
      "    Uninstalling preshed-3.0.8:\n",
      "      Successfully uninstalled preshed-3.0.8\n",
      "  Attempting uninstall: regex\n",
      "    Found existing installation: regex 2022.10.31\n",
      "    Uninstalling regex-2022.10.31:\n",
      "      Successfully uninstalled regex-2022.10.31\n",
      "  Attempting uninstall: thinc\n",
      "    Found existing installation: thinc 8.1.7\n",
      "    Uninstalling thinc-8.1.7:\n",
      "      Successfully uninstalled thinc-8.1.7\n",
      "  Attempting uninstall: spacy\n",
      "    Found existing installation: spacy 3.5.0\n",
      "    Uninstalling spacy-3.5.0:\n",
      "      Successfully uninstalled spacy-3.5.0\n",
      "Successfully installed cymem-1.31.2 cytoolz-0.9.0.1 dill-0.2.9 msgpack-0.6.2 msgpack-numpy-0.4.8 murmurhash-0.28.0 plac-0.9.6 preshed-1.0.1 regex-2017.4.5 spacy-2.0.12 thinc-6.10.3 toolz-0.12.0 ujson-5.7.0 wrapt-1.10.11\n"
     ]
    }
   ],
   "source": []
  },
  {
   "cell_type": "code",
   "execution_count": 15,
   "id": "d59c2426",
   "metadata": {},
   "outputs": [
    {
     "name": "stdout",
     "output_type": "stream",
     "text": [
      "Requirement already up-to-date: transformers in /home/vasil/.local/lib/python3.8/site-packages (4.26.1)\n",
      "Requirement already satisfied, skipping upgrade: filelock in /home/vasil/.local/lib/python3.8/site-packages (from transformers) (3.0.12)\n",
      "Requirement already satisfied, skipping upgrade: numpy>=1.17 in /home/vasil/.local/lib/python3.8/site-packages (from transformers) (1.21.5)\n",
      "Requirement already satisfied, skipping upgrade: regex!=2019.12.17 in /home/vasil/.local/lib/python3.8/site-packages (from transformers) (2017.4.5)\n",
      "Requirement already satisfied, skipping upgrade: pyyaml>=5.1 in /usr/lib/python3/dist-packages (from transformers) (5.3.1)\n",
      "Requirement already satisfied, skipping upgrade: tqdm>=4.27 in /home/vasil/.local/lib/python3.8/site-packages (from transformers) (4.64.1)\n",
      "Requirement already satisfied, skipping upgrade: packaging>=20.0 in /home/vasil/.local/lib/python3.8/site-packages (from transformers) (21.3)\n",
      "Requirement already satisfied, skipping upgrade: tokenizers!=0.11.3,<0.14,>=0.11.1 in /home/vasil/.local/lib/python3.8/site-packages (from transformers) (0.13.2)\n",
      "Requirement already satisfied, skipping upgrade: huggingface-hub<1.0,>=0.11.0 in /home/vasil/.local/lib/python3.8/site-packages (from transformers) (0.12.0)\n",
      "Requirement already satisfied, skipping upgrade: requests in /home/vasil/.local/lib/python3.8/site-packages (from transformers) (2.28.2)\n",
      "Requirement already satisfied, skipping upgrade: pyparsing!=3.0.5,>=2.0.2 in /home/vasil/.local/lib/python3.8/site-packages (from packaging>=20.0->transformers) (3.0.6)\n",
      "Requirement already satisfied, skipping upgrade: typing-extensions>=3.7.4.3 in /home/vasil/.local/lib/python3.8/site-packages (from huggingface-hub<1.0,>=0.11.0->transformers) (4.5.0)\n",
      "Requirement already satisfied, skipping upgrade: idna<4,>=2.5 in /usr/lib/python3/dist-packages (from requests->transformers) (2.8)\n",
      "Requirement already satisfied, skipping upgrade: charset-normalizer<4,>=2 in /home/vasil/.local/lib/python3.8/site-packages (from requests->transformers) (3.0.1)\n",
      "Requirement already satisfied, skipping upgrade: certifi>=2017.4.17 in /usr/lib/python3/dist-packages (from requests->transformers) (2019.11.28)\n",
      "Requirement already satisfied, skipping upgrade: urllib3<1.27,>=1.21.1 in /usr/lib/python3/dist-packages (from requests->transformers) (1.25.8)\n",
      "Requirement already satisfied: torch in /home/vasil/.local/lib/python3.8/site-packages (1.13.1)\n",
      "Requirement already satisfied: nvidia-cuda-runtime-cu11==11.7.99; platform_system == \"Linux\" in /home/vasil/.local/lib/python3.8/site-packages (from torch) (11.7.99)\n",
      "Requirement already satisfied: nvidia-cuda-nvrtc-cu11==11.7.99; platform_system == \"Linux\" in /home/vasil/.local/lib/python3.8/site-packages (from torch) (11.7.99)\n",
      "Requirement already satisfied: typing-extensions in /home/vasil/.local/lib/python3.8/site-packages (from torch) (4.5.0)\n",
      "Requirement already satisfied: nvidia-cublas-cu11==11.10.3.66; platform_system == \"Linux\" in /home/vasil/.local/lib/python3.8/site-packages (from torch) (11.10.3.66)\n",
      "Requirement already satisfied: nvidia-cudnn-cu11==8.5.0.96; platform_system == \"Linux\" in /home/vasil/.local/lib/python3.8/site-packages (from torch) (8.5.0.96)\n",
      "Requirement already satisfied: wheel in /usr/lib/python3/dist-packages (from nvidia-cuda-runtime-cu11==11.7.99; platform_system == \"Linux\"->torch) (0.34.2)\n",
      "Requirement already satisfied: setuptools in /usr/lib/python3/dist-packages (from nvidia-cuda-runtime-cu11==11.7.99; platform_system == \"Linux\"->torch) (45.2.0)\n"
     ]
    }
   ],
   "source": [
    "!pip install --upgrade transformers\n",
    "!pip install torch"
   ]
  },
  {
   "cell_type": "markdown",
   "id": "e06b81f0",
   "metadata": {},
   "source": [
    "### Imports and load dataset"
   ]
  },
  {
   "cell_type": "code",
   "execution_count": 2,
   "id": "fc206e69",
   "metadata": {},
   "outputs": [
    {
     "name": "stderr",
     "output_type": "stream",
     "text": [
      "/home/vasil/.local/lib/python3.8/site-packages/tqdm/auto.py:22: TqdmWarning: IProgress not found. Please update jupyter and ipywidgets. See https://ipywidgets.readthedocs.io/en/stable/user_install.html\n",
      "  from .autonotebook import tqdm as notebook_tqdm\n"
     ]
    }
   ],
   "source": [
    "from summarizer import Summarizer,TransformerSummarizer"
   ]
  },
  {
   "cell_type": "code",
   "execution_count": 3,
   "id": "ef924855",
   "metadata": {},
   "outputs": [],
   "source": [
    "import numpy as np\n",
    "import pandas as pd\n",
    "import nltk\n",
    "import re\n",
    "df = pd.read_csv('../../WikiHow-Dataset/wikihowAll.csv', delimiter=',')"
   ]
  },
  {
   "cell_type": "markdown",
   "id": "45e15bc8",
   "metadata": {},
   "source": [
    "### Preprocessing"
   ]
  },
  {
   "cell_type": "code",
   "execution_count": 24,
   "id": "2ba729e4",
   "metadata": {},
   "outputs": [],
   "source": [
    "from nltk.tokenize import sent_tokenize, word_tokenize\n",
    "\n",
    "def sent_tokenize_summaries(summary):\n",
    "    summary = re.sub(r'[.]+[,]+[\\n]', \".\\n\", summary)\n",
    "    summary = re.sub(r'[\\n]+', \"\", summary)\n",
    "    return sent_tokenize(summary)"
   ]
  },
  {
   "cell_type": "markdown",
   "id": "1b11456b",
   "metadata": {},
   "source": [
    "### Evaluation"
   ]
  },
  {
   "cell_type": "code",
   "execution_count": 5,
   "id": "d594d995",
   "metadata": {},
   "outputs": [],
   "source": [
    "from rouge import Rouge\n",
    "\n",
    "def evaluate_rouge_score(reference_summaries, generated_summaries):\n",
    "    rouge_scores = []\n",
    "    for reference_summary, generated_summary in zip(reference_summaries, generated_summaries):\n",
    "        reference_summary = ' '.join(reference_summary)\n",
    "        generated_summary = ' '.join(generated_summary)\n",
    "        rouge_scores.append(Rouge().get_scores(generated_summary, reference_summary, avg=True))\n",
    "    return rouge_scores    \n"
   ]
  },
  {
   "cell_type": "code",
   "execution_count": 6,
   "id": "8bdd118f",
   "metadata": {},
   "outputs": [],
   "source": [
    "from nltk.translate.bleu_score import sentence_bleu\n",
    "\n",
    "def evaluate_bleu_score(reference_summaries, generated_summaries):\n",
    "    bleu_scores = []\n",
    "    for reference_summary, generated_summary in zip(reference_summaries, generated_summaries):\n",
    "        reference_summary = ' '.join(reference_summary)\n",
    "        generated_summary = ' '.join(generated_summary)\n",
    "        bleu_scores.append(sentence_bleu([reference_summary], generated_summary))\n",
    "        \n",
    "    return bleu_scores"
   ]
  },
  {
   "cell_type": "markdown",
   "id": "a5773a4f",
   "metadata": {},
   "source": [
    "### BERT summarizer"
   ]
  },
  {
   "cell_type": "code",
   "execution_count": 7,
   "id": "531cf47e",
   "metadata": {},
   "outputs": [
    {
     "data": {
      "text/plain": [
       "'\\nKeep related supplies in the same area.,\\nMake an effort to clean a dedicated workspace after every session.,\\nPlace loose supplies in large, clearly visible containers.,\\nUse clotheslines and clips to hang sketches, photos, and reference material.,\\nUse every inch of the room for storage, especially vertical space.,\\nUse chalkboard paint to make space for drafting ideas right on the walls.,\\nPurchase a label maker to make your organization strategy semi-permanent.,\\nMake a habit of throwing out old, excess, or useless stuff each month.'"
      ]
     },
     "execution_count": 7,
     "metadata": {},
     "output_type": "execute_result"
    }
   ],
   "source": [
    "df['headline'][0]"
   ]
  },
  {
   "cell_type": "code",
   "execution_count": 8,
   "id": "221d57fd",
   "metadata": {},
   "outputs": [
    {
     "name": "stderr",
     "output_type": "stream",
     "text": [
      "Some weights of the model checkpoint at bert-large-uncased were not used when initializing BertModel: ['cls.predictions.bias', 'cls.predictions.transform.dense.weight', 'cls.seq_relationship.weight', 'cls.predictions.decoder.weight', 'cls.predictions.transform.LayerNorm.bias', 'cls.seq_relationship.bias', 'cls.predictions.transform.LayerNorm.weight', 'cls.predictions.transform.dense.bias']\n",
      "- This IS expected if you are initializing BertModel from the checkpoint of a model trained on another task or with another architecture (e.g. initializing a BertForSequenceClassification model from a BertForPreTraining model).\n",
      "- This IS NOT expected if you are initializing BertModel from the checkpoint of a model that you expect to be exactly identical (initializing a BertForSequenceClassification model from a BertForSequenceClassification model).\n",
      "/home/vasil/.local/lib/python3.8/site-packages/sklearn/cluster/_kmeans.py:870: FutureWarning: The default value of `n_init` will change from 10 to 'auto' in 1.4. Set the value of `n_init` explicitly to suppress the warning\n",
      "  warnings.warn(\n"
     ]
    },
    {
     "name": "stdout",
     "output_type": "stream",
     "text": [
      "If you're a photographer, keep all the necessary lens, cords, and batteries in the same quadrant of your home or studio. , As visual people, a lot of artist clutter comes from a desire to keep track of supplies visually instead of tucked out of sight. Instead of spending all of your mental energy looking for or storing things, you can just follow the labels, freeing your mind to think about art., If it isn't essential or part of a project, either throw it out or file it away for later. Artists are constantly making new things, experimenting, and making a mess. This is a good thing, but only if you set aside time to declutter.\n",
      "----------------------------\n",
      "[['\\nKeep related supplies in the same area.', 'Make an effort to clean a dedicated workspace after every session.', 'Place loose supplies in large, clearly visible containers.', 'Use clotheslines and clips to hang sketches, photos, and reference material.', 'Use every inch of the room for storage, especially vertical space.', 'Use chalkboard paint to make space for drafting ideas right on the walls.', 'Purchase a label maker to make your organization strategy semi-permanent.', 'Make a habit of throwing out old, excess, or useless stuff each month.']]\n",
      "----------------------------\n",
      "[[\"If you're a photographer, keep all the necessary lens, cords, and batteries in the same quadrant of your home or studio.\", ', As visual people, a lot of artist clutter comes from a desire to keep track of supplies visually instead of tucked out of sight.', \"Instead of spending all of your mental energy looking for or storing things, you can just follow the labels, freeing your mind to think about art., If it isn't essential or part of a project, either throw it out or file it away for later.\", 'Artists are constantly making new things, experimenting, and making a mess.', 'This is a good thing, but only if you set aside time to declutter.']]\n",
      "----------------------------\n",
      "[{'rouge-1': {'r': 0.18181818181818182, 'p': 0.14285714285714285, 'f': 0.15999999507200013}, 'rouge-2': {'r': 0.024691358024691357, 'p': 0.017391304347826087, 'f': 0.020408158415765418}, 'rouge-l': {'r': 0.18181818181818182, 'p': 0.14285714285714285, 'f': 0.15999999507200013}}]\n"
     ]
    }
   ],
   "source": [
    "bert_model = Summarizer()\n",
    "bert_summary = ''.join(bert_model(df['text'][0], min_length=60))\n",
    "print(bert_summary)\n",
    "\n",
    "reference_summaries = [sent_tokenize_summaries(df['headline'][0])]\n",
    "generated_summaries = [sent_tokenize(bert_summary)]\n",
    "\n",
    "print(\"----------------------------\")\n",
    "print(reference_summaries)\n",
    "print(\"----------------------------\")\n",
    "print(generated_summaries)\n",
    "print(\"----------------------------\")\n",
    "print(evaluate_rouge_score(reference_summaries, generated_summaries))"
   ]
  },
  {
   "cell_type": "code",
   "execution_count": 31,
   "id": "4cf87bc7",
   "metadata": {},
   "outputs": [
    {
     "name": "stderr",
     "output_type": "stream",
     "text": [
      "No model was supplied, defaulted to sshleifer/distilbart-cnn-12-6 and revision a4f8f3e (https://huggingface.co/sshleifer/distilbart-cnn-12-6).\n",
      "Using a pipeline without specifying a model name and revision in production is not recommended.\n"
     ]
    },
    {
     "name": "stdout",
     "output_type": "stream",
     "text": [
      " Painting a NeoPopRealist mural requires a suitable location, with the right surface that can be painted . Painting a mural always requires some preparation. You‘ll need equipment and effort, but planning and attention to detail will help you succeed .\n",
      "[{'rouge-1': {'r': 0.15294117647058825, 'p': 0.40625, 'f': 0.22222221824822855}, 'rouge-2': {'r': 0.032, 'p': 0.1111111111111111, 'f': 0.0496894375217008}, 'rouge-l': {'r': 0.15294117647058825, 'p': 0.40625, 'f': 0.22222221824822855}}]\n"
     ]
    }
   ],
   "source": [
    "from transformers import pipeline\n",
    "\n",
    "# Load the pre-trained BERT-based summarization model\n",
    "summarizer = pipeline(\"summarization\")\n",
    "\n",
    "input_text = df['text'][1]\n",
    "\n",
    "# Generate summary using the pre-trained BERT model\n",
    "summary = summarizer(input_text, max_length=120, min_length=30, do_sample=False)\n",
    "\n",
    "# Print the summary\n",
    "print(summary[0]['summary_text'])\n",
    "generated_summaries = [sent_tokenize_summaries(summary[0]['summary_text'])]\n",
    "reference_summaries = [sent_tokenize_summaries(df['headline'][1])]\n",
    "\n",
    "print(evaluate_rouge_score(reference_summaries, generated_summaries))"
   ]
  },
  {
   "cell_type": "code",
   "execution_count": 16,
   "id": "cd704d72",
   "metadata": {},
   "outputs": [],
   "source": [
    "def summarize(article):\n",
    "    summary = summarizer(article, max_length=120, min_length=30, do_sample=False)\n",
    "    return sent_tokenize_summaries(summary[0]['summary_text'])"
   ]
  },
  {
   "cell_type": "code",
   "execution_count": 34,
   "id": "23e1a2a5",
   "metadata": {},
   "outputs": [
    {
     "data": {
      "text/plain": [
       "702"
      ]
     },
     "execution_count": 34,
     "metadata": {},
     "output_type": "execute_result"
    }
   ],
   "source": [
    "len(word_tokenize(input_text))"
   ]
  },
  {
   "cell_type": "code",
   "execution_count": 26,
   "id": "02afa1e2",
   "metadata": {},
   "outputs": [
    {
     "name": "stdout",
     "output_type": "stream",
     "text": [
      "Total number of documents:  11\n"
     ]
    }
   ],
   "source": [
    "headlines = []\n",
    "articles = []\n",
    "i = 0\n",
    "for index, row in df.iterrows():\n",
    "    abstract = row['headline']\n",
    "    article = row['text']\n",
    "    if i > 10:\n",
    "        break\n",
    "    if isinstance(article, str) and isinstance(abstract, str):\n",
    "        if len(abstract) < (0.75 * len(article)) and len(word_tokenize(article)) < 800:\n",
    "            # remove extra commas in abstracts\n",
    "            abstract = re.sub(r'[.]+[,]+[\\n]', \".\\n\", abstract)\n",
    "            abstract = abstract.replace(\".,\", \".\")\n",
    "            # remove extra commas in articles\n",
    "            article = re.sub(r'[.]+[\\n]+[,]', \".\\n\", article)\n",
    "            \n",
    "            headlines.append(abstract)\n",
    "            articles.append(article)\n",
    "            i+=1\n",
    "print(\"Total number of documents: \", i)"
   ]
  },
  {
   "cell_type": "code",
   "execution_count": 27,
   "id": "a90666a6",
   "metadata": {},
   "outputs": [
    {
     "name": "stderr",
     "output_type": "stream",
     "text": [
      "No model was supplied, defaulted to sshleifer/distilbart-cnn-12-6 and revision a4f8f3e (https://huggingface.co/sshleifer/distilbart-cnn-12-6).\n",
      "Using a pipeline without specifying a model name and revision in production is not recommended.\n"
     ]
    },
    {
     "name": "stdout",
     "output_type": "stream",
     "text": [
      "Generating summaries\n",
      "Evaluating rouge scores\n",
      "Average Rouge-1 score precision: 0.2582834356253031\n",
      "Average Rouge-1 score recall: 0.2356337252095572\n",
      "Average Rouge-1 score f : 0.2299792950322822\n",
      "Average Rouge-l score precision: 0.2513941256527422\n",
      "Average Rouge-l score recall: 0.23140426483036416\n",
      "Average Rouge-l score f : 0.22474324734620088\n",
      "Evaluating BLEU scores\n",
      "Average BLEU score: 0.24368166918165093\n"
     ]
    }
   ],
   "source": [
    "from transformers import pipeline\n",
    "\n",
    "reference_summaries = [sent_tokenize_summaries(summary) for summary in headlines]\n",
    "\n",
    "print(\"Generating summaries\")\n",
    "summarizer = pipeline(\"summarization\")\n",
    "generated_summaries = [summarize(text) for text in articles]\n",
    "\n",
    "print(\"Evaluating rouge scores\")\n",
    "# Evaluate the generated summaries using the ROUGE score\n",
    "rouge_scores = evaluate_rouge_score(reference_summaries, generated_summaries)\n",
    "\n",
    "total_precision_1 = 0\n",
    "\n",
    "total_recall_1 = 0\n",
    "\n",
    "total_f_1 = 0\n",
    "\n",
    "total_precision_l = 0\n",
    "\n",
    "total_recall_l = 0\n",
    "\n",
    "total_f_l = 0\n",
    "\n",
    "for k in rouge_scores:\n",
    "    total_precision_1 += k['rouge-1']['p']\n",
    "    total_recall_1 += k['rouge-1']['r']\n",
    "    total_f_1 += k['rouge-1']['f']\n",
    "    total_precision_l += k['rouge-l']['p']\n",
    "    total_recall_l += k['rouge-l']['r']\n",
    "    total_f_l += k['rouge-l']['f']\n",
    "\n",
    "print('Average Rouge-1 score precision:', total_precision_1 / i)\n",
    "print('Average Rouge-1 score recall:', total_recall_1 / i)\n",
    "print('Average Rouge-1 score f :', total_f_1 / i)\n",
    "\n",
    "print('Average Rouge-l score precision:', total_precision_l / i)\n",
    "print('Average Rouge-l score recall:', total_recall_l / i)\n",
    "print('Average Rouge-l score f :', total_f_l / i)\n",
    "\n",
    "\n",
    "print(\"Evaluating BLEU scores\")\n",
    "# Evaluate the generated summaries using the BLEU score\n",
    "bleu_scores = evaluate_bleu_score(reference_summaries, generated_summaries)\n",
    "\n",
    "# Average BLEU score\n",
    "avg_bleu_score = sum(bleu_scores) / len(bleu_scores)\n",
    "print(\"Average BLEU score:\", avg_bleu_score)"
   ]
  },
  {
   "cell_type": "code",
   "execution_count": 19,
   "id": "69a0c35c",
   "metadata": {},
   "outputs": [
    {
     "name": "stdout",
     "output_type": "stream",
     "text": [
      "[[\" As you start planning for a project or work, you'll likely be gathering scraps of inspiration and test sketches .\", 'Organizing your work and progress frees your mind to actually be creative, instead of worrying about logistics .'], [' Your reel is a short video showcasing the breadth and depth of your skills as an artist .', 'If you are enrolled in a VFX program, talk to your career counselors to see what opportunities might be available .', 'Reach out to studios to see if they have any spots for paid or unpaid interns .'], [' Most VFX work situations require that you communicate with a number of people as you complete a task .', 'Join an industry group, such as the Visual Effects Society (VES) Follow their activities and attend events when you can .']]\n"
     ]
    }
   ],
   "source": [
    "print(generated_summaries)"
   ]
  },
  {
   "cell_type": "code",
   "execution_count": 20,
   "id": "36eaefa9",
   "metadata": {},
   "outputs": [
    {
     "name": "stdout",
     "output_type": "stream",
     "text": [
      "[['\\nKeep your reference materials, sketches, articles, photos, etc, in one easy to find place.', 'Make \"studies,\" or practice sketches, to organize effectively for larger projects.', 'Limit the supplies you leave out to the project at hand.', 'Keep an updated list of all of the necessary supplies, and the quantities of each.', 'Break down bigger works into more easily completed parts.'], ['\\nCreate a compelling reel or portfolio.', 'Land an internship.', 'Consider self-employment.', 'Sign on with a design company or studio.', 'Move up to a supervisor position.'], ['\\nJoin a professional society.', 'Enjoy working with a team.', 'Expect long work hours.', 'Spend time on a TV or film set.']]\n"
     ]
    }
   ],
   "source": [
    "print(reference_summaries)"
   ]
  }
 ],
 "metadata": {
  "kernelspec": {
   "display_name": "Python 3 (ipykernel)",
   "language": "python",
   "name": "python3"
  },
  "language_info": {
   "codemirror_mode": {
    "name": "ipython",
    "version": 3
   },
   "file_extension": ".py",
   "mimetype": "text/x-python",
   "name": "python",
   "nbconvert_exporter": "python",
   "pygments_lexer": "ipython3",
   "version": "3.8.10"
  }
 },
 "nbformat": 4,
 "nbformat_minor": 5
}
