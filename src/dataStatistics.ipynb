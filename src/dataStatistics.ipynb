{
 "cells": [
  {
   "cell_type": "code",
   "execution_count": 2,
   "id": "0a2b830d",
   "metadata": {},
   "outputs": [],
   "source": [
    "import numpy as np\n",
    "import pandas as pd\n",
    "import nltk\n",
    "from nltk.corpus import stopwords\n",
    "from nltk.tokenize import sent_tokenize, word_tokenize"
   ]
  },
  {
   "cell_type": "code",
   "execution_count": 3,
   "id": "0acdf5f3",
   "metadata": {},
   "outputs": [],
   "source": [
    "df = pd.read_csv('../../WikiHow-Dataset/wikihowAll.csv', delimiter=',')"
   ]
  },
  {
   "cell_type": "code",
   "execution_count": 4,
   "id": "e76967b1",
   "metadata": {},
   "outputs": [
    {
     "data": {
      "text/html": [
       "<div>\n",
       "<style scoped>\n",
       "    .dataframe tbody tr th:only-of-type {\n",
       "        vertical-align: middle;\n",
       "    }\n",
       "\n",
       "    .dataframe tbody tr th {\n",
       "        vertical-align: top;\n",
       "    }\n",
       "\n",
       "    .dataframe thead th {\n",
       "        text-align: right;\n",
       "    }\n",
       "</style>\n",
       "<table border=\"1\" class=\"dataframe\">\n",
       "  <thead>\n",
       "    <tr style=\"text-align: right;\">\n",
       "      <th></th>\n",
       "      <th>headline</th>\n",
       "      <th>title</th>\n",
       "      <th>text</th>\n",
       "    </tr>\n",
       "  </thead>\n",
       "  <tbody>\n",
       "    <tr>\n",
       "      <th>0</th>\n",
       "      <td>\\nKeep related supplies in the same area.,\\nMa...</td>\n",
       "      <td>How to Be an Organized Artist1</td>\n",
       "      <td>If you're a photographer, keep all the necess...</td>\n",
       "    </tr>\n",
       "    <tr>\n",
       "      <th>1</th>\n",
       "      <td>\\nCreate a sketch in the NeoPopRealist manner ...</td>\n",
       "      <td>How to Create a Neopoprealist Art Work</td>\n",
       "      <td>See the image for how this drawing develops s...</td>\n",
       "    </tr>\n",
       "    <tr>\n",
       "      <th>2</th>\n",
       "      <td>\\nGet a bachelor’s degree.,\\nEnroll in a studi...</td>\n",
       "      <td>How to Be a Visual Effects Artist1</td>\n",
       "      <td>It is possible to become a VFX artist without...</td>\n",
       "    </tr>\n",
       "    <tr>\n",
       "      <th>3</th>\n",
       "      <td>\\nStart with some experience or interest in ar...</td>\n",
       "      <td>How to Become an Art Investor</td>\n",
       "      <td>The best art investors do their research on t...</td>\n",
       "    </tr>\n",
       "    <tr>\n",
       "      <th>4</th>\n",
       "      <td>\\nKeep your reference materials, sketches, art...</td>\n",
       "      <td>How to Be an Organized Artist2</td>\n",
       "      <td>As you start planning for a project or work, ...</td>\n",
       "    </tr>\n",
       "  </tbody>\n",
       "</table>\n",
       "</div>"
      ],
      "text/plain": [
       "                                            headline  \\\n",
       "0  \\nKeep related supplies in the same area.,\\nMa...   \n",
       "1  \\nCreate a sketch in the NeoPopRealist manner ...   \n",
       "2  \\nGet a bachelor’s degree.,\\nEnroll in a studi...   \n",
       "3  \\nStart with some experience or interest in ar...   \n",
       "4  \\nKeep your reference materials, sketches, art...   \n",
       "\n",
       "                                    title  \\\n",
       "0          How to Be an Organized Artist1   \n",
       "1  How to Create a Neopoprealist Art Work   \n",
       "2      How to Be a Visual Effects Artist1   \n",
       "3           How to Become an Art Investor   \n",
       "4          How to Be an Organized Artist2   \n",
       "\n",
       "                                                text  \n",
       "0   If you're a photographer, keep all the necess...  \n",
       "1   See the image for how this drawing develops s...  \n",
       "2   It is possible to become a VFX artist without...  \n",
       "3   The best art investors do their research on t...  \n",
       "4   As you start planning for a project or work, ...  "
      ]
     },
     "execution_count": 4,
     "metadata": {},
     "output_type": "execute_result"
    }
   ],
   "source": [
    "df.head()"
   ]
  },
  {
   "cell_type": "code",
   "execution_count": 5,
   "id": "476da9c3",
   "metadata": {},
   "outputs": [
    {
     "data": {
      "text/plain": [
       "(215365, 3)"
      ]
     },
     "execution_count": 5,
     "metadata": {},
     "output_type": "execute_result"
    }
   ],
   "source": [
    "df.shape"
   ]
  },
  {
   "cell_type": "code",
   "execution_count": 6,
   "id": "56202f48",
   "metadata": {},
   "outputs": [],
   "source": [
    "df=df.dropna()"
   ]
  },
  {
   "cell_type": "code",
   "execution_count": 7,
   "id": "12cc20a3",
   "metadata": {},
   "outputs": [
    {
     "data": {
      "text/plain": [
       "(214294, 3)"
      ]
     },
     "execution_count": 7,
     "metadata": {},
     "output_type": "execute_result"
    }
   ],
   "source": [
    "df.shape"
   ]
  },
  {
   "cell_type": "code",
   "execution_count": 8,
   "id": "4ae3397f",
   "metadata": {},
   "outputs": [
    {
     "data": {
      "text/plain": [
       "31"
      ]
     },
     "execution_count": 8,
     "metadata": {},
     "output_type": "execute_result"
    }
   ],
   "source": [
    "len(sent_tokenize(df['text'][0]))"
   ]
  },
  {
   "cell_type": "code",
   "execution_count": 9,
   "id": "138ec90d",
   "metadata": {},
   "outputs": [
    {
     "data": {
      "text/plain": [
       "[\" If you're a photographer, keep all the necessary lens, cords, and batteries in the same quadrant of your home or studio.\",\n",
       " 'Paints should be kept with brushes, cleaner, and canvas, print supplies should be by the ink, etc.',\n",
       " 'Make broader groups and areas for your supplies to make finding them easier, limiting your search to a much smaller area.',\n",
       " 'Some ideas include:\\n\\n\\nEssential supplies area -- the things you use every day.',\n",
       " 'Inspiration and reference area.',\n",
       " 'Dedicated work area .',\n",
       " 'Infrequent or secondary supplies area, tucked out of the way.',\n",
       " \";\\n, This doesn't mean cleaning the entire studio, it just means keeping the area immediately around the desk, easel, pottery wheel, etc.\",\n",
       " 'clean each night.',\n",
       " 'Discard trash or unnecessary materials and wipe down dirty surfaces.',\n",
       " 'Endeavor to leave the workspace in a way that you can sit down the next day and start working immediately, without having to do any work or tidying.',\n",
       " 'Even if the rest of your studio is a bit disorganized, an organized workspace will help you get down to business every time you want to make art.',\n",
       " ', As visual people, a lot of artist clutter comes from a desire to keep track of supplies visually instead of tucked out of sight.',\n",
       " 'By using jars, old glasses, vases, and cheap, clear plastic drawers, you can keep things in sight without leaving it strewn about haphazardly.',\n",
       " 'Some ideas, beyond those just mentioned, include:\\n\\n\\nCanvas shoe racks on the back of the door\\nWine racks with cups in each slot to hold pens/pencils.',\n",
       " \"Plastic restaurant squirt bottles for paint, pigment, etc., Simply string up the wires across a wall or along the ceiling and use them to hold essential papers that you don't want to cut or ruin with tacks or tape.\",\n",
       " \"Cheap and easy, this is also a good way to handle papers and ideas you touch regularly or need to pin up and down for inspiration., Shelving is an artist's best friend and is a cheap and easy way to get more room in your studio or art space.\",\n",
       " \"Don't be afraid to get up high either, especially for infrequently used supplies.\",\n",
       " 'The upper reaches of the room are often the most under-utilized, but provide vital space for all your tools and materials., Turning one wall into a chalkboard gives you a perfect space for ideas, sketches, and planning without requiring extra equipment or space.',\n",
       " 'You can even use it for smaller areas.',\n",
       " 'Paint over jars or storage equipment, allowing you to relabel them with chalk as your needs change.',\n",
       " ', A lot of disorganization comes when you keep moving the location of things, trying to optimize your space by reorganizing frequently.',\n",
       " 'This usually has the opposite effect, leading to lost items and uncertainty when cleaning, but an afternoon with a label maker can solve everything.',\n",
       " 'Instead of spending all of your mental energy looking for or storing things, you can just follow the labels, freeing your mind to think about art., Once a month, do a purge of your studio.',\n",
       " \"If it isn't essential or part of a project, either throw it out or file it away for later.\",\n",
       " 'Artists are constantly making new things, experimenting, and making a mess.',\n",
       " 'This is a good thing, but only if you set aside time to declutter.',\n",
       " 'It may not be fun at the moment, but it is a lot more fun than spending 30 minutes digging through junk to find the right paint or an old sketch.',\n",
       " \"Don't be sentimental here.\",\n",
       " \"If you haven't used it in the last six months there is little chance you'll use it in the next six months.\",\n",
       " 'Toss it.']"
      ]
     },
     "execution_count": 9,
     "metadata": {},
     "output_type": "execute_result"
    }
   ],
   "source": [
    "sent_tokenize(df['text'][0])"
   ]
  },
  {
   "cell_type": "code",
   "execution_count": 10,
   "id": "c97e3d44",
   "metadata": {},
   "outputs": [
    {
     "name": "stdout",
     "output_type": "stream",
     "text": [
      "Total number of documents:  180127\n",
      "Average number of sentences in articles:  27.714767913749743\n",
      "Average number of sentences in abstracts:  1.2059602391645894\n"
     ]
    }
   ],
   "source": [
    "import re\n",
    "\n",
    "headlines = []\n",
    "articles = []\n",
    "i = 0\n",
    "totalNumberOfSentencesInArtciles = 0\n",
    "totalNumberOfSentencesInAbstracts = 0\n",
    "for index, row in df.iterrows():\n",
    "    abstract = row['headline']\n",
    "    article = row['text']\n",
    "    if isinstance(article, str) and isinstance(abstract, str):\n",
    "        if len(abstract) < (0.75 * len(article)):\n",
    "            i += 1\n",
    "            totalNumberOfSentencesInArtciles += len(sent_tokenize(article))\n",
    "            totalNumberOfSentencesInAbstracts += len(sent_tokenize(abstract))\n",
    "            articles.append(article)\n",
    "\n",
    "print(\"Total number of documents: \", i)\n",
    "print(\"Average number of sentences in articles: \", totalNumberOfSentencesInArtciles / i)\n",
    "print(\"Average number of sentences in abstracts: \", totalNumberOfSentencesInAbstracts / i)"
   ]
  },
  {
   "cell_type": "code",
   "execution_count": 11,
   "id": "86b69343",
   "metadata": {},
   "outputs": [],
   "source": [
    "def generateArticlesAsSingleString(articles):\n",
    "    return \"\\n\".join(articles)   "
   ]
  },
  {
   "cell_type": "code",
   "execution_count": 12,
   "id": "52a36259",
   "metadata": {},
   "outputs": [
    {
     "name": "stdout",
     "output_type": "stream",
     "text": [
      "Dictionary has size:  1255333\n"
     ]
    }
   ],
   "source": [
    "dictionary = {}\n",
    "text = generateArticlesAsSingleString(articles)\n",
    "\n",
    "for doc in [text.split()]:\n",
    "    for w in doc:\n",
    "        if w not in dictionary: dictionary[w] = 0\n",
    "        dictionary[w] += 1\n",
    "L = sorted([(w,dictionary[w]) for w in dictionary], key = lambda x: x[1] , reverse=True)\n",
    "print(\"Dictionary has size: \", len(dictionary))"
   ]
  },
  {
   "cell_type": "code",
   "execution_count": 14,
   "id": "747a70c4",
   "metadata": {},
   "outputs": [
    {
     "name": "stdout",
     "output_type": "stream",
     "text": [
      "[('the', 4292044), ('to', 3209186), ('a', 2350218), ('you', 2313193), ('and', 2160527), ('your', 2028555), ('of', 1772099), ('in', 1097555), ('or', 1087254), ('is', 974540)]\n"
     ]
    }
   ],
   "source": [
    "out = L[0:10]\n",
    "\n",
    "         \n",
    "print(str(out))"
   ]
  },
  {
   "cell_type": "code",
   "execution_count": 32,
   "id": "ffe7bfc1",
   "metadata": {},
   "outputs": [
    {
     "name": "stdout",
     "output_type": "stream",
     "text": [
      " If you're a photographer, keep all the necessary lens, cords, and batteries in the same quadrant of your home or studio. Paints should be kept with brushes, cleaner, and canvas, print supplies should be by the ink, etc. Make broader groups and areas for your supplies to make finding them easier, limiting your search to a much smaller area. Some ideas include:\n",
      "\n",
      "\n",
      "Essential supplies area -- the things you use every day.\n",
      "Inspiration and reference area.\n",
      "Dedicated work area .\n",
      "Infrequent or secondary supplies area, tucked out of the way.;\n",
      ", This doesn't mean cleaning the entire studio, it just means keeping the area immediately around the desk, easel, pottery wheel, etc. clean each night. Discard trash or unnecessary materials and wipe down dirty surfaces. Endeavor to leave the workspace in a way that you can sit down the next day and start working immediately, without having to do any work or tidying.\n",
      "\n",
      "\n",
      "Even if the rest of your studio is a bit disorganized, an organized workspace will help you get down to business every time you want to make art.\n",
      "\n",
      ", As visual people, a lot of artist clutter comes from a desire to keep track of supplies visually instead of tucked out of sight. By using jars, old glasses, vases, and cheap, clear plastic drawers, you can keep things in sight without leaving it strewn about haphazardly. Some ideas, beyond those just mentioned, include:\n",
      "\n",
      "\n",
      "Canvas shoe racks on the back of the door\n",
      "Wine racks with cups in each slot to hold pens/pencils.\n",
      "Plastic restaurant squirt bottles for paint, pigment, etc., Simply string up the wires across a wall or along the ceiling and use them to hold essential papers that you don't want to cut or ruin with tacks or tape. Cheap and easy, this is also a good way to handle papers and ideas you touch regularly or need to pin up and down for inspiration., Shelving is an artist's best friend and is a cheap and easy way to get more room in your studio or art space. Don't be afraid to get up high either, especially for infrequently used supplies. The upper reaches of the room are often the most under-utilized, but provide vital space for all your tools and materials., Turning one wall into a chalkboard gives you a perfect space for ideas, sketches, and planning without requiring extra equipment or space. You can even use it for smaller areas. Paint over jars or storage equipment, allowing you to relabel them with chalk as your needs change.\n",
      "\n",
      ", A lot of disorganization comes when you keep moving the location of things, trying to optimize your space by reorganizing frequently. This usually has the opposite effect, leading to lost items and uncertainty when cleaning, but an afternoon with a label maker can solve everything. Instead of spending all of your mental energy looking for or storing things, you can just follow the labels, freeing your mind to think about art., Once a month, do a purge of your studio. If it isn't essential or part of a project, either throw it out or file it away for later. Artists are constantly making new things, experimenting, and making a mess. This is a good thing, but only if you set aside time to declutter. It may not be fun at the moment, but it is a lot more fun than spending 30 minutes digging through junk to find the right paint or an old sketch.\n",
      "\n",
      "\n",
      "Don't be sentimental here. If you haven't used it in the last six months there is little chance you'll use it in the next six months. Toss it.\n",
      "\n",
      "\n",
      " See the image for how this drawing develops step-by-step. However, there is an important detail: the following drawings are to examine it, and then, to create something unique.\n",
      "\n",
      "\n",
      "Use the lines to create the image shape and sections.\n",
      "Fill appeared sections with different patterns/ ornaments.\n",
      "Add text if needed, for example \"NeoPopRealism is 25!\"\n",
      "Add a colored strip on the top, any color you wish.;\n",
      ", Painting a mural always requires some preparation. You‘ll need equipment and effort, but planning and attention to detail will help you succeed. Painting a mural requires a suitable location, with the right surface that can be painted.\n",
      "\n",
      "This surface should be smooth and flat. However, even rough-textured surfaces can be used for your NeoPopRealist mural project.\n",
      "\n",
      ", For exterior projects that last for years, using a newer 100% acrylic exterior paint would be your best choice. For interior walls, use latex paints. Latex offer easier cleanup and lower costs. By measuring the total wall area to be covered, the total amount of paint can be calculated, but since this mural painting requires two colors - white and black - figuring the actual area to be painted each color is necessary to allow purchasing the right amount of each one.\n",
      "\n",
      "Large walls backgrounds may be rolled or sprayed with a white paint sprayer, where details may be added with brushes.\n",
      "Paints are sensitive to high temperatures, humidity, direct sunlight, however, the interior projects do not have many complications. In public places, keeping the mural protected may require attention. For that reason, if you make your NeoPopRealist mural dedicated to its 25-year anniversary in school or office, you can consider using varnish for your mural.\n",
      "\n",
      ", See sample above. The design will give you a sense of proportion. You will have unique requirements and elements., Use a sketch and measure at scale the distances and locations of various points of your subject. Measuring key features will help you calculate the amount of paint when each feature is identified by its color., If the surface is low, the whole mural can be painted standing on the ground or from a stepladder. For higher work, you may have to rent a scaffold., Mark the horizontal and vertical lines., Use white paint as background., Then begin marking, using your scaled sketch, the location of key elements of objects, located in the foreground. Everything depends on the complexity of your mural. If you are confident in your artistic results, you may choose to draw all of the details in freehand., Be careful, keep clean transition edges from one color (black) to another (white). However, mistakes can be touched up later. Always allow fresh color to dry before proceeding to the drawing., An example would be painting a large patterns use big brushes, limbs, use small brushes for tiny and detailed patterns., If you have a drip or run, paint over it with the color paint appropriate for that location. Sharpen lines and patterns if they are blurred., If it is intended to last a long time or if it is on a surface that require cleaning, overcoat your mural project with a clear sealer., However, if you won't be able to involve more than 16 percent of your brain's grays matter, you'll end up with the primitive crafting of patterns or even worse, with doodling or so-called zen-doodling. But to create the NeoPopRealist ART one needs the abilities, which can be developed in talented people by studying using Nadia Russ' Neopoprealist instructional books. Other, the copycats' self-promotional superficial books will teach you only how to doodle because they have nothing in common with visual arts and its mission.\n",
      "\n",
      "\n",
      " It is possible to become a VFX artist without a college degree, but the path is often easier with one. VFX artists usually major in fine arts, computer graphics, or animation. Choose a college with a reputation for strength in these areas and a reputation for good job placement for graduates. The availability of internships is another factor to consider.Out of the jobs advertised for VFX artists, a majority at any given time specify a bachelor’s degree as a minimum requirement for applicants.;\n",
      ", Some studios offer short-term programs for people who want to learn more about VFX artistry without pursuing a college degree. Enrolling in these programs can be expensive as financial aid isn’t always offered, but they usually have the most cutting edge technology for you to learn from., Although you may create some hand sketches, the majority of your work will be completed on the computer using the most up-to-date programs. Stay informed about the newest software advances by following VFX blogs and taking online computer tutorials.For example, VFX artists are expected to be well-versed in graphics and animation programs, such as Adobe Creative Suite and JavaScript.Clearly list every program that you can work with on your resume.\n",
      "\n",
      ", Hop onto YouTube or another video service and search for VFX clip reels or demonstrations. Some of these videos will focus on a particular skill set, such as shading, which you then can practice on your own. Challenge yourself to mimic some of the more difficult tasks, or even try to improve upon the models used., Take as many art and design classes as you can. Or, simply carry a sketch pad around with you to work on your basic animation skills. As you draw, consider factors such as lighting and framing. Even geometry skills can come in handy when creating a particular type of background or even a person’s face.Make a choice to become an observer of the world around you. Ask yourself: how could I capture the movement of the leaves? Or, in what situations do shadows appear?\n",
      "\n",
      ", Watch all of these creations with an eye for detail. Look for the techniques used and any original approaches that you see. Try to recreate any scenes that you find particularly interesting. Research the artists and see what their backgrounds are and contact them if you like., As you gain more experience, you’ll likely find yourself gravitating toward a certain aspect of design. This will become your “calling card” and directors and other professionals will seek you out for this type of work. To build your specialization, start choosing jobs with that emphasis and attend additional training seminars.For example, some VFX specialists focus on human character’s faces, animal figures, or city backgrounds.\n",
      "\n",
      "\n",
      " The best art investors do their research on the pieces of art that they buy, so someone with some education or interest in the art world is more likely to understand this niche market. As well as personal research, you will need to have contacts with people in the art world, such as auctioneers, gallery directors and dealers, who can give you good investment advice.;\n",
      ", You may confuse these three terms, if you are not careful. Each of them has a slightly different goal in mind when looking to buy art.\n",
      "\n",
      "\n",
      "Art collectors do not buy art for investment purposes. They buy it to decorate and display in their home. Because they consider them to be an important part of their home or life, most art collectors have a hard time parting with pieces of their collection. While many collectors do end up selling some pieces of art, it may be done because of necessity. Collectors often loan their works out to museums and occasionally donate them to museums upon their death.\n",
      "Art investors seek to diversify their portfolio with an art investment. Some investment firms put about two and a half to three percent of their investment money in art. They seek good advice and often buy paintings that are older and have been popular historically, such as paintings by the Old Masters. These investments are kept over decades, and sold off when the market is right, with the investor seeking to get a six to ten percent profit rise per year. These investments are also often made to be given as inheritance to future generations of the family. Art investment is often undertaken by the very wealthy.\n",
      "Art speculators try to invest in art that they believe will appreciate in value. They aim to buy art at a low price from budding artists in the beginning of their careers. Then they hope to sell their work in 10 to 15 years when the artists are at the peak of their careers and people or collectors are willing to pay much more for their pieces. This is a type of investment that takes intimate involvement with the art world and liquidity in order to buy the art.\n",
      "\n",
      ", Art investments should be no more than a small part of your investment portfolio, along with stocks, bonds, new businesses and more. Figure out what your range is before you begin to pick out potential pieces, and get advice from investors and art dealers.\n",
      "\n",
      ", Study the Mei Moses Fine Art Index to get a firm grasp of the art market today. Although they cannot predict what will be popular in the future, they can tell you what art tends to keep its value and be a low-risk and what art has a more volatile market value.\n",
      "\n",
      ", While this is not an absolute rule to follow, paintings from successful artists tend to get better returns than sculpture and installation art.\n",
      "\n",
      ", Get all the information you can out of them before making a purchase. If you are going to buy at auction, be prepared to walk away if the price goes higher than your investment range.\n",
      "\n",
      "\n",
      "Beware of art auctioneers or dealers that promise too high a return on paintings. In many ways, they are just like stock brokers and other financial investment firms, who may promise anything to get a sale. They should be found trustworthy before you buy anything, because ponzi schemes and art market bubbles are part of this investment landscape as well.\n",
      "If you have never bought art in an auction environment before, you may want to seek advice about how it is done properly. You should study the auction booklet before hand, learn about secret buyers and how prices can quickly inflate. Most fine auction houses would be willing to teach you the basics if they see you as a serious investor.\n",
      "\n",
      ", Arrange for payment, shipping and insurance. Each piece of art should be insured and catalogued as part of your estate.\n",
      "\n",
      ", In order for an art investment to retain its value, it should be kept at low-humidity and avoid being marred. You may choose to hang it in your home, but you may want to get an art collector's advice about where to hang it and how to care for it.\n",
      "\n",
      "\n",
      "Share this information with your children, if it is intended as an inheritance investment. They need to be well aware of how to take care of art, or they may lose money or ruin the painting entirely.\n",
      "\n",
      ", As well as keeping tabs on the art world to understand the rise and falls of certain schools of art, an appraiser can tell you how your investment is maturing. They may clue you in on when you have reached your desired profit.\n",
      "\n",
      ", If the art you buy does not fit in your home, and you will only be storing it, research banks, hotels and other institutions that rent fine art on a rotating basis. You may be able to demand thousands of dollars per year for your art to hang in another building. Keep in mind you will need to make sure your art is covered by an insurance policy for loss or damage.\n",
      "\n",
      "\n",
      "Make sure the renter provides insurance for your art. You should prepare a contract that stipulates the time allotted, the fee, the insurance and the shipment of your art.\n",
      "\n",
      ", Unless you employ an art dealer or auction house at the exact moment when the art is in high value, it can take years and thousands of dollars in fees to find the right buyer.\n",
      "\n",
      "\n"
     ]
    }
   ],
   "source": [
    "i = 0\n",
    "for doc in articles:\n",
    "#     for w in doc:\n",
    "    if (i>3):\n",
    "        break\n",
    "    print(doc)\n",
    "    i += 1"
   ]
  }
 ],
 "metadata": {
  "kernelspec": {
   "display_name": "Python 3 (ipykernel)",
   "language": "python",
   "name": "python3"
  },
  "language_info": {
   "codemirror_mode": {
    "name": "ipython",
    "version": 3
   },
   "file_extension": ".py",
   "mimetype": "text/x-python",
   "name": "python",
   "nbconvert_exporter": "python",
   "pygments_lexer": "ipython3",
   "version": "3.8.10"
  }
 },
 "nbformat": 4,
 "nbformat_minor": 5
}
