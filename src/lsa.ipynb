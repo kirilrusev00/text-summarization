{
 "cells": [
  {
   "cell_type": "markdown",
   "id": "3e960fc0",
   "metadata": {},
   "source": [
    "## Imports"
   ]
  },
  {
   "cell_type": "code",
   "execution_count": 11,
   "id": "377126da",
   "metadata": {},
   "outputs": [],
   "source": [
    "import numpy as np\n",
    "import pandas as pd\n",
    "import nltk\n",
    "import re\n",
    "from sklearn.feature_extraction.text import CountVectorizer\n",
    "from sklearn.decomposition import TruncatedSVD\n",
    "from nltk.tokenize import sent_tokenize"
   ]
  },
  {
   "cell_type": "markdown",
   "id": "4319fb70",
   "metadata": {},
   "source": [
    "## Read dataset"
   ]
  },
  {
   "cell_type": "code",
   "execution_count": 2,
   "id": "db3b15a8",
   "metadata": {},
   "outputs": [],
   "source": [
    "df = pd.read_csv('../../WikiHow-Dataset/wikihowAll.csv', delimiter=',')"
   ]
  },
  {
   "cell_type": "code",
   "execution_count": 3,
   "id": "481c477a",
   "metadata": {},
   "outputs": [
    {
     "data": {
      "text/html": [
       "<div>\n",
       "<style scoped>\n",
       "    .dataframe tbody tr th:only-of-type {\n",
       "        vertical-align: middle;\n",
       "    }\n",
       "\n",
       "    .dataframe tbody tr th {\n",
       "        vertical-align: top;\n",
       "    }\n",
       "\n",
       "    .dataframe thead th {\n",
       "        text-align: right;\n",
       "    }\n",
       "</style>\n",
       "<table border=\"1\" class=\"dataframe\">\n",
       "  <thead>\n",
       "    <tr style=\"text-align: right;\">\n",
       "      <th></th>\n",
       "      <th>headline</th>\n",
       "      <th>title</th>\n",
       "      <th>text</th>\n",
       "    </tr>\n",
       "  </thead>\n",
       "  <tbody>\n",
       "    <tr>\n",
       "      <th>0</th>\n",
       "      <td>\\nKeep related supplies in the same area.,\\nMa...</td>\n",
       "      <td>How to Be an Organized Artist1</td>\n",
       "      <td>If you're a photographer, keep all the necess...</td>\n",
       "    </tr>\n",
       "    <tr>\n",
       "      <th>1</th>\n",
       "      <td>\\nCreate a sketch in the NeoPopRealist manner ...</td>\n",
       "      <td>How to Create a Neopoprealist Art Work</td>\n",
       "      <td>See the image for how this drawing develops s...</td>\n",
       "    </tr>\n",
       "    <tr>\n",
       "      <th>2</th>\n",
       "      <td>\\nGet a bachelor’s degree.,\\nEnroll in a studi...</td>\n",
       "      <td>How to Be a Visual Effects Artist1</td>\n",
       "      <td>It is possible to become a VFX artist without...</td>\n",
       "    </tr>\n",
       "    <tr>\n",
       "      <th>3</th>\n",
       "      <td>\\nStart with some experience or interest in ar...</td>\n",
       "      <td>How to Become an Art Investor</td>\n",
       "      <td>The best art investors do their research on t...</td>\n",
       "    </tr>\n",
       "    <tr>\n",
       "      <th>4</th>\n",
       "      <td>\\nKeep your reference materials, sketches, art...</td>\n",
       "      <td>How to Be an Organized Artist2</td>\n",
       "      <td>As you start planning for a project or work, ...</td>\n",
       "    </tr>\n",
       "  </tbody>\n",
       "</table>\n",
       "</div>"
      ],
      "text/plain": [
       "                                            headline  \\\n",
       "0  \\nKeep related supplies in the same area.,\\nMa...   \n",
       "1  \\nCreate a sketch in the NeoPopRealist manner ...   \n",
       "2  \\nGet a bachelor’s degree.,\\nEnroll in a studi...   \n",
       "3  \\nStart with some experience or interest in ar...   \n",
       "4  \\nKeep your reference materials, sketches, art...   \n",
       "\n",
       "                                    title  \\\n",
       "0          How to Be an Organized Artist1   \n",
       "1  How to Create a Neopoprealist Art Work   \n",
       "2      How to Be a Visual Effects Artist1   \n",
       "3           How to Become an Art Investor   \n",
       "4          How to Be an Organized Artist2   \n",
       "\n",
       "                                                text  \n",
       "0   If you're a photographer, keep all the necess...  \n",
       "1   See the image for how this drawing develops s...  \n",
       "2   It is possible to become a VFX artist without...  \n",
       "3   The best art investors do their research on t...  \n",
       "4   As you start planning for a project or work, ...  "
      ]
     },
     "execution_count": 3,
     "metadata": {},
     "output_type": "execute_result"
    }
   ],
   "source": [
    "df.head()"
   ]
  },
  {
   "cell_type": "code",
   "execution_count": 4,
   "id": "c7953ea6",
   "metadata": {},
   "outputs": [],
   "source": [
    "df = df.dropna()"
   ]
  },
  {
   "cell_type": "markdown",
   "id": "59efb84c",
   "metadata": {},
   "source": [
    "## Text preprocessing"
   ]
  },
  {
   "cell_type": "code",
   "execution_count": 5,
   "id": "ac47ddca",
   "metadata": {},
   "outputs": [],
   "source": [
    "headlines = []\n",
    "articles = []\n",
    "    \n",
    "def preprocess_data(data_frame, doc_count = 100):\n",
    "    i = 0\n",
    "\n",
    "    for index, row in data_frame.iterrows():\n",
    "        abstract = row['headline']\n",
    "        article = row['text']\n",
    "        \n",
    "        if i > doc_count:\n",
    "            break\n",
    "    \n",
    "        if isinstance(article, str) and isinstance(abstract, str):\n",
    "            #  a threshold is used to remove short articles with long summaries as well as articles with no summary\n",
    "            if len(abstract) < (0.75 * len(article)):\n",
    "                # remove extra commas in abstracts\n",
    "                abstract = re.sub(r'[.]+[,]+[\\n]', \".\\n\", abstract)\n",
    "                abstract = abstract.replace(\".,\", \".\")\n",
    "                # remove extra commas in articles\n",
    "                article = re.sub(r'[.]+[\\n]+[,]', \".\\n\", article)\n",
    "                \n",
    "                headlines.append(abstract)\n",
    "                articles.append(article)\n",
    "                i+=1"
   ]
  },
  {
   "cell_type": "code",
   "execution_count": 6,
   "id": "44bd7cc1",
   "metadata": {},
   "outputs": [],
   "source": [
    "def sent_tokenize_summaries(summary):\n",
    "    summary = re.sub(r'[.]+[,]+[\\n]', \".\\n\", summary)\n",
    "    return sent_tokenize(summary)"
   ]
  },
  {
   "cell_type": "markdown",
   "id": "0dd1653b",
   "metadata": {},
   "source": [
    "## LSA algorithm"
   ]
  },
  {
   "cell_type": "code",
   "execution_count": 7,
   "id": "0822c5d0",
   "metadata": {},
   "outputs": [],
   "source": [
    "def lsa(text, n = 3):\n",
    "    summaries = []\n",
    "    preprocessed_sentences = sent_tokenize(text)\n",
    "\n",
    "    vectorizer = CountVectorizer(stop_words = 'english')\n",
    "    bag_of_words = vectorizer.fit_transform(preprocessed_sentences)\n",
    "\n",
    "    svd = TruncatedSVD(n_components = n)\n",
    "    lsa = svd.fit_transform(bag_of_words)\n",
    "\n",
    "    i = 0\n",
    "    while i < n:\n",
    "        iterator = list(map(lambda lsa_scores: lsa_scores[i], lsa))\n",
    "        max_value = max(iterator)\n",
    "        index = iterator.index(max_value)\n",
    "        sentence = preprocessed_sentences[index]\n",
    "        summaries.append(sentence)\n",
    "        i += 1\n",
    "\n",
    "    return summaries"
   ]
  },
  {
   "cell_type": "code",
   "execution_count": 8,
   "id": "ecf4aa0b",
   "metadata": {},
   "outputs": [],
   "source": [
    "def summarize(text, n = 3):\n",
    "    return lsa(text, n)"
   ]
  },
  {
   "cell_type": "markdown",
   "id": "779ff221",
   "metadata": {},
   "source": [
    "## Evaluation"
   ]
  },
  {
   "cell_type": "code",
   "execution_count": 9,
   "id": "8b6efc1e",
   "metadata": {},
   "outputs": [],
   "source": [
    "from nltk.translate.bleu_score import sentence_bleu\n",
    "\n",
    "def evaluate_bleu_score(reference_summaries, generated_summaries):\n",
    "    bleu_scores = []\n",
    "    for reference_summary, generated_summary in zip(reference_summaries, generated_summaries):\n",
    "        reference_summary = ' '.join(reference_summary)\n",
    "        generated_summary = ' '.join(generated_summary)\n",
    "        bleu_scores.append(sentence_bleu([reference_summary], generated_summary))\n",
    "        \n",
    "    return bleu_scores"
   ]
  },
  {
   "cell_type": "markdown",
   "id": "68eb2a5c",
   "metadata": {},
   "source": [
    "## Generate and evaluate summaries on the WikiHow dataset¶"
   ]
  },
  {
   "cell_type": "code",
   "execution_count": 12,
   "id": "dc05ff92",
   "metadata": {},
   "outputs": [
    {
     "name": "stdout",
     "output_type": "stream",
     "text": [
      "Total number of documents:  100\n"
     ]
    }
   ],
   "source": [
    "i = 100\n",
    "\n",
    "preprocess_data(df, i)\n",
    "\n",
    "print(\"Total number of documents: \", i)"
   ]
  },
  {
   "cell_type": "code",
   "execution_count": 13,
   "id": "a9451bf6",
   "metadata": {},
   "outputs": [
    {
     "name": "stdout",
     "output_type": "stream",
     "text": [
      "Generating summaries\n",
      "Evaluating BLEU scores\n",
      "Average BLEU score: 0.2538879568251714\n"
     ]
    }
   ],
   "source": [
    "reference_summaries = [sent_tokenize_summaries(summary) for summary in headlines]\n",
    "print(\"Generating summaries\")\n",
    "\n",
    "generated_summaries = [summarize(text) for text in articles]\n",
    "\n",
    "print(\"Evaluating BLEU scores\")\n",
    "# Evaluate the generated summaries using the BLEU score\n",
    "bleu_scores = evaluate_bleu_score(reference_summaries, generated_summaries)\n",
    "\n",
    "# Average BLEU score\n",
    "avg_bleu_score = sum(bleu_scores) / len(bleu_scores)\n",
    "print(\"Average BLEU score:\", avg_bleu_score)"
   ]
  },
  {
   "cell_type": "markdown",
   "id": "cdb9fbf2",
   "metadata": {},
   "source": [
    "## Demo"
   ]
  },
  {
   "cell_type": "code",
   "execution_count": 14,
   "id": "04eef204",
   "metadata": {},
   "outputs": [
    {
     "name": "stdout",
     "output_type": "stream",
     "text": [
      "\n",
      "Keep related supplies in the same area.\n",
      "Make an effort to clean a dedicated workspace after every session.\n",
      "Place loose supplies in large, clearly visible containers.\n",
      "Use clotheslines and clips to hang sketches, photos, and reference material.\n",
      "Use every inch of the room for storage, especially vertical space.\n",
      "Use chalkboard paint to make space for drafting ideas right on the walls.\n",
      "Purchase a label maker to make your organization strategy semi-permanent.\n",
      "Make a habit of throwing out old, excess, or useless stuff each month.\n",
      "-------------------------------\n",
      " If you're a photographer, keep all the necessary lens, cords, and batteries in the same quadrant of your home or studio. Paints should be kept with brushes, cleaner, and canvas, print supplies should be by the ink, etc. Make broader groups and areas for your supplies to make finding them easier, limiting your search to a much smaller area. Some ideas include:\n",
      "\n",
      "\n",
      "Essential supplies area -- the things you use every day.\n",
      "Inspiration and reference area.\n",
      "Dedicated work area .\n",
      "Infrequent or secondary supplies area, tucked out of the way.;\n",
      ", This doesn't mean cleaning the entire studio, it just means keeping the area immediately around the desk, easel, pottery wheel, etc. clean each night. Discard trash or unnecessary materials and wipe down dirty surfaces. Endeavor to leave the workspace in a way that you can sit down the next day and start working immediately, without having to do any work or tidying.\n",
      "\n",
      "\n",
      "Even if the rest of your studio is a bit disorganized, an organized workspace will help you get down to business every time you want to make art.\n",
      " As visual people, a lot of artist clutter comes from a desire to keep track of supplies visually instead of tucked out of sight. By using jars, old glasses, vases, and cheap, clear plastic drawers, you can keep things in sight without leaving it strewn about haphazardly. Some ideas, beyond those just mentioned, include:\n",
      "\n",
      "\n",
      "Canvas shoe racks on the back of the door\n",
      "Wine racks with cups in each slot to hold pens/pencils.\n",
      "Plastic restaurant squirt bottles for paint, pigment, etc., Simply string up the wires across a wall or along the ceiling and use them to hold essential papers that you don't want to cut or ruin with tacks or tape. Cheap and easy, this is also a good way to handle papers and ideas you touch regularly or need to pin up and down for inspiration., Shelving is an artist's best friend and is a cheap and easy way to get more room in your studio or art space. Don't be afraid to get up high either, especially for infrequently used supplies. The upper reaches of the room are often the most under-utilized, but provide vital space for all your tools and materials., Turning one wall into a chalkboard gives you a perfect space for ideas, sketches, and planning without requiring extra equipment or space. You can even use it for smaller areas. Paint over jars or storage equipment, allowing you to relabel them with chalk as your needs change.\n",
      " A lot of disorganization comes when you keep moving the location of things, trying to optimize your space by reorganizing frequently. This usually has the opposite effect, leading to lost items and uncertainty when cleaning, but an afternoon with a label maker can solve everything. Instead of spending all of your mental energy looking for or storing things, you can just follow the labels, freeing your mind to think about art., Once a month, do a purge of your studio. If it isn't essential or part of a project, either throw it out or file it away for later. Artists are constantly making new things, experimenting, and making a mess. This is a good thing, but only if you set aside time to declutter. It may not be fun at the moment, but it is a lot more fun than spending 30 minutes digging through junk to find the right paint or an old sketch.\n",
      "\n",
      "\n",
      "Don't be sentimental here. If you haven't used it in the last six months there is little chance you'll use it in the next six months. Toss it.\n",
      "\n",
      "\n"
     ]
    }
   ],
   "source": [
    "print(headlines[0])\n",
    "print(\"-------------------------------\")\n",
    "print(articles[0])"
   ]
  },
  {
   "cell_type": "code",
   "execution_count": 15,
   "id": "caf5fc96",
   "metadata": {},
   "outputs": [
    {
     "name": "stdout",
     "output_type": "stream",
     "text": [
      "[['\\nKeep related supplies in the same area.', 'Make an effort to clean a dedicated workspace after every session.', 'Place loose supplies in large, clearly visible containers.', 'Use clotheslines and clips to hang sketches, photos, and reference material.', 'Use every inch of the room for storage, especially vertical space.', 'Use chalkboard paint to make space for drafting ideas right on the walls.', 'Purchase a label maker to make your organization strategy semi-permanent.', 'Make a habit of throwing out old, excess, or useless stuff each month.']]\n",
      "---------------------------------------------\n",
      "[[\"Cheap and easy, this is also a good way to handle papers and ideas you touch regularly or need to pin up and down for inspiration., Shelving is an artist's best friend and is a cheap and easy way to get more room in your studio or art space.\", 'The upper reaches of the room are often the most under-utilized, but provide vital space for all your tools and materials., Turning one wall into a chalkboard gives you a perfect space for ideas, sketches, and planning without requiring extra equipment or space.', \"Plastic restaurant squirt bottles for paint, pigment, etc., Simply string up the wires across a wall or along the ceiling and use them to hold essential papers that you don't want to cut or ruin with tacks or tape.\"]]\n",
      "---------------------------------------------\n",
      "BLEU score: 0.3613380401706271\n"
     ]
    }
   ],
   "source": [
    "reference_summaries = [sent_tokenize_summaries(df['headline'][0])]\n",
    "generated_summaries = [summarize(df['text'][0])]\n",
    "\n",
    "print(reference_summaries)\n",
    "print(\"---------------------------------------------\")\n",
    "print(generated_summaries)\n",
    "print(\"---------------------------------------------\")\n",
    "# Evaluate the generated summaries using the BLEU score\n",
    "bleu_score = evaluate_bleu_score(reference_summaries, generated_summaries)[0]\n",
    "print('BLEU score:', bleu_score)"
   ]
  },
  {
   "cell_type": "code",
   "execution_count": null,
   "id": "5d516e38",
   "metadata": {},
   "outputs": [],
   "source": []
  }
 ],
 "metadata": {
  "kernelspec": {
   "display_name": "Python 3 (ipykernel)",
   "language": "python",
   "name": "python3"
  },
  "language_info": {
   "codemirror_mode": {
    "name": "ipython",
    "version": 3
   },
   "file_extension": ".py",
   "mimetype": "text/x-python",
   "name": "python",
   "nbconvert_exporter": "python",
   "pygments_lexer": "ipython3",
   "version": "3.10.8"
  }
 },
 "nbformat": 4,
 "nbformat_minor": 5
}
