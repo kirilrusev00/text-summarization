{
 "cells": [
  {
   "cell_type": "code",
   "execution_count": 1,
   "id": "ffee092a",
   "metadata": {},
   "outputs": [
    {
     "name": "stderr",
     "output_type": "stream",
     "text": [
      "[nltk_data] Downloading package punkt to /home/vasil/nltk_data...\n",
      "[nltk_data]   Package punkt is already up-to-date!\n"
     ]
    }
   ],
   "source": [
    "import numpy as np\n",
    "import pandas as pd\n",
    "import nltk\n",
    "from nltk.corpus import stopwords\n",
    "from nltk.tokenize import sent_tokenize, word_tokenize\n",
    "nltk.download('punkt') # one time execution\n",
    "import re\n",
    "import networkx as nx\n",
    "from sklearn.metrics.pairwise import cosine_similarity"
   ]
  },
  {
   "cell_type": "code",
   "execution_count": 2,
   "id": "4444f359",
   "metadata": {},
   "outputs": [],
   "source": [
    "df = pd.read_csv('../../WikiHow-Dataset/wikihowAll.csv', delimiter=',')"
   ]
  },
  {
   "cell_type": "code",
   "execution_count": 3,
   "id": "cb83d11b",
   "metadata": {},
   "outputs": [
    {
     "data": {
      "text/html": [
       "<div>\n",
       "<style scoped>\n",
       "    .dataframe tbody tr th:only-of-type {\n",
       "        vertical-align: middle;\n",
       "    }\n",
       "\n",
       "    .dataframe tbody tr th {\n",
       "        vertical-align: top;\n",
       "    }\n",
       "\n",
       "    .dataframe thead th {\n",
       "        text-align: right;\n",
       "    }\n",
       "</style>\n",
       "<table border=\"1\" class=\"dataframe\">\n",
       "  <thead>\n",
       "    <tr style=\"text-align: right;\">\n",
       "      <th></th>\n",
       "      <th>headline</th>\n",
       "      <th>title</th>\n",
       "      <th>text</th>\n",
       "    </tr>\n",
       "  </thead>\n",
       "  <tbody>\n",
       "    <tr>\n",
       "      <th>0</th>\n",
       "      <td>\\nKeep related supplies in the same area.,\\nMa...</td>\n",
       "      <td>How to Be an Organized Artist1</td>\n",
       "      <td>If you're a photographer, keep all the necess...</td>\n",
       "    </tr>\n",
       "    <tr>\n",
       "      <th>1</th>\n",
       "      <td>\\nCreate a sketch in the NeoPopRealist manner ...</td>\n",
       "      <td>How to Create a Neopoprealist Art Work</td>\n",
       "      <td>See the image for how this drawing develops s...</td>\n",
       "    </tr>\n",
       "    <tr>\n",
       "      <th>2</th>\n",
       "      <td>\\nGet a bachelor’s degree.,\\nEnroll in a studi...</td>\n",
       "      <td>How to Be a Visual Effects Artist1</td>\n",
       "      <td>It is possible to become a VFX artist without...</td>\n",
       "    </tr>\n",
       "    <tr>\n",
       "      <th>3</th>\n",
       "      <td>\\nStart with some experience or interest in ar...</td>\n",
       "      <td>How to Become an Art Investor</td>\n",
       "      <td>The best art investors do their research on t...</td>\n",
       "    </tr>\n",
       "    <tr>\n",
       "      <th>4</th>\n",
       "      <td>\\nKeep your reference materials, sketches, art...</td>\n",
       "      <td>How to Be an Organized Artist2</td>\n",
       "      <td>As you start planning for a project or work, ...</td>\n",
       "    </tr>\n",
       "  </tbody>\n",
       "</table>\n",
       "</div>"
      ],
      "text/plain": [
       "                                            headline  \\\n",
       "0  \\nKeep related supplies in the same area.,\\nMa...   \n",
       "1  \\nCreate a sketch in the NeoPopRealist manner ...   \n",
       "2  \\nGet a bachelor’s degree.,\\nEnroll in a studi...   \n",
       "3  \\nStart with some experience or interest in ar...   \n",
       "4  \\nKeep your reference materials, sketches, art...   \n",
       "\n",
       "                                    title  \\\n",
       "0          How to Be an Organized Artist1   \n",
       "1  How to Create a Neopoprealist Art Work   \n",
       "2      How to Be a Visual Effects Artist1   \n",
       "3           How to Become an Art Investor   \n",
       "4          How to Be an Organized Artist2   \n",
       "\n",
       "                                                text  \n",
       "0   If you're a photographer, keep all the necess...  \n",
       "1   See the image for how this drawing develops s...  \n",
       "2   It is possible to become a VFX artist without...  \n",
       "3   The best art investors do their research on t...  \n",
       "4   As you start planning for a project or work, ...  "
      ]
     },
     "execution_count": 3,
     "metadata": {},
     "output_type": "execute_result"
    }
   ],
   "source": [
    "df.head()"
   ]
  },
  {
   "cell_type": "code",
   "execution_count": 10,
   "id": "7949c360",
   "metadata": {
    "tags": []
   },
   "outputs": [
    {
     "name": "stdout",
     "output_type": "stream",
     "text": [
      "--2023-02-06 22:51:25--  http://nlp.stanford.edu/data/glove.6B.zip\n",
      "Resolving nlp.stanford.edu (nlp.stanford.edu)... 171.64.67.140\n",
      "Connecting to nlp.stanford.edu (nlp.stanford.edu)|171.64.67.140|:80... connected.\n",
      "HTTP request sent, awaiting response... 302 Found\n",
      "Location: https://nlp.stanford.edu/data/glove.6B.zip [following]\n",
      "--2023-02-06 22:51:26--  https://nlp.stanford.edu/data/glove.6B.zip\n",
      "Connecting to nlp.stanford.edu (nlp.stanford.edu)|171.64.67.140|:443... connected.\n",
      "HTTP request sent, awaiting response... 301 Moved Permanently\n",
      "Location: https://downloads.cs.stanford.edu/nlp/data/glove.6B.zip [following]\n",
      "--2023-02-06 22:51:27--  https://downloads.cs.stanford.edu/nlp/data/glove.6B.zip\n",
      "Resolving downloads.cs.stanford.edu (downloads.cs.stanford.edu)... 171.64.64.22\n",
      "Connecting to downloads.cs.stanford.edu (downloads.cs.stanford.edu)|171.64.64.22|:443... connected.\n",
      "HTTP request sent, awaiting response... 200 OK\n",
      "Length: 862182613 (822M) [application/zip]\n",
      "Saving to: ‘glove.6B.zip’\n",
      "\n",
      "glove.6B.zip        100%[===================>] 822,24M  1,79MB/s    in 10m 28s \n",
      "\n",
      "2023-02-06 23:01:56 (1,31 MB/s) - ‘glove.6B.zip’ saved [862182613/862182613]\n",
      "\n",
      "Archive:  glove.6B.zip\n",
      "  inflating: glove.6B.50d.txt        \n",
      "  inflating: glove.6B.100d.txt       \n",
      "  inflating: glove.6B.200d.txt       \n",
      "  inflating: glove.6B.300d.txt       \n"
     ]
    }
   ],
   "source": [
    "!wget http://nlp.stanford.edu/data/glove.6B.zip\n",
    "!unzip glove*.zip"
   ]
  },
  {
   "cell_type": "code",
   "execution_count": 4,
   "id": "631bf557",
   "metadata": {},
   "outputs": [
    {
     "name": "stderr",
     "output_type": "stream",
     "text": [
      "[nltk_data] Downloading package stopwords to /home/vasil/nltk_data...\n",
      "[nltk_data]   Package stopwords is already up-to-date!\n"
     ]
    }
   ],
   "source": [
    "nltk.download('stopwords')\n",
    "stop_words = set(stopwords.words('english'))"
   ]
  },
  {
   "cell_type": "code",
   "execution_count": 5,
   "id": "d205eed9",
   "metadata": {},
   "outputs": [],
   "source": [
    "def preprocess_text(text):\n",
    "    text = text.lower()\n",
    "    text = nltk.word_tokenize(text)\n",
    "    text = [word for word in text if word not in stop_words and word.isalpha()]\n",
    "    return text"
   ]
  },
  {
   "cell_type": "code",
   "execution_count": 6,
   "id": "8468333c",
   "metadata": {},
   "outputs": [],
   "source": [
    "def similarity_matrix(documents):\n",
    "    similarity = np.zeros((len(documents), len(documents)))\n",
    "    for i in range(len(documents)):\n",
    "        for j in range(len(documents)):\n",
    "            if i != j:\n",
    "                similarity[i][j] = cosine_similarity(documents[i].reshape(1,100), documents[j].reshape(1,100))[0,0]\n",
    "    return similarity"
   ]
  },
  {
   "cell_type": "code",
   "execution_count": 7,
   "id": "348db538-2b2a-4266-a58e-447de2c09a3a",
   "metadata": {
    "tags": []
   },
   "outputs": [],
   "source": [
    "word_embeddings = {}\n",
    "f = open('glove.6B.100d.txt', encoding='utf-8')\n",
    "for line in f:\n",
    "    values = line.split()\n",
    "    word = values[0]\n",
    "    coefs = np.asarray(values[1:], dtype='float32')\n",
    "    word_embeddings[word] = coefs\n",
    "f.close()"
   ]
  },
  {
   "cell_type": "code",
   "execution_count": 8,
   "id": "9bb8a42a-009b-4172-98e9-dd5537c9bd4a",
   "metadata": {
    "tags": []
   },
   "outputs": [],
   "source": [
    "def generate_sentence_vectors(preprocessed_sentences):\n",
    "    sentence_vectors = []\n",
    "    for i in preprocessed_sentences:\n",
    "      if len(i) != 0:\n",
    "        v = sum([word_embeddings.get(w, np.zeros((100,))) for w in i])/(len(i)+0.001)\n",
    "      else:\n",
    "        v = np.zeros((100,))\n",
    "      sentence_vectors.append(v)\n",
    "    return sentence_vectors"
   ]
  },
  {
   "cell_type": "code",
   "execution_count": 9,
   "id": "f66187fe",
   "metadata": {},
   "outputs": [],
   "source": [
    "def text_rank(text):\n",
    "    sentences = sent_tokenize(text)\n",
    "    preprocessed_sentences = [preprocess_text(sentence) for sentence in sentences]\n",
    "    sentence_vectors = generate_sentence_vectors(preprocessed_sentences) \n",
    "    similarity = similarity_matrix(sentence_vectors)\n",
    "    graph = nx.from_numpy_array(similarity)\n",
    "    scores = nx.pagerank(graph)\n",
    "    ranked_sentences = sorted(((scores[i],s) for i,s in enumerate(sentences)), reverse=True)\n",
    "    return ranked_sentences"
   ]
  },
  {
   "cell_type": "code",
   "execution_count": 10,
   "id": "2f28707e",
   "metadata": {},
   "outputs": [],
   "source": [
    "def summarize(text, n=7):\n",
    "    ranked_sentences = text_rank(text)\n",
    "    return [sentence for score, sentence in ranked_sentences[:n]]"
   ]
  },
  {
   "cell_type": "code",
   "execution_count": 11,
   "id": "070066cd",
   "metadata": {},
   "outputs": [],
   "source": [
    "def evaluate_rouge(reference_summaries, generated_summaries):\n",
    "    rouge_scores = []\n",
    "    for reference_summary, generated_summary in zip(reference_summaries, generated_summaries):\n",
    "        reference_summary = set(reference_summary)\n",
    "        generated_summary = set(generated_summary)\n",
    "        rouge_scores.append(len(reference_summary & generated_summary) / len(reference_summary | generated_summary))\n",
    "    return np.mean(rouge_scores)"
   ]
  },
  {
   "cell_type": "code",
   "execution_count": 12,
   "id": "674ba2e8",
   "metadata": {},
   "outputs": [],
   "source": [
    "from rouge import Rouge\n",
    "\n",
    "def evaluate_rouge_score(reference_summaries, generated_summaries):\n",
    "    rouge_scores = []\n",
    "    for reference_summary, generated_summary in zip(reference_summaries, generated_summaries):\n",
    "        reference_summary = ' '.join(reference_summary)\n",
    "        generated_summary = ' '.join(generated_summary)\n",
    "        rouge_scores.append(Rouge().get_scores(generated_summary, reference_summary, avg=True))\n",
    "    return rouge_scores    \n"
   ]
  },
  {
   "cell_type": "code",
   "execution_count": 13,
   "id": "2fe52d55-cf8e-4673-8bdf-09abacffcf35",
   "metadata": {
    "tags": []
   },
   "outputs": [],
   "source": [
    "def sent_tokenize_summaries(summary):\n",
    "    summary = re.sub(r'[.]+[,]+[\\n]', \".\\n\", summary)\n",
    "    return sent_tokenize(summary)\n"
   ]
  },
  {
   "cell_type": "code",
   "execution_count": 14,
   "id": "3281e5a1-faaa-43c1-9883-31dda6e0049f",
   "metadata": {
    "tags": []
   },
   "outputs": [],
   "source": [
    "headlines = []\n",
    "articles = []\n",
    "i = 0\n",
    "for index, row in df.iterrows():\n",
    "    if i >= 5:\n",
    "        break\n",
    "    abstract = row['headline']\n",
    "    article = row['text']\n",
    "    i+=1\n",
    "    if isinstance(article, str) and isinstance(abstract, str):\n",
    "        if len(abstract) < (0.75 * len(article)):\n",
    "            # remove extra commas in abstracts\n",
    "            abstract = re.sub(r'[.]+[,]+[\\n]', \".\\n\", abstract)\n",
    "            abstract = abstract.replace(\".,\", \".\")\n",
    "            # remove extra commas in articles\n",
    "            article = re.sub(r'[.]+[\\n]+[,]', \".\\n\", article)\n",
    "            \n",
    "            headlines.append(abstract)\n",
    "            articles.append(article)"
   ]
  },
  {
   "cell_type": "code",
   "execution_count": 18,
   "id": "24c6a8f3",
   "metadata": {},
   "outputs": [
    {
     "name": "stdout",
     "output_type": "stream",
     "text": [
      "Generating summaries\n",
      "Evaluating rouge scores\n",
      "average rouge score precision: 0.17207013947594763\n",
      "average rouge score recall: 0.3604788014169995\n",
      "average rouge score f : 0.22896376363718915\n"
     ]
    }
   ],
   "source": [
    "reference_summaries = [sent_tokenize_summaries(summary) for summary in headlines]\n",
    "print(\"Generating summaries\")\n",
    "\n",
    "generated_summaries = [summarize(text) for text in articles]\n",
    "\n",
    "print(\"Evaluating rouge scores\")\n",
    "# Evaluate the generated summaries using the ROUGE score\n",
    "rouge_scores = evaluate_rouge_score(reference_summaries, generated_summaries)\n",
    "\n",
    "total_precision = 0\n",
    "highest_precision = 0\n",
    "\n",
    "total_recall = 0\n",
    "highest_recall = 0\n",
    "\n",
    "total_f = 0\n",
    "highest_f = 0\n",
    "\n",
    "for k in rouge_scores:\n",
    "    total_precision += k['rouge-1']['p']\n",
    "    total_recall += k['rouge-1']['r']\n",
    "    total_f += k['rouge-1']['f']\n",
    "    \n",
    "    if k['rouge-1']['p'] > highest_precision:\n",
    "        highest_precision = k['rouge-1']['p']\n",
    "    if k['rouge-1']['r'] > highest_recall:\n",
    "        highest_recall = k['rouge-1']['r']\n",
    "    if k['rouge-1']['f'] > highest_f:\n",
    "        highest_f = k['rouge-1']['f']\n",
    "    # print(k)\n",
    "print('average rouge score precision:', total_precision / 5)\n",
    "print('average rouge score recall:', total_recall / 5)\n",
    "print('average rouge score f :', total_f / 5)"
   ]
  },
  {
   "cell_type": "code",
   "execution_count": null,
   "id": "2e67b74a-e459-445c-a100-6d6e8ae91b65",
   "metadata": {},
   "outputs": [],
   "source": []
  },
  {
   "cell_type": "markdown",
   "id": "f769ef06",
   "metadata": {},
   "source": [
    "### Tests"
   ]
  },
  {
   "cell_type": "code",
   "execution_count": 94,
   "id": "8ace570a",
   "metadata": {},
   "outputs": [
    {
     "name": "stdout",
     "output_type": "stream",
     "text": [
      "\n",
      "Keep related supplies in the same area.\n",
      "Make an effort to clean a dedicated workspace after every session.\n",
      "Place loose supplies in large, clearly visible containers.\n",
      "Use clotheslines and clips to hang sketches, photos, and reference material.\n",
      "Use every inch of the room for storage, especially vertical space.\n",
      "Use chalkboard paint to make space for drafting ideas right on the walls.\n",
      "Purchase a label maker to make your organization strategy semi-permanent.\n",
      "Make a habit of throwing out old, excess, or useless stuff each month.\n",
      "\n",
      "Keep related supplies in the same area.,\n",
      "Make an effort to clean a dedicated workspace after every session.,\n",
      "Place loose supplies in large, clearly visible containers.,\n",
      "Use clotheslines and clips to hang sketches, photos, and reference material.,\n",
      "Use every inch of the room for storage, especially vertical space.,\n",
      "Use chalkboard paint to make space for drafting ideas right on the walls.,\n",
      "Purchase a label maker to make your organization strategy semi-permanent.,\n",
      "Make a habit of throwing out old, excess, or useless stuff each month.\n"
     ]
    }
   ],
   "source": [
    "print(headlines[0])\n",
    "print(df['headline'][0])"
   ]
  },
  {
   "cell_type": "code",
   "execution_count": 46,
   "id": "43d046dd",
   "metadata": {},
   "outputs": [
    {
     "name": "stdout",
     "output_type": "stream",
     "text": [
      "[\" If you're a photographer, keep all the necessary lens, cords, and batteries in the same quadrant of your home or studio. Paints should be kept with brushes, cleaner, and canvas, print supplies should be by the ink, etc. Make broader groups and areas for your supplies to make finding them easier, limiting your search to a much smaller area. Some ideas include:\", \"\\nEssential supplies area -- the things you use every day.\\nInspiration and reference area.\\nDedicated work area .\\nInfrequent or secondary supplies area, tucked out of the way.;\\n, This doesn't mean cleaning the entire studio, it just means keeping the area immediately around the desk, easel, pottery wheel, etc. clean each night. Discard trash or unnecessary materials and wipe down dirty surfaces. Endeavor to leave the workspace in a way that you can sit down the next day and start working immediately, without having to do any work or tidying.\", '\\nEven if the rest of your studio is a bit disorganized, an organized workspace will help you get down to business every time you want to make art.', ', As visual people, a lot of artist clutter comes from a desire to keep track of supplies visually instead of tucked out of sight. By using jars, old glasses, vases, and cheap, clear plastic drawers, you can keep things in sight without leaving it strewn about haphazardly. Some ideas, beyond those just mentioned, include:', \"\\nCanvas shoe racks on the back of the door\\nWine racks with cups in each slot to hold pens/pencils.\\nPlastic restaurant squirt bottles for paint, pigment, etc., Simply string up the wires across a wall or along the ceiling and use them to hold essential papers that you don't want to cut or ruin with tacks or tape. Cheap and easy, this is also a good way to handle papers and ideas you touch regularly or need to pin up and down for inspiration., Shelving is an artist's best friend and is a cheap and easy way to get more room in your studio or art space. Don't be afraid to get up high either, especially for infrequently used supplies. The upper reaches of the room are often the most under-utilized, but provide vital space for all your tools and materials., Turning one wall into a chalkboard gives you a perfect space for ideas, sketches, and planning without requiring extra equipment or space. You can even use it for smaller areas. Paint over jars or storage equipment, allowing you to relabel them with chalk as your needs change.\", \", A lot of disorganization comes when you keep moving the location of things, trying to optimize your space by reorganizing frequently. This usually has the opposite effect, leading to lost items and uncertainty when cleaning, but an afternoon with a label maker can solve everything. Instead of spending all of your mental energy looking for or storing things, you can just follow the labels, freeing your mind to think about art., Once a month, do a purge of your studio. If it isn't essential or part of a project, either throw it out or file it away for later. Artists are constantly making new things, experimenting, and making a mess. This is a good thing, but only if you set aside time to declutter. It may not be fun at the moment, but it is a lot more fun than spending 30 minutes digging through junk to find the right paint or an old sketch.\", \"\\nDon't be sentimental here. If you haven't used it in the last six months there is little chance you'll use it in the next six months. Toss it.\", '']\n",
      "----------------------------------------\n",
      "[['\\nKeep related supplies in the same area.', 'Make an effort to clean a dedicated workspace after every session.', 'Place loose supplies in large, clearly visible containers.', 'Use clotheslines and clips to hang sketches, photos, and reference material.', 'Use every inch of the room for storage, especially vertical space.', 'Use chalkboard paint to make space for drafting ideas right on the walls.', 'Purchase a label maker to make your organization strategy semi-permanent.', 'Make a habit of throwing out old, excess, or useless stuff each month.']]\n",
      "----------------------------------------\n",
      "[\" If you're a photographer, keep all the necessary lens, cords, and batteries in the same quadrant of your home or studio.\", 'Paints should be kept with brushes, cleaner, and canvas, print supplies should be by the ink, etc.', 'Make broader groups and areas for your supplies to make finding them easier, limiting your search to a much smaller area.', 'Some ideas include:\\n\\n\\nEssential supplies area -- the things you use every day.', 'Inspiration and reference area.', 'Dedicated work area .', 'Infrequent or secondary supplies area, tucked out of the way.', \";\\n, This doesn't mean cleaning the entire studio, it just means keeping the area immediately around the desk, easel, pottery wheel, etc.\", 'clean each night.', 'Discard trash or unnecessary materials and wipe down dirty surfaces.', 'Endeavor to leave the workspace in a way that you can sit down the next day and start working immediately, without having to do any work or tidying.', 'Even if the rest of your studio is a bit disorganized, an organized workspace will help you get down to business every time you want to make art.', ', As visual people, a lot of artist clutter comes from a desire to keep track of supplies visually instead of tucked out of sight.', 'By using jars, old glasses, vases, and cheap, clear plastic drawers, you can keep things in sight without leaving it strewn about haphazardly.', 'Some ideas, beyond those just mentioned, include:\\n\\n\\nCanvas shoe racks on the back of the door\\nWine racks with cups in each slot to hold pens/pencils.', \"Plastic restaurant squirt bottles for paint, pigment, etc., Simply string up the wires across a wall or along the ceiling and use them to hold essential papers that you don't want to cut or ruin with tacks or tape.\", \"Cheap and easy, this is also a good way to handle papers and ideas you touch regularly or need to pin up and down for inspiration., Shelving is an artist's best friend and is a cheap and easy way to get more room in your studio or art space.\", \"Don't be afraid to get up high either, especially for infrequently used supplies.\", 'The upper reaches of the room are often the most under-utilized, but provide vital space for all your tools and materials., Turning one wall into a chalkboard gives you a perfect space for ideas, sketches, and planning without requiring extra equipment or space.', 'You can even use it for smaller areas.', 'Paint over jars or storage equipment, allowing you to relabel them with chalk as your needs change.', ', A lot of disorganization comes when you keep moving the location of things, trying to optimize your space by reorganizing frequently.', 'This usually has the opposite effect, leading to lost items and uncertainty when cleaning, but an afternoon with a label maker can solve everything.', 'Instead of spending all of your mental energy looking for or storing things, you can just follow the labels, freeing your mind to think about art., Once a month, do a purge of your studio.', \"If it isn't essential or part of a project, either throw it out or file it away for later.\", 'Artists are constantly making new things, experimenting, and making a mess.', 'This is a good thing, but only if you set aside time to declutter.', 'It may not be fun at the moment, but it is a lot more fun than spending 30 minutes digging through junk to find the right paint or an old sketch.', \"Don't be sentimental here.\", \"If you haven't used it in the last six months there is little chance you'll use it in the next six months.\", 'Toss it.']\n",
      "----------------------------------------\n",
      "[[\"Cheap and easy, this is also a good way to handle papers and ideas you touch regularly or need to pin up and down for inspiration., Shelving is an artist's best friend and is a cheap and easy way to get more room in your studio or art space.\", 'The upper reaches of the room are often the most under-utilized, but provide vital space for all your tools and materials., Turning one wall into a chalkboard gives you a perfect space for ideas, sketches, and planning without requiring extra equipment or space.', 'Some ideas include:\\n\\n\\nEssential supplies area -- the things you use every day.', ', As visual people, a lot of artist clutter comes from a desire to keep track of supplies visually instead of tucked out of sight.', 'Even if the rest of your studio is a bit disorganized, an organized workspace will help you get down to business every time you want to make art.']]\n"
     ]
    }
   ],
   "source": [
    "reference_summaries = [sent_tokenize_summaries(df['headline'][0])]\n",
    "generated_summaries = [summarize(df['text'][0])]\n",
    "\n",
    "print(df['headline'][0])\n",
    "print(\"---------------------------------------------\")\n",
    "print(df['text'][0])\n",
    "print(\"---------------------------------------------\")\n",
    "print(reference_summaries)\n",
    "print(\"---------------------------------------------\")\n",
    "print(generated_summaries)\n",
    "print(\"---------------------------------------------\")\n",
    "# Evaluate the generated summaries using the ROUGE score\n",
    "rouge_score = evaluate_rouge_score(reference_summaries, generated_summaries)\n",
    "print('ROUGE score:', rouge_score)"
   ]
  },
  {
   "cell_type": "code",
   "execution_count": null,
   "id": "62326ba1-0aa0-434c-a775-55e77a206443",
   "metadata": {},
   "outputs": [],
   "source": []
  }
 ],
 "metadata": {
  "kernelspec": {
   "display_name": "Python 3 (ipykernel)",
   "language": "python",
   "name": "python3"
  },
  "language_info": {
   "codemirror_mode": {
    "name": "ipython",
    "version": 3
   },
   "file_extension": ".py",
   "mimetype": "text/x-python",
   "name": "python",
   "nbconvert_exporter": "python",
   "pygments_lexer": "ipython3",
   "version": "3.8.3"
  }
 },
 "nbformat": 4,
 "nbformat_minor": 5
}
