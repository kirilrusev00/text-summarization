{
 "cells": [
  {
   "cell_type": "markdown",
   "id": "4bb56998",
   "metadata": {},
   "source": [
    "## Imports"
   ]
  },
  {
   "cell_type": "code",
   "execution_count": 1,
   "id": "ffee092a",
   "metadata": {
    "tags": []
   },
   "outputs": [
    {
     "name": "stderr",
     "output_type": "stream",
     "text": [
      "[nltk_data] Downloading package punkt to /home/vasil/nltk_data...\n",
      "[nltk_data]   Package punkt is already up-to-date!\n"
     ]
    }
   ],
   "source": [
    "import numpy as np\n",
    "import pandas as pd\n",
    "import nltk\n",
    "from nltk.corpus import stopwords\n",
    "from nltk.tokenize import sent_tokenize, word_tokenize\n",
    "nltk.download('punkt') # one time execution\n",
    "import re\n",
    "import networkx as nx\n",
    "from sklearn.metrics.pairwise import cosine_similarity"
   ]
  },
  {
   "cell_type": "markdown",
   "id": "5e000fdf",
   "metadata": {},
   "source": [
    "## Read dataset"
   ]
  },
  {
   "cell_type": "code",
   "execution_count": 2,
   "id": "4444f359",
   "metadata": {
    "tags": []
   },
   "outputs": [],
   "source": [
    "df = pd.read_csv('../../WikiHow-Dataset/wikihowAll.csv', delimiter=',')"
   ]
  },
  {
   "cell_type": "code",
   "execution_count": 3,
   "id": "cb83d11b",
   "metadata": {
    "tags": []
   },
   "outputs": [
    {
     "data": {
      "text/html": [
       "<div>\n",
       "<style scoped>\n",
       "    .dataframe tbody tr th:only-of-type {\n",
       "        vertical-align: middle;\n",
       "    }\n",
       "\n",
       "    .dataframe tbody tr th {\n",
       "        vertical-align: top;\n",
       "    }\n",
       "\n",
       "    .dataframe thead th {\n",
       "        text-align: right;\n",
       "    }\n",
       "</style>\n",
       "<table border=\"1\" class=\"dataframe\">\n",
       "  <thead>\n",
       "    <tr style=\"text-align: right;\">\n",
       "      <th></th>\n",
       "      <th>headline</th>\n",
       "      <th>title</th>\n",
       "      <th>text</th>\n",
       "    </tr>\n",
       "  </thead>\n",
       "  <tbody>\n",
       "    <tr>\n",
       "      <th>0</th>\n",
       "      <td>\\nKeep related supplies in the same area.,\\nMa...</td>\n",
       "      <td>How to Be an Organized Artist1</td>\n",
       "      <td>If you're a photographer, keep all the necess...</td>\n",
       "    </tr>\n",
       "    <tr>\n",
       "      <th>1</th>\n",
       "      <td>\\nCreate a sketch in the NeoPopRealist manner ...</td>\n",
       "      <td>How to Create a Neopoprealist Art Work</td>\n",
       "      <td>See the image for how this drawing develops s...</td>\n",
       "    </tr>\n",
       "    <tr>\n",
       "      <th>2</th>\n",
       "      <td>\\nGet a bachelor’s degree.,\\nEnroll in a studi...</td>\n",
       "      <td>How to Be a Visual Effects Artist1</td>\n",
       "      <td>It is possible to become a VFX artist without...</td>\n",
       "    </tr>\n",
       "    <tr>\n",
       "      <th>3</th>\n",
       "      <td>\\nStart with some experience or interest in ar...</td>\n",
       "      <td>How to Become an Art Investor</td>\n",
       "      <td>The best art investors do their research on t...</td>\n",
       "    </tr>\n",
       "    <tr>\n",
       "      <th>4</th>\n",
       "      <td>\\nKeep your reference materials, sketches, art...</td>\n",
       "      <td>How to Be an Organized Artist2</td>\n",
       "      <td>As you start planning for a project or work, ...</td>\n",
       "    </tr>\n",
       "  </tbody>\n",
       "</table>\n",
       "</div>"
      ],
      "text/plain": [
       "                                            headline  \\\n",
       "0  \\nKeep related supplies in the same area.,\\nMa...   \n",
       "1  \\nCreate a sketch in the NeoPopRealist manner ...   \n",
       "2  \\nGet a bachelor’s degree.,\\nEnroll in a studi...   \n",
       "3  \\nStart with some experience or interest in ar...   \n",
       "4  \\nKeep your reference materials, sketches, art...   \n",
       "\n",
       "                                    title  \\\n",
       "0          How to Be an Organized Artist1   \n",
       "1  How to Create a Neopoprealist Art Work   \n",
       "2      How to Be a Visual Effects Artist1   \n",
       "3           How to Become an Art Investor   \n",
       "4          How to Be an Organized Artist2   \n",
       "\n",
       "                                                text  \n",
       "0   If you're a photographer, keep all the necess...  \n",
       "1   See the image for how this drawing develops s...  \n",
       "2   It is possible to become a VFX artist without...  \n",
       "3   The best art investors do their research on t...  \n",
       "4   As you start planning for a project or work, ...  "
      ]
     },
     "execution_count": 3,
     "metadata": {},
     "output_type": "execute_result"
    }
   ],
   "source": [
    "df.head()"
   ]
  },
  {
   "cell_type": "code",
   "execution_count": 4,
   "id": "58cc371d",
   "metadata": {},
   "outputs": [],
   "source": [
    "df=df.dropna()"
   ]
  },
  {
   "cell_type": "markdown",
   "id": "e21c7b6a",
   "metadata": {},
   "source": [
    "## Generate word embeddings"
   ]
  },
  {
   "cell_type": "markdown",
   "id": "f194f133",
   "metadata": {},
   "source": [
    "### GloVe word representations "
   ]
  },
  {
   "cell_type": "code",
   "execution_count": 10,
   "id": "7949c360",
   "metadata": {
    "tags": []
   },
   "outputs": [
    {
     "name": "stdout",
     "output_type": "stream",
     "text": [
      "--2023-02-06 22:51:25--  http://nlp.stanford.edu/data/glove.6B.zip\n",
      "Resolving nlp.stanford.edu (nlp.stanford.edu)... 171.64.67.140\n",
      "Connecting to nlp.stanford.edu (nlp.stanford.edu)|171.64.67.140|:80... connected.\n",
      "HTTP request sent, awaiting response... 302 Found\n",
      "Location: https://nlp.stanford.edu/data/glove.6B.zip [following]\n",
      "--2023-02-06 22:51:26--  https://nlp.stanford.edu/data/glove.6B.zip\n",
      "Connecting to nlp.stanford.edu (nlp.stanford.edu)|171.64.67.140|:443... connected.\n",
      "HTTP request sent, awaiting response... 301 Moved Permanently\n",
      "Location: https://downloads.cs.stanford.edu/nlp/data/glove.6B.zip [following]\n",
      "--2023-02-06 22:51:27--  https://downloads.cs.stanford.edu/nlp/data/glove.6B.zip\n",
      "Resolving downloads.cs.stanford.edu (downloads.cs.stanford.edu)... 171.64.64.22\n",
      "Connecting to downloads.cs.stanford.edu (downloads.cs.stanford.edu)|171.64.64.22|:443... connected.\n",
      "HTTP request sent, awaiting response... 200 OK\n",
      "Length: 862182613 (822M) [application/zip]\n",
      "Saving to: ‘glove.6B.zip’\n",
      "\n",
      "glove.6B.zip        100%[===================>] 822,24M  1,79MB/s    in 10m 28s \n",
      "\n",
      "2023-02-06 23:01:56 (1,31 MB/s) - ‘glove.6B.zip’ saved [862182613/862182613]\n",
      "\n",
      "Archive:  glove.6B.zip\n",
      "  inflating: glove.6B.50d.txt        \n",
      "  inflating: glove.6B.100d.txt       \n",
      "  inflating: glove.6B.200d.txt       \n",
      "  inflating: glove.6B.300d.txt       \n"
     ]
    }
   ],
   "source": [
    "!wget http://nlp.stanford.edu/data/glove.6B.zip\n",
    "!unzip glove*.zip"
   ]
  },
  {
   "cell_type": "code",
   "execution_count": 5,
   "id": "348db538-2b2a-4266-a58e-447de2c09a3a",
   "metadata": {
    "tags": []
   },
   "outputs": [],
   "source": [
    "word_embeddings = {}\n",
    "f = open('glove.6B.50d.txt', encoding='utf-8')\n",
    "for line in f:\n",
    "    values = line.split()\n",
    "    word = values[0]\n",
    "    coefs = np.asarray(values[1:], dtype='float32')\n",
    "    word_embeddings[word] = coefs\n",
    "f.close()"
   ]
  },
  {
   "cell_type": "markdown",
   "id": "cea9be32",
   "metadata": {},
   "source": [
    "### SVD word embeddings"
   ]
  },
  {
   "cell_type": "code",
   "execution_count": 6,
   "id": "e3874ee2",
   "metadata": {
    "tags": []
   },
   "outputs": [],
   "source": [
    "from nltk.corpus import PlaintextCorpusReader\n",
    "import sys\n",
    "import random\n",
    "import math\n",
    "import pprint\n",
    "\n",
    "from mpl_toolkits.mplot3d import Axes3D\n",
    "import matplotlib.pyplot as plt\n",
    "\n",
    "import numpy as np\n",
    "from sklearn.decomposition import IncrementalPCA\n",
    "from sklearn.decomposition import TruncatedSVD"
   ]
  },
  {
   "cell_type": "code",
   "execution_count": 7,
   "id": "1886e870",
   "metadata": {
    "tags": []
   },
   "outputs": [],
   "source": [
    "def extractDictionary(corpus, limit=5000):\n",
    "    dictionary = {}\n",
    "    for doc in corpus:\n",
    "        for w in doc:\n",
    "            if w not in dictionary: dictionary[w] = 0\n",
    "            dictionary[w] += 1\n",
    "    L = sorted([(w,dictionary[w]) for w in dictionary], key = lambda x: x[1] , reverse=True)\n",
    "    print(\"Dictionary has size: \", len(dictionary))\n",
    "    if limit > len(L): limit = len(L)\n",
    "    words = [ w for w,_ in L[:limit] ]\n",
    "    word2ind = { w:i for i,w in enumerate(words)}\n",
    "    return words, word2ind"
   ]
  },
  {
   "cell_type": "code",
   "execution_count": 8,
   "id": "06754a1b",
   "metadata": {
    "tags": []
   },
   "outputs": [],
   "source": [
    "def co_occurrence_matrix(corpus, window_size=4, limit=5000):\n",
    "    words, word2ind = extractDictionary(corpus,limit=limit)\n",
    "    num_words = len(words)\n",
    "    \n",
    "    X=np.zeros((num_words,num_words))\n",
    "    \n",
    "    for doc in corpus:\n",
    "        for wi in range(len(doc)):\n",
    "            if doc[wi] not in word2ind: continue\n",
    "            i=word2ind[doc[wi]]\n",
    "            for k in range(1,window_size+1):\n",
    "                if wi-k>=0 and doc[wi-k] in word2ind:\n",
    "                    j=word2ind[doc[wi-k]]\n",
    "                    X[i,j] += 1\n",
    "                if wi+k<len(doc) and doc[wi+k] in word2ind:\n",
    "                    j=word2ind[doc[wi+k]]\n",
    "                    X[i,j] += 1\n",
    "    return X, words, word2ind"
   ]
  },
  {
   "cell_type": "code",
   "execution_count": 9,
   "id": "a9fbe720",
   "metadata": {
    "tags": []
   },
   "outputs": [],
   "source": [
    "def SVD_k_dim(X, k=100, n_iters = 10):\n",
    "    print(\"Running Truncated SVD over %i words...\" % (X.shape[0]))\n",
    "    svd = TruncatedSVD(n_components=k, n_iter=n_iters)\n",
    "    svd.fit(X)\n",
    "    X_reduced = svd.transform(X)\n",
    "    print(\"Done.\")\n",
    "    return X_reduced"
   ]
  },
  {
   "cell_type": "code",
   "execution_count": 10,
   "id": "dc70e2a7",
   "metadata": {
    "tags": []
   },
   "outputs": [],
   "source": [
    "def plot_embeddings(M, word2ind, words):\n",
    "    xs = M[:,0]\n",
    "    ys = M[:,1]\n",
    "    for w in words:\n",
    "        i=word2ind[w]\n",
    "        plt.scatter(xs[i],ys[i], marker='x', color= 'red')\n",
    "        plt.text(xs[i]+0.001, ys[i]+0.001, w)\n",
    "    plt.show()"
   ]
  },
  {
   "cell_type": "code",
   "execution_count": 11,
   "id": "54160500",
   "metadata": {
    "tags": []
   },
   "outputs": [],
   "source": [
    "def plot_embeddings_3d(M, word2ind, words):\n",
    "    fig = plt.figure()\n",
    "    ax = fig.add_subplot(111, projection='3d')\n",
    "\n",
    "    xs = M[:,0]\n",
    "    ys = M[:,1]\n",
    "    zs = M[:,2]\n",
    "    for w in words:\n",
    "        i=word2ind[w]\n",
    "        ax.scatter(xs[i], ys[i], zs[i], marker='x', color= 'red')\n",
    "        ax.text(xs[i]+0.001, ys[i]+0.001, zs[i]+0.001, w)\n",
    "    plt.show()\n"
   ]
  },
  {
   "cell_type": "code",
   "execution_count": 12,
   "id": "22fd67d7",
   "metadata": {
    "tags": []
   },
   "outputs": [],
   "source": [
    "def generateArticlesAsSingleString(articles):\n",
    "    return \"\\n\".join(articles)        "
   ]
  },
  {
   "cell_type": "markdown",
   "id": "b26d1bd5",
   "metadata": {},
   "source": [
    "## Text preprocessing"
   ]
  },
  {
   "cell_type": "code",
   "execution_count": 13,
   "id": "631bf557",
   "metadata": {
    "tags": []
   },
   "outputs": [
    {
     "name": "stderr",
     "output_type": "stream",
     "text": [
      "[nltk_data] Downloading package stopwords to /home/vasil/nltk_data...\n",
      "[nltk_data]   Package stopwords is already up-to-date!\n"
     ]
    }
   ],
   "source": [
    "nltk.download('stopwords')\n",
    "stop_words = set(stopwords.words('english'))"
   ]
  },
  {
   "cell_type": "code",
   "execution_count": 14,
   "id": "d205eed9",
   "metadata": {
    "tags": []
   },
   "outputs": [
    {
     "name": "stderr",
     "output_type": "stream",
     "text": [
      "[nltk_data] Downloading package wordnet to /home/vasil/nltk_data...\n",
      "[nltk_data]   Package wordnet is already up-to-date!\n",
      "[nltk_data] Downloading package omw-1.4 to /home/vasil/nltk_data...\n",
      "[nltk_data]   Package omw-1.4 is already up-to-date!\n"
     ]
    }
   ],
   "source": [
    "from nltk.stem.porter import PorterStemmer\n",
    "from nltk.stem import WordNetLemmatizer\n",
    "nltk.download('wordnet')\n",
    "nltk.download('omw-1.4')\n",
    "\n",
    "def preprocess_text(text):\n",
    "    stemmer = PorterStemmer()\n",
    "    lemmatizer = WordNetLemmatizer()\n",
    "    text = text.lower()\n",
    "    text = nltk.word_tokenize(text)\n",
    "    text = [lemmatizer.lemmatize(stemmer.stem(word)) for word in text if word not in stop_words and word.isalpha()]\n",
    "    return text"
   ]
  },
  {
   "cell_type": "code",
   "execution_count": 15,
   "id": "2fe52d55-cf8e-4673-8bdf-09abacffcf35",
   "metadata": {
    "tags": []
   },
   "outputs": [],
   "source": [
    "def sent_tokenize_summaries(summary):\n",
    "    summary = re.sub(r'[.]+[,]+[\\n]', \".\\n\", summary)\n",
    "    return sent_tokenize(summary)\n"
   ]
  },
  {
   "cell_type": "markdown",
   "id": "a3803ac3",
   "metadata": {},
   "source": [
    "## TextRank algorithm"
   ]
  },
  {
   "cell_type": "code",
   "execution_count": 16,
   "id": "8468333c",
   "metadata": {
    "tags": []
   },
   "outputs": [],
   "source": [
    "def similarity_matrix(documents):\n",
    "    similarity = np.zeros((len(documents), len(documents)))\n",
    "    for i in range(len(documents)):\n",
    "        for j in range(len(documents)):\n",
    "            if i != j:\n",
    "                similarity[i][j] = cosine_similarity(documents[i].reshape(1,50), documents[j].reshape(1,50))[0,0]\n",
    "    return similarity"
   ]
  },
  {
   "cell_type": "code",
   "execution_count": 17,
   "id": "9bb8a42a-009b-4172-98e9-dd5537c9bd4a",
   "metadata": {
    "tags": []
   },
   "outputs": [],
   "source": [
    "def generate_sentence_vectors(preprocessed_sentences):\n",
    "    sentence_vectors = []\n",
    "    for i in preprocessed_sentences:\n",
    "      if len(i) != 0:\n",
    "        v = sum([word_embeddings.get(w, np.zeros((50,))) for w in i])/(len(i)+0.001)\n",
    "      else:\n",
    "        v = np.zeros((50,))\n",
    "      sentence_vectors.append(v)\n",
    "    return sentence_vectors"
   ]
  },
  {
   "cell_type": "code",
   "execution_count": 18,
   "id": "09c6f4ca-178f-45de-85be-f69759991119",
   "metadata": {
    "tags": []
   },
   "outputs": [],
   "source": [
    "def generate_sentence_vectors_CC(preprocessed_sentences):\n",
    "    sentence_vectors = []\n",
    "    for i in preprocessed_sentences:\n",
    "      if len(i) != 0:\n",
    "        v = sum([CC_reduced[ccwi.get(w, 0)] for w in i])/(len(i)+0.001)\n",
    "      else:\n",
    "        v = np.zeros((50,))\n",
    "      sentence_vectors.append(v)\n",
    "    return sentence_vectors"
   ]
  },
  {
   "cell_type": "code",
   "execution_count": 19,
   "id": "f66187fe",
   "metadata": {
    "tags": []
   },
   "outputs": [],
   "source": [
    "def text_rank(text):\n",
    "    sentences = sent_tokenize(text)\n",
    "    preprocessed_sentences = [preprocess_text(sentence) for sentence in sentences]\n",
    "    sentence_vectors = generate_sentence_vectors_CC(preprocessed_sentences) \n",
    "    similarity = similarity_matrix(sentence_vectors)\n",
    "    graph = nx.from_numpy_array(similarity)\n",
    "    scores = nx.pagerank(graph, max_iter=2000)\n",
    "    ranked_sentences = sorted(((scores[i],s) for i,s in enumerate(sentences)), reverse=True)\n",
    "    return ranked_sentences"
   ]
  },
  {
   "cell_type": "code",
   "execution_count": 20,
   "id": "2f28707e",
   "metadata": {
    "tags": []
   },
   "outputs": [],
   "source": [
    "def summarize(text, n=7):\n",
    "    ranked_sentences = text_rank(text)\n",
    "    return [sentence for score, sentence in ranked_sentences[:n]]"
   ]
  },
  {
   "cell_type": "markdown",
   "id": "aaebb1bc",
   "metadata": {},
   "source": [
    "## Evaluation"
   ]
  },
  {
   "cell_type": "code",
   "execution_count": 21,
   "id": "674ba2e8",
   "metadata": {
    "tags": []
   },
   "outputs": [],
   "source": [
    "from rouge import Rouge\n",
    "\n",
    "def evaluate_rouge_score(reference_summaries, generated_summaries):\n",
    "    rouge_scores = []\n",
    "    for reference_summary, generated_summary in zip(reference_summaries, generated_summaries):\n",
    "        reference_summary = ' '.join(reference_summary)\n",
    "        generated_summary = ' '.join(generated_summary)\n",
    "        rouge_scores.append(Rouge().get_scores(generated_summary, reference_summary, avg=True))\n",
    "    return rouge_scores    \n"
   ]
  },
  {
   "cell_type": "markdown",
   "id": "6a72724f",
   "metadata": {},
   "source": [
    "## Generate and evaluate summaries on the WikiHow dataset"
   ]
  },
  {
   "cell_type": "code",
   "execution_count": 22,
   "id": "3281e5a1-faaa-43c1-9883-31dda6e0049f",
   "metadata": {
    "tags": []
   },
   "outputs": [
    {
     "name": "stdout",
     "output_type": "stream",
     "text": [
      "Total number of documents:  1001\n"
     ]
    }
   ],
   "source": [
    "headlines = []\n",
    "articles = []\n",
    "i = 0\n",
    "for index, row in df.iterrows():\n",
    "    abstract = row['headline']\n",
    "    article = row['text']\n",
    "    if i > 1000:\n",
    "        break\n",
    "    if isinstance(article, str) and isinstance(abstract, str):\n",
    "        if len(abstract) < (0.75 * len(article)):\n",
    "            # remove extra commas in abstracts\n",
    "            abstract = re.sub(r'[.]+[,]+[\\n]', \".\\n\", abstract)\n",
    "            abstract = abstract.replace(\".,\", \".\")\n",
    "            # remove extra commas in articles\n",
    "            article = re.sub(r'[.]+[\\n]+[,]', \".\\n\", article)\n",
    "            \n",
    "            headlines.append(abstract)\n",
    "            articles.append(article)\n",
    "            i+=1\n",
    "print(\"Total number of documents: \", i)"
   ]
  },
  {
   "cell_type": "code",
   "execution_count": 23,
   "id": "6f358c63",
   "metadata": {
    "tags": []
   },
   "outputs": [
    {
     "name": "stdout",
     "output_type": "stream",
     "text": [
      "Dictionary has size:  35166\n",
      "Running Truncated SVD over 1000 words...\n",
      "Done.\n"
     ]
    },
    {
     "data": {
      "image/png": "[encoded data removed]",
      "text/plain": [
       "<Figure size 640x480 with 1 Axes>"
      ]
     },
     "metadata": {},
     "output_type": "display_data"
    }
   ],
   "source": [
    "text = generateArticlesAsSingleString(articles)\n",
    "\n",
    "CC,ccww,ccwi = co_occurrence_matrix([text.split()], window_size=1, limit=1000)\n",
    "CC_reduced = SVD_k_dim(CC,k=50)\n",
    "plot_embeddings_3d(CC_reduced, ccwi, ccww)"
   ]
  },
  {
   "cell_type": "code",
   "execution_count": 24,
   "id": "24c6a8f3",
   "metadata": {
    "tags": []
   },
   "outputs": [
    {
     "name": "stdout",
     "output_type": "stream",
     "text": [
      "Generating summaries\n",
      "Evaluating rouge scores\n",
      "average rouge score precision: 0.14129375180520812\n",
      "average rouge score recall: 0.4014917873784638\n",
      "average rouge score f : 0.19247937442899105\n"
     ]
    }
   ],
   "source": [
    "reference_summaries = [sent_tokenize_summaries(summary) for summary in headlines]\n",
    "print(\"Generating summaries\")\n",
    "\n",
    "generated_summaries = [summarize(text) for text in articles]\n",
    "\n",
    "print(\"Evaluating rouge scores\")\n",
    "# Evaluate the generated summaries using the ROUGE score\n",
    "rouge_scores = evaluate_rouge_score(reference_summaries, generated_summaries)\n",
    "\n",
    "total_precision = 0\n",
    "\n",
    "total_recall = 0\n",
    "\n",
    "total_f = 0\n",
    "\n",
    "for k in rouge_scores:\n",
    "    total_precision += k['rouge-1']['p']\n",
    "    total_recall += k['rouge-1']['r']\n",
    "    total_f += k['rouge-1']['f']\n",
    "\n",
    "print('average rouge score precision:', total_precision / 1001)\n",
    "print('average rouge score recall:', total_recall / 1001)\n",
    "print('average rouge score f :', total_f / 1001)"
   ]
  },
  {
   "cell_type": "markdown",
   "id": "f769ef06",
   "metadata": {},
   "source": [
    "## Tests"
   ]
  },
  {
   "cell_type": "code",
   "execution_count": 94,
   "id": "8ace570a",
   "metadata": {},
   "outputs": [
    {
     "name": "stdout",
     "output_type": "stream",
     "text": [
      "\n",
      "Keep related supplies in the same area.\n",
      "Make an effort to clean a dedicated workspace after every session.\n",
      "Place loose supplies in large, clearly visible containers.\n",
      "Use clotheslines and clips to hang sketches, photos, and reference material.\n",
      "Use every inch of the room for storage, especially vertical space.\n",
      "Use chalkboard paint to make space for drafting ideas right on the walls.\n",
      "Purchase a label maker to make your organization strategy semi-permanent.\n",
      "Make a habit of throwing out old, excess, or useless stuff each month.\n",
      "\n",
      "Keep related supplies in the same area.,\n",
      "Make an effort to clean a dedicated workspace after every session.,\n",
      "Place loose supplies in large, clearly visible containers.,\n",
      "Use clotheslines and clips to hang sketches, photos, and reference material.,\n",
      "Use every inch of the room for storage, especially vertical space.,\n",
      "Use chalkboard paint to make space for drafting ideas right on the walls.,\n",
      "Purchase a label maker to make your organization strategy semi-permanent.,\n",
      "Make a habit of throwing out old, excess, or useless stuff each month.\n"
     ]
    }
   ],
   "source": [
    "print(headlines[0])\n",
    "print(df['headline'][0])"
   ]
  },
  {
   "cell_type": "code",
   "execution_count": null,
   "id": "43d046dd",
   "metadata": {},
   "outputs": [],
   "source": [
    "reference_summaries = [sent_tokenize_summaries(df['headline'][0])]\n",
    "generated_summaries = [summarize(df['text'][0])]\n",
    "\n",
    "print(df['headline'][0])\n",
    "print(\"---------------------------------------------\")\n",
    "print(df['text'][0])\n",
    "print(\"---------------------------------------------\")\n",
    "print(reference_summaries)\n",
    "print(\"---------------------------------------------\")\n",
    "print(generated_summaries)\n",
    "print(\"---------------------------------------------\")\n",
    "# Evaluate the generated summaries using the ROUGE score\n",
    "rouge_score = evaluate_rouge_score(reference_summaries, generated_summaries)\n",
    "print('ROUGE score:', rouge_score)"
   ]
  },
  {
   "cell_type": "code",
   "execution_count": null,
   "id": "62326ba1-0aa0-434c-a775-55e77a206443",
   "metadata": {},
   "outputs": [],
   "source": [
    "preprocess_text(df['text'][0])"
   ]
  },
  {
   "cell_type": "code",
   "execution_count": 75,
   "id": "3141952c-a015-4406-b01e-7783e878c5e5",
   "metadata": {
    "tags": []
   },
   "outputs": [
    {
     "data": {
      "text/plain": [
       "array([ 4.1800e-01,  2.4968e-01, -4.1242e-01,  1.2170e-01,  3.4527e-01,\n",
       "       -4.4457e-02, -4.9688e-01, -1.7862e-01, -6.6023e-04, -6.5660e-01,\n",
       "        2.7843e-01, -1.4767e-01, -5.5677e-01,  1.4658e-01, -9.5095e-03,\n",
       "        1.1658e-02,  1.0204e-01, -1.2792e-01, -8.4430e-01, -1.2181e-01,\n",
       "       -1.6801e-02, -3.3279e-01, -1.5520e-01, -2.3131e-01, -1.9181e-01,\n",
       "       -1.8823e+00, -7.6746e-01,  9.9051e-02, -4.2125e-01, -1.9526e-01,\n",
       "        4.0071e+00, -1.8594e-01, -5.2287e-01, -3.1681e-01,  5.9213e-04,\n",
       "        7.4449e-03,  1.7778e-01, -1.5897e-01,  1.2041e-02, -5.4223e-02,\n",
       "       -2.9871e-01, -1.5749e-01, -3.4758e-01, -4.5637e-02, -4.4251e-01,\n",
       "        1.8785e-01,  2.7849e-03, -1.8411e-01, -1.1514e-01, -7.8581e-01],\n",
       "      dtype=float32)"
      ]
     },
     "execution_count": 75,
     "metadata": {},
     "output_type": "execute_result"
    }
   ],
   "source": [
    "word_embeddings['the']"
   ]
  },
  {
   "cell_type": "code",
   "execution_count": null,
   "id": "d29b9ab2-e4a2-46da-a7d1-e6d82f0caf12",
   "metadata": {},
   "outputs": [],
   "source": []
  }
 ],
 "metadata": {
  "kernelspec": {
   "display_name": "Python 3 (ipykernel)",
   "language": "python",
   "name": "python3"
  },
  "language_info": {
   "codemirror_mode": {
    "name": "ipython",
    "version": 3
   },
   "file_extension": ".py",
   "mimetype": "text/x-python",
   "name": "python",
   "nbconvert_exporter": "python",
   "pygments_lexer": "ipython3",
   "version": "3.8.10"
  }
 },
 "nbformat": 4,
 "nbformat_minor": 5
}
