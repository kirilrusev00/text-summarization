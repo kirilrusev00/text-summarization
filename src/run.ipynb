{
 "cells": [
  {
   "cell_type": "code",
   "execution_count": 2,
   "id": "7c88a809",
   "metadata": {},
   "outputs": [],
   "source": [
    "import os\n",
    "import numpy as np\n",
    "import pandas as pd"
   ]
  },
  {
   "cell_type": "code",
   "execution_count": 5,
   "id": "b6b3dea1",
   "metadata": {},
   "outputs": [],
   "source": [
    "df = pd.read_csv('../../WikiHow-Dataset/wikihowAll.csv', delimiter=',')"
   ]
  },
  {
   "cell_type": "code",
   "execution_count": 8,
   "id": "b7b30106",
   "metadata": {},
   "outputs": [
    {
     "data": {
      "text/html": [
       "<div>\n",
       "<style scoped>\n",
       "    .dataframe tbody tr th:only-of-type {\n",
       "        vertical-align: middle;\n",
       "    }\n",
       "\n",
       "    .dataframe tbody tr th {\n",
       "        vertical-align: top;\n",
       "    }\n",
       "\n",
       "    .dataframe thead th {\n",
       "        text-align: right;\n",
       "    }\n",
       "</style>\n",
       "<table border=\"1\" class=\"dataframe\">\n",
       "  <thead>\n",
       "    <tr style=\"text-align: right;\">\n",
       "      <th></th>\n",
       "      <th>headline</th>\n",
       "      <th>title</th>\n",
       "      <th>text</th>\n",
       "    </tr>\n",
       "  </thead>\n",
       "  <tbody>\n",
       "    <tr>\n",
       "      <th>0</th>\n",
       "      <td>\\nKeep related supplies in the same area.,\\nMa...</td>\n",
       "      <td>How to Be an Organized Artist1</td>\n",
       "      <td>If you're a photographer, keep all the necess...</td>\n",
       "    </tr>\n",
       "    <tr>\n",
       "      <th>1</th>\n",
       "      <td>\\nCreate a sketch in the NeoPopRealist manner ...</td>\n",
       "      <td>How to Create a Neopoprealist Art Work</td>\n",
       "      <td>See the image for how this drawing develops s...</td>\n",
       "    </tr>\n",
       "    <tr>\n",
       "      <th>2</th>\n",
       "      <td>\\nGet a bachelor’s degree.,\\nEnroll in a studi...</td>\n",
       "      <td>How to Be a Visual Effects Artist1</td>\n",
       "      <td>It is possible to become a VFX artist without...</td>\n",
       "    </tr>\n",
       "    <tr>\n",
       "      <th>3</th>\n",
       "      <td>\\nStart with some experience or interest in ar...</td>\n",
       "      <td>How to Become an Art Investor</td>\n",
       "      <td>The best art investors do their research on t...</td>\n",
       "    </tr>\n",
       "    <tr>\n",
       "      <th>4</th>\n",
       "      <td>\\nKeep your reference materials, sketches, art...</td>\n",
       "      <td>How to Be an Organized Artist2</td>\n",
       "      <td>As you start planning for a project or work, ...</td>\n",
       "    </tr>\n",
       "  </tbody>\n",
       "</table>\n",
       "</div>"
      ],
      "text/plain": [
       "                                            headline  \\\n",
       "0  \\nKeep related supplies in the same area.,\\nMa...   \n",
       "1  \\nCreate a sketch in the NeoPopRealist manner ...   \n",
       "2  \\nGet a bachelor’s degree.,\\nEnroll in a studi...   \n",
       "3  \\nStart with some experience or interest in ar...   \n",
       "4  \\nKeep your reference materials, sketches, art...   \n",
       "\n",
       "                                    title  \\\n",
       "0          How to Be an Organized Artist1   \n",
       "1  How to Create a Neopoprealist Art Work   \n",
       "2      How to Be a Visual Effects Artist1   \n",
       "3           How to Become an Art Investor   \n",
       "4          How to Be an Organized Artist2   \n",
       "\n",
       "                                                text  \n",
       "0   If you're a photographer, keep all the necess...  \n",
       "1   See the image for how this drawing develops s...  \n",
       "2   It is possible to become a VFX artist without...  \n",
       "3   The best art investors do their research on t...  \n",
       "4   As you start planning for a project or work, ...  "
      ]
     },
     "execution_count": 8,
     "metadata": {},
     "output_type": "execute_result"
    }
   ],
   "source": [
    "df.head()"
   ]
  },
  {
   "cell_type": "code",
   "execution_count": 10,
   "id": "297c5c47",
   "metadata": {},
   "outputs": [
    {
     "data": {
      "text/plain": [
       "(215365, 3)"
      ]
     },
     "execution_count": 10,
     "metadata": {},
     "output_type": "execute_result"
    }
   ],
   "source": [
    "df.shape"
   ]
  },
  {
   "cell_type": "code",
   "execution_count": 12,
   "id": "0070e1e7",
   "metadata": {},
   "outputs": [],
   "source": [
    "df=df.dropna()"
   ]
  },
  {
   "cell_type": "code",
   "execution_count": 16,
   "id": "9fb714b5",
   "metadata": {},
   "outputs": [
    {
     "name": "stderr",
     "output_type": "stream",
     "text": [
      "[nltk_data] Downloading package stopwords to /home/vasil/nltk_data...\n",
      "[nltk_data]   Package stopwords is already up-to-date!\n"
     ]
    }
   ],
   "source": [
    "import nltk\n",
    "from nltk.corpus import stopwords   \n",
    "nltk.download('stopwords')\n",
    "stop_words = set(stopwords.words('english'))"
   ]
  },
  {
   "cell_type": "code",
   "execution_count": 27,
   "id": "c853212f",
   "metadata": {},
   "outputs": [],
   "source": [
    "from nltk.tokenize import WhitespaceTokenizer\n",
    "\n",
    "tweet_tokenizer = WhitespaceTokenizer()"
   ]
  },
  {
   "cell_type": "code",
   "execution_count": 30,
   "id": "e974f6be",
   "metadata": {},
   "outputs": [],
   "source": [
    "def cleanText(text):\n",
    "    result = text.lower()\n",
    "    result = tweet_tokenizer.tokenize(result)\n",
    "    return result\n",
    "\n",
    "cleanedText=[]\n",
    "for txt in df['text']:\n",
    "    cleanedText.append(cleanText(txt))"
   ]
  },
  {
   "cell_type": "code",
   "execution_count": 31,
   "id": "f5a8424f",
   "metadata": {},
   "outputs": [
    {
     "name": "stdout",
     "output_type": "stream",
     "text": [
      "['if', \"you're\", 'a', 'photographer,', 'keep', 'all', 'the', 'necessary', 'lens,', 'cords,', 'and', 'batteries', 'in', 'the', 'same', 'quadrant', 'of', 'your', 'home', 'or', 'studio.', 'paints', 'should', 'be', 'kept', 'with', 'brushes,', 'cleaner,', 'and', 'canvas,', 'print', 'supplies', 'should', 'be', 'by', 'the', 'ink,', 'etc.', 'make', 'broader', 'groups', 'and', 'areas', 'for', 'your', 'supplies', 'to', 'make', 'finding', 'them', 'easier,', 'limiting', 'your', 'search', 'to', 'a', 'much', 'smaller', 'area.', 'some', 'ideas', 'include:', 'essential', 'supplies', 'area', '--', 'the', 'things', 'you', 'use', 'every', 'day.', 'inspiration', 'and', 'reference', 'area.', 'dedicated', 'work', 'area', '.', 'infrequent', 'or', 'secondary', 'supplies', 'area,', 'tucked', 'out', 'of', 'the', 'way.;', ',', 'this', \"doesn't\", 'mean', 'cleaning', 'the', 'entire', 'studio,', 'it', 'just', 'means', 'keeping', 'the', 'area', 'immediately', 'around', 'the', 'desk,', 'easel,', 'pottery', 'wheel,', 'etc.', 'clean', 'each', 'night.', 'discard', 'trash', 'or', 'unnecessary', 'materials', 'and', 'wipe', 'down', 'dirty', 'surfaces.', 'endeavor', 'to', 'leave', 'the', 'workspace', 'in', 'a', 'way', 'that', 'you', 'can', 'sit', 'down', 'the', 'next', 'day', 'and', 'start', 'working', 'immediately,', 'without', 'having', 'to', 'do', 'any', 'work', 'or', 'tidying.', 'even', 'if', 'the', 'rest', 'of', 'your', 'studio', 'is', 'a', 'bit', 'disorganized,', 'an', 'organized', 'workspace', 'will', 'help', 'you', 'get', 'down', 'to', 'business', 'every', 'time', 'you', 'want', 'to', 'make', 'art.', ',', 'as', 'visual', 'people,', 'a', 'lot', 'of', 'artist', 'clutter', 'comes', 'from', 'a', 'desire', 'to', 'keep', 'track', 'of', 'supplies', 'visually', 'instead', 'of', 'tucked', 'out', 'of', 'sight.', 'by', 'using', 'jars,', 'old', 'glasses,', 'vases,', 'and', 'cheap,', 'clear', 'plastic', 'drawers,', 'you', 'can', 'keep', 'things', 'in', 'sight', 'without', 'leaving', 'it', 'strewn', 'about', 'haphazardly.', 'some', 'ideas,', 'beyond', 'those', 'just', 'mentioned,', 'include:', 'canvas', 'shoe', 'racks', 'on', 'the', 'back', 'of', 'the', 'door', 'wine', 'racks', 'with', 'cups', 'in', 'each', 'slot', 'to', 'hold', 'pens/pencils.', 'plastic', 'restaurant', 'squirt', 'bottles', 'for', 'paint,', 'pigment,', 'etc.,', 'simply', 'string', 'up', 'the', 'wires', 'across', 'a', 'wall', 'or', 'along', 'the', 'ceiling', 'and', 'use', 'them', 'to', 'hold', 'essential', 'papers', 'that', 'you', \"don't\", 'want', 'to', 'cut', 'or', 'ruin', 'with', 'tacks', 'or', 'tape.', 'cheap', 'and', 'easy,', 'this', 'is', 'also', 'a', 'good', 'way', 'to', 'handle', 'papers', 'and', 'ideas', 'you', 'touch', 'regularly', 'or', 'need', 'to', 'pin', 'up', 'and', 'down', 'for', 'inspiration.,', 'shelving', 'is', 'an', \"artist's\", 'best', 'friend', 'and', 'is', 'a', 'cheap', 'and', 'easy', 'way', 'to', 'get', 'more', 'room', 'in', 'your', 'studio', 'or', 'art', 'space.', \"don't\", 'be', 'afraid', 'to', 'get', 'up', 'high', 'either,', 'especially', 'for', 'infrequently', 'used', 'supplies.', 'the', 'upper', 'reaches', 'of', 'the', 'room', 'are', 'often', 'the', 'most', 'under-utilized,', 'but', 'provide', 'vital', 'space', 'for', 'all', 'your', 'tools', 'and', 'materials.,', 'turning', 'one', 'wall', 'into', 'a', 'chalkboard', 'gives', 'you', 'a', 'perfect', 'space', 'for', 'ideas,', 'sketches,', 'and', 'planning', 'without', 'requiring', 'extra', 'equipment', 'or', 'space.', 'you', 'can', 'even', 'use', 'it', 'for', 'smaller', 'areas.', 'paint', 'over', 'jars', 'or', 'storage', 'equipment,', 'allowing', 'you', 'to', 'relabel', 'them', 'with', 'chalk', 'as', 'your', 'needs', 'change.', ',', 'a', 'lot', 'of', 'disorganization', 'comes', 'when', 'you', 'keep', 'moving', 'the', 'location', 'of', 'things,', 'trying', 'to', 'optimize', 'your', 'space', 'by', 'reorganizing', 'frequently.', 'this', 'usually', 'has', 'the', 'opposite', 'effect,', 'leading', 'to', 'lost', 'items', 'and', 'uncertainty', 'when', 'cleaning,', 'but', 'an', 'afternoon', 'with', 'a', 'label', 'maker', 'can', 'solve', 'everything.', 'instead', 'of', 'spending', 'all', 'of', 'your', 'mental', 'energy', 'looking', 'for', 'or', 'storing', 'things,', 'you', 'can', 'just', 'follow', 'the', 'labels,', 'freeing', 'your', 'mind', 'to', 'think', 'about', 'art.,', 'once', 'a', 'month,', 'do', 'a', 'purge', 'of', 'your', 'studio.', 'if', 'it', \"isn't\", 'essential', 'or', 'part', 'of', 'a', 'project,', 'either', 'throw', 'it', 'out', 'or', 'file', 'it', 'away', 'for', 'later.', 'artists', 'are', 'constantly', 'making', 'new', 'things,', 'experimenting,', 'and', 'making', 'a', 'mess.', 'this', 'is', 'a', 'good', 'thing,', 'but', 'only', 'if', 'you', 'set', 'aside', 'time', 'to', 'declutter.', 'it', 'may', 'not', 'be', 'fun', 'at', 'the', 'moment,', 'but', 'it', 'is', 'a', 'lot', 'more', 'fun', 'than', 'spending', '30', 'minutes', 'digging', 'through', 'junk', 'to', 'find', 'the', 'right', 'paint', 'or', 'an', 'old', 'sketch.', \"don't\", 'be', 'sentimental', 'here.', 'if', 'you', \"haven't\", 'used', 'it', 'in', 'the', 'last', 'six', 'months', 'there', 'is', 'little', 'chance', \"you'll\", 'use', 'it', 'in', 'the', 'next', 'six', 'months.', 'toss', 'it.']\n",
      "['see', 'the', 'image', 'for', 'how', 'this', 'drawing', 'develops', 'step-by-step.', 'however,', 'there', 'is', 'an', 'important', 'detail:', 'the', 'following', 'drawings', 'are', 'to', 'examine', 'it,', 'and', 'then,', 'to', 'create', 'something', 'unique.', 'use', 'the', 'lines', 'to', 'create', 'the', 'image', 'shape', 'and', 'sections.', 'fill', 'appeared', 'sections', 'with', 'different', 'patterns/', 'ornaments.', 'add', 'text', 'if', 'needed,', 'for', 'example', '\"neopoprealism', 'is', '25!\"', 'add', 'a', 'colored', 'strip', 'on', 'the', 'top,', 'any', 'color', 'you', 'wish.;', ',', 'painting', 'a', 'mural', 'always', 'requires', 'some', 'preparation.', 'you‘ll', 'need', 'equipment', 'and', 'effort,', 'but', 'planning', 'and', 'attention', 'to', 'detail', 'will', 'help', 'you', 'succeed.', 'painting', 'a', 'mural', 'requires', 'a', 'suitable', 'location,', 'with', 'the', 'right', 'surface', 'that', 'can', 'be', 'painted.', 'this', 'surface', 'should', 'be', 'smooth', 'and', 'flat.', 'however,', 'even', 'rough-textured', 'surfaces', 'can', 'be', 'used', 'for', 'your', 'neopoprealist', 'mural', 'project.', ',', 'for', 'exterior', 'projects', 'that', 'last', 'for', 'years,', 'using', 'a', 'newer', '100%', 'acrylic', 'exterior', 'paint', 'would', 'be', 'your', 'best', 'choice.', 'for', 'interior', 'walls,', 'use', 'latex', 'paints.', 'latex', 'offer', 'easier', 'cleanup', 'and', 'lower', 'costs.', 'by', 'measuring', 'the', 'total', 'wall', 'area', 'to', 'be', 'covered,', 'the', 'total', 'amount', 'of', 'paint', 'can', 'be', 'calculated,', 'but', 'since', 'this', 'mural', 'painting', 'requires', 'two', 'colors', '-', 'white', 'and', 'black', '-', 'figuring', 'the', 'actual', 'area', 'to', 'be', 'painted', 'each', 'color', 'is', 'necessary', 'to', 'allow', 'purchasing', 'the', 'right', 'amount', 'of', 'each', 'one.', 'large', 'walls', 'backgrounds', 'may', 'be', 'rolled', 'or', 'sprayed', 'with', 'a', 'white', 'paint', 'sprayer,', 'where', 'details', 'may', 'be', 'added', 'with', 'brushes.', 'paints', 'are', 'sensitive', 'to', 'high', 'temperatures,', 'humidity,', 'direct', 'sunlight,', 'however,', 'the', 'interior', 'projects', 'do', 'not', 'have', 'many', 'complications.', 'in', 'public', 'places,', 'keeping', 'the', 'mural', 'protected', 'may', 'require', 'attention.', 'for', 'that', 'reason,', 'if', 'you', 'make', 'your', 'neopoprealist', 'mural', 'dedicated', 'to', 'its', '25-year', 'anniversary', 'in', 'school', 'or', 'office,', 'you', 'can', 'consider', 'using', 'varnish', 'for', 'your', 'mural.', ',', 'see', 'sample', 'above.', 'the', 'design', 'will', 'give', 'you', 'a', 'sense', 'of', 'proportion.', 'you', 'will', 'have', 'unique', 'requirements', 'and', 'elements.,', 'use', 'a', 'sketch', 'and', 'measure', 'at', 'scale', 'the', 'distances', 'and', 'locations', 'of', 'various', 'points', 'of', 'your', 'subject.', 'measuring', 'key', 'features', 'will', 'help', 'you', 'calculate', 'the', 'amount', 'of', 'paint', 'when', 'each', 'feature', 'is', 'identified', 'by', 'its', 'color.,', 'if', 'the', 'surface', 'is', 'low,', 'the', 'whole', 'mural', 'can', 'be', 'painted', 'standing', 'on', 'the', 'ground', 'or', 'from', 'a', 'stepladder.', 'for', 'higher', 'work,', 'you', 'may', 'have', 'to', 'rent', 'a', 'scaffold.,', 'mark', 'the', 'horizontal', 'and', 'vertical', 'lines.,', 'use', 'white', 'paint', 'as', 'background.,', 'then', 'begin', 'marking,', 'using', 'your', 'scaled', 'sketch,', 'the', 'location', 'of', 'key', 'elements', 'of', 'objects,', 'located', 'in', 'the', 'foreground.', 'everything', 'depends', 'on', 'the', 'complexity', 'of', 'your', 'mural.', 'if', 'you', 'are', 'confident', 'in', 'your', 'artistic', 'results,', 'you', 'may', 'choose', 'to', 'draw', 'all', 'of', 'the', 'details', 'in', 'freehand.,', 'be', 'careful,', 'keep', 'clean', 'transition', 'edges', 'from', 'one', 'color', '(black)', 'to', 'another', '(white).', 'however,', 'mistakes', 'can', 'be', 'touched', 'up', 'later.', 'always', 'allow', 'fresh', 'color', 'to', 'dry', 'before', 'proceeding', 'to', 'the', 'drawing.,', 'an', 'example', 'would', 'be', 'painting', 'a', 'large', 'patterns', 'use', 'big', 'brushes,', 'limbs,', 'use', 'small', 'brushes', 'for', 'tiny', 'and', 'detailed', 'patterns.,', 'if', 'you', 'have', 'a', 'drip', 'or', 'run,', 'paint', 'over', 'it', 'with', 'the', 'color', 'paint', 'appropriate', 'for', 'that', 'location.', 'sharpen', 'lines', 'and', 'patterns', 'if', 'they', 'are', 'blurred.,', 'if', 'it', 'is', 'intended', 'to', 'last', 'a', 'long', 'time', 'or', 'if', 'it', 'is', 'on', 'a', 'surface', 'that', 'require', 'cleaning,', 'overcoat', 'your', 'mural', 'project', 'with', 'a', 'clear', 'sealer.,', 'however,', 'if', 'you', \"won't\", 'be', 'able', 'to', 'involve', 'more', 'than', '16', 'percent', 'of', 'your', \"brain's\", 'grays', 'matter,', \"you'll\", 'end', 'up', 'with', 'the', 'primitive', 'crafting', 'of', 'patterns', 'or', 'even', 'worse,', 'with', 'doodling', 'or', 'so-called', 'zen-doodling.', 'but', 'to', 'create', 'the', 'neopoprealist', 'art', 'one', 'needs', 'the', 'abilities,', 'which', 'can', 'be', 'developed', 'in', 'talented', 'people', 'by', 'studying', 'using', 'nadia', \"russ'\", 'neopoprealist', 'instructional', 'books.', 'other,', 'the', \"copycats'\", 'self-promotional', 'superficial', 'books', 'will', 'teach', 'you', 'only', 'how', 'to', 'doodle', 'because', 'they', 'have', 'nothing', 'in', 'common', 'with', 'visual', 'arts', 'and', 'its', 'mission.']\n",
      "['it', 'is', 'possible', 'to', 'become', 'a', 'vfx', 'artist', 'without', 'a', 'college', 'degree,', 'but', 'the', 'path', 'is', 'often', 'easier', 'with', 'one.', 'vfx', 'artists', 'usually', 'major', 'in', 'fine', 'arts,', 'computer', 'graphics,', 'or', 'animation.', 'choose', 'a', 'college', 'with', 'a', 'reputation', 'for', 'strength', 'in', 'these', 'areas', 'and', 'a', 'reputation', 'for', 'good', 'job', 'placement', 'for', 'graduates.', 'the', 'availability', 'of', 'internships', 'is', 'another', 'factor', 'to', 'consider.out', 'of', 'the', 'jobs', 'advertised', 'for', 'vfx', 'artists,', 'a', 'majority', 'at', 'any', 'given', 'time', 'specify', 'a', 'bachelor’s', 'degree', 'as', 'a', 'minimum', 'requirement', 'for', 'applicants.;', ',', 'some', 'studios', 'offer', 'short-term', 'programs', 'for', 'people', 'who', 'want', 'to', 'learn', 'more', 'about', 'vfx', 'artistry', 'without', 'pursuing', 'a', 'college', 'degree.', 'enrolling', 'in', 'these', 'programs', 'can', 'be', 'expensive', 'as', 'financial', 'aid', 'isn’t', 'always', 'offered,', 'but', 'they', 'usually', 'have', 'the', 'most', 'cutting', 'edge', 'technology', 'for', 'you', 'to', 'learn', 'from.,', 'although', 'you', 'may', 'create', 'some', 'hand', 'sketches,', 'the', 'majority', 'of', 'your', 'work', 'will', 'be', 'completed', 'on', 'the', 'computer', 'using', 'the', 'most', 'up-to-date', 'programs.', 'stay', 'informed', 'about', 'the', 'newest', 'software', 'advances', 'by', 'following', 'vfx', 'blogs', 'and', 'taking', 'online', 'computer', 'tutorials.for', 'example,', 'vfx', 'artists', 'are', 'expected', 'to', 'be', 'well-versed', 'in', 'graphics', 'and', 'animation', 'programs,', 'such', 'as', 'adobe', 'creative', 'suite', 'and', 'javascript.clearly', 'list', 'every', 'program', 'that', 'you', 'can', 'work', 'with', 'on', 'your', 'resume.', ',', 'hop', 'onto', 'youtube', 'or', 'another', 'video', 'service', 'and', 'search', 'for', 'vfx', 'clip', 'reels', 'or', 'demonstrations.', 'some', 'of', 'these', 'videos', 'will', 'focus', 'on', 'a', 'particular', 'skill', 'set,', 'such', 'as', 'shading,', 'which', 'you', 'then', 'can', 'practice', 'on', 'your', 'own.', 'challenge', 'yourself', 'to', 'mimic', 'some', 'of', 'the', 'more', 'difficult', 'tasks,', 'or', 'even', 'try', 'to', 'improve', 'upon', 'the', 'models', 'used.,', 'take', 'as', 'many', 'art', 'and', 'design', 'classes', 'as', 'you', 'can.', 'or,', 'simply', 'carry', 'a', 'sketch', 'pad', 'around', 'with', 'you', 'to', 'work', 'on', 'your', 'basic', 'animation', 'skills.', 'as', 'you', 'draw,', 'consider', 'factors', 'such', 'as', 'lighting', 'and', 'framing.', 'even', 'geometry', 'skills', 'can', 'come', 'in', 'handy', 'when', 'creating', 'a', 'particular', 'type', 'of', 'background', 'or', 'even', 'a', 'person’s', 'face.make', 'a', 'choice', 'to', 'become', 'an', 'observer', 'of', 'the', 'world', 'around', 'you.', 'ask', 'yourself:', 'how', 'could', 'i', 'capture', 'the', 'movement', 'of', 'the', 'leaves?', 'or,', 'in', 'what', 'situations', 'do', 'shadows', 'appear?', ',', 'watch', 'all', 'of', 'these', 'creations', 'with', 'an', 'eye', 'for', 'detail.', 'look', 'for', 'the', 'techniques', 'used', 'and', 'any', 'original', 'approaches', 'that', 'you', 'see.', 'try', 'to', 'recreate', 'any', 'scenes', 'that', 'you', 'find', 'particularly', 'interesting.', 'research', 'the', 'artists', 'and', 'see', 'what', 'their', 'backgrounds', 'are', 'and', 'contact', 'them', 'if', 'you', 'like.,', 'as', 'you', 'gain', 'more', 'experience,', 'you’ll', 'likely', 'find', 'yourself', 'gravitating', 'toward', 'a', 'certain', 'aspect', 'of', 'design.', 'this', 'will', 'become', 'your', '“calling', 'card”', 'and', 'directors', 'and', 'other', 'professionals', 'will', 'seek', 'you', 'out', 'for', 'this', 'type', 'of', 'work.', 'to', 'build', 'your', 'specialization,', 'start', 'choosing', 'jobs', 'with', 'that', 'emphasis', 'and', 'attend', 'additional', 'training', 'seminars.for', 'example,', 'some', 'vfx', 'specialists', 'focus', 'on', 'human', 'character’s', 'faces,', 'animal', 'figures,', 'or', 'city', 'backgrounds.']\n",
      "['the', 'best', 'art', 'investors', 'do', 'their', 'research', 'on', 'the', 'pieces', 'of', 'art', 'that', 'they', 'buy,', 'so', 'someone', 'with', 'some', 'education', 'or', 'interest', 'in', 'the', 'art', 'world', 'is', 'more', 'likely', 'to', 'understand', 'this', 'niche', 'market.', 'as', 'well', 'as', 'personal', 'research,', 'you', 'will', 'need', 'to', 'have', 'contacts', 'with', 'people', 'in', 'the', 'art', 'world,', 'such', 'as', 'auctioneers,', 'gallery', 'directors', 'and', 'dealers,', 'who', 'can', 'give', 'you', 'good', 'investment', 'advice.;', ',', 'you', 'may', 'confuse', 'these', 'three', 'terms,', 'if', 'you', 'are', 'not', 'careful.', 'each', 'of', 'them', 'has', 'a', 'slightly', 'different', 'goal', 'in', 'mind', 'when', 'looking', 'to', 'buy', 'art.', 'art', 'collectors', 'do', 'not', 'buy', 'art', 'for', 'investment', 'purposes.', 'they', 'buy', 'it', 'to', 'decorate', 'and', 'display', 'in', 'their', 'home.', 'because', 'they', 'consider', 'them', 'to', 'be', 'an', 'important', 'part', 'of', 'their', 'home', 'or', 'life,', 'most', 'art', 'collectors', 'have', 'a', 'hard', 'time', 'parting', 'with', 'pieces', 'of', 'their', 'collection.', 'while', 'many', 'collectors', 'do', 'end', 'up', 'selling', 'some', 'pieces', 'of', 'art,', 'it', 'may', 'be', 'done', 'because', 'of', 'necessity.', 'collectors', 'often', 'loan', 'their', 'works', 'out', 'to', 'museums', 'and', 'occasionally', 'donate', 'them', 'to', 'museums', 'upon', 'their', 'death.', 'art', 'investors', 'seek', 'to', 'diversify', 'their', 'portfolio', 'with', 'an', 'art', 'investment.', 'some', 'investment', 'firms', 'put', 'about', 'two', 'and', 'a', 'half', 'to', 'three', 'percent', 'of', 'their', 'investment', 'money', 'in', 'art.', 'they', 'seek', 'good', 'advice', 'and', 'often', 'buy', 'paintings', 'that', 'are', 'older', 'and', 'have', 'been', 'popular', 'historically,', 'such', 'as', 'paintings', 'by', 'the', 'old', 'masters.', 'these', 'investments', 'are', 'kept', 'over', 'decades,', 'and', 'sold', 'off', 'when', 'the', 'market', 'is', 'right,', 'with', 'the', 'investor', 'seeking', 'to', 'get', 'a', 'six', 'to', 'ten', 'percent', 'profit', 'rise', 'per', 'year.', 'these', 'investments', 'are', 'also', 'often', 'made', 'to', 'be', 'given', 'as', 'inheritance', 'to', 'future', 'generations', 'of', 'the', 'family.', 'art', 'investment', 'is', 'often', 'undertaken', 'by', 'the', 'very', 'wealthy.', 'art', 'speculators', 'try', 'to', 'invest', 'in', 'art', 'that', 'they', 'believe', 'will', 'appreciate', 'in', 'value.', 'they', 'aim', 'to', 'buy', 'art', 'at', 'a', 'low', 'price', 'from', 'budding', 'artists', 'in', 'the', 'beginning', 'of', 'their', 'careers.', 'then', 'they', 'hope', 'to', 'sell', 'their', 'work', 'in', '10', 'to', '15', 'years', 'when', 'the', 'artists', 'are', 'at', 'the', 'peak', 'of', 'their', 'careers', 'and', 'people', 'or', 'collectors', 'are', 'willing', 'to', 'pay', 'much', 'more', 'for', 'their', 'pieces.', 'this', 'is', 'a', 'type', 'of', 'investment', 'that', 'takes', 'intimate', 'involvement', 'with', 'the', 'art', 'world', 'and', 'liquidity', 'in', 'order', 'to', 'buy', 'the', 'art.', ',', 'art', 'investments', 'should', 'be', 'no', 'more', 'than', 'a', 'small', 'part', 'of', 'your', 'investment', 'portfolio,', 'along', 'with', 'stocks,', 'bonds,', 'new', 'businesses', 'and', 'more.', 'figure', 'out', 'what', 'your', 'range', 'is', 'before', 'you', 'begin', 'to', 'pick', 'out', 'potential', 'pieces,', 'and', 'get', 'advice', 'from', 'investors', 'and', 'art', 'dealers.', ',', 'study', 'the', 'mei', 'moses', 'fine', 'art', 'index', 'to', 'get', 'a', 'firm', 'grasp', 'of', 'the', 'art', 'market', 'today.', 'although', 'they', 'cannot', 'predict', 'what', 'will', 'be', 'popular', 'in', 'the', 'future,', 'they', 'can', 'tell', 'you', 'what', 'art', 'tends', 'to', 'keep', 'its', 'value', 'and', 'be', 'a', 'low-risk', 'and', 'what', 'art', 'has', 'a', 'more', 'volatile', 'market', 'value.', ',', 'while', 'this', 'is', 'not', 'an', 'absolute', 'rule', 'to', 'follow,', 'paintings', 'from', 'successful', 'artists', 'tend', 'to', 'get', 'better', 'returns', 'than', 'sculpture', 'and', 'installation', 'art.', ',', 'get', 'all', 'the', 'information', 'you', 'can', 'out', 'of', 'them', 'before', 'making', 'a', 'purchase.', 'if', 'you', 'are', 'going', 'to', 'buy', 'at', 'auction,', 'be', 'prepared', 'to', 'walk', 'away', 'if', 'the', 'price', 'goes', 'higher', 'than', 'your', 'investment', 'range.', 'beware', 'of', 'art', 'auctioneers', 'or', 'dealers', 'that', 'promise', 'too', 'high', 'a', 'return', 'on', 'paintings.', 'in', 'many', 'ways,', 'they', 'are', 'just', 'like', 'stock', 'brokers', 'and', 'other', 'financial', 'investment', 'firms,', 'who', 'may', 'promise', 'anything', 'to', 'get', 'a', 'sale.', 'they', 'should', 'be', 'found', 'trustworthy', 'before', 'you', 'buy', 'anything,', 'because', 'ponzi', 'schemes', 'and', 'art', 'market', 'bubbles', 'are', 'part', 'of', 'this', 'investment', 'landscape', 'as', 'well.', 'if', 'you', 'have', 'never', 'bought', 'art', 'in', 'an', 'auction', 'environment', 'before,', 'you', 'may', 'want', 'to', 'seek', 'advice', 'about', 'how', 'it', 'is', 'done', 'properly.', 'you', 'should', 'study', 'the', 'auction', 'booklet', 'before', 'hand,', 'learn', 'about', 'secret', 'buyers', 'and', 'how', 'prices', 'can', 'quickly', 'inflate.', 'most', 'fine', 'auction', 'houses', 'would', 'be', 'willing', 'to', 'teach', 'you', 'the', 'basics', 'if', 'they', 'see', 'you', 'as', 'a', 'serious', 'investor.', ',', 'arrange', 'for', 'payment,', 'shipping', 'and', 'insurance.', 'each', 'piece', 'of', 'art', 'should', 'be', 'insured', 'and', 'catalogued', 'as', 'part', 'of', 'your', 'estate.', ',', 'in', 'order', 'for', 'an', 'art', 'investment', 'to', 'retain', 'its', 'value,', 'it', 'should', 'be', 'kept', 'at', 'low-humidity', 'and', 'avoid', 'being', 'marred.', 'you', 'may', 'choose', 'to', 'hang', 'it', 'in', 'your', 'home,', 'but', 'you', 'may', 'want', 'to', 'get', 'an', 'art', \"collector's\", 'advice', 'about', 'where', 'to', 'hang', 'it', 'and', 'how', 'to', 'care', 'for', 'it.', 'share', 'this', 'information', 'with', 'your', 'children,', 'if', 'it', 'is', 'intended', 'as', 'an', 'inheritance', 'investment.', 'they', 'need', 'to', 'be', 'well', 'aware', 'of', 'how', 'to', 'take', 'care', 'of', 'art,', 'or', 'they', 'may', 'lose', 'money', 'or', 'ruin', 'the', 'painting', 'entirely.', ',', 'as', 'well', 'as', 'keeping', 'tabs', 'on', 'the', 'art', 'world', 'to', 'understand', 'the', 'rise', 'and', 'falls', 'of', 'certain', 'schools', 'of', 'art,', 'an', 'appraiser', 'can', 'tell', 'you', 'how', 'your', 'investment', 'is', 'maturing.', 'they', 'may', 'clue', 'you', 'in', 'on', 'when', 'you', 'have', 'reached', 'your', 'desired', 'profit.', ',', 'if', 'the', 'art', 'you', 'buy', 'does', 'not', 'fit', 'in', 'your', 'home,', 'and', 'you', 'will', 'only', 'be', 'storing', 'it,', 'research', 'banks,', 'hotels', 'and', 'other', 'institutions', 'that', 'rent', 'fine', 'art', 'on', 'a', 'rotating', 'basis.', 'you', 'may', 'be', 'able', 'to', 'demand', 'thousands', 'of', 'dollars', 'per', 'year', 'for', 'your', 'art', 'to', 'hang', 'in', 'another', 'building.', 'keep', 'in', 'mind', 'you', 'will', 'need', 'to', 'make', 'sure', 'your', 'art', 'is', 'covered', 'by', 'an', 'insurance', 'policy', 'for', 'loss', 'or', 'damage.', 'make', 'sure', 'the', 'renter', 'provides', 'insurance', 'for', 'your', 'art.', 'you', 'should', 'prepare', 'a', 'contract', 'that', 'stipulates', 'the', 'time', 'allotted,', 'the', 'fee,', 'the', 'insurance', 'and', 'the', 'shipment', 'of', 'your', 'art.', ',', 'unless', 'you', 'employ', 'an', 'art', 'dealer', 'or', 'auction', 'house', 'at', 'the', 'exact', 'moment', 'when', 'the', 'art', 'is', 'in', 'high', 'value,', 'it', 'can', 'take', 'years', 'and', 'thousands', 'of', 'dollars', 'in', 'fees', 'to', 'find', 'the', 'right', 'buyer.']\n",
      "['as', 'you', 'start', 'planning', 'for', 'a', 'project', 'or', 'work,', \"you'll\", 'likely', 'be', 'gathering', 'scraps', 'of', 'inspiration', 'and', 'test', 'sketches.', 'while', 'everyone', 'has', 'a', 'strategy,', 'there', 'is', 'nothing', 'more', 'maddening', 'than', 'digging', 'through', 'a', 'book', 'or', 'the', 'internet', 'to', 're-find', 'the', 'cool', 'idea', 'you', 'saw', 'three', 'months', 'ago.', 'try', 'out:', 'dedicating', '1', 'notebook,', 'preferably', 'with', 'insert', 'folders,', 'to', 'each', 'project.', 'making', 'a', 'bookmark', 'folder', 'for', 'each', 'project', 'on', 'your', 'internet', 'browser', 'to', 'easily', 'compile', 'online', 'inspiration.', 'tacking', 'up', 'physical', 'inspiration', 'on', 'a', 'wall', 'or', 'cork', 'board', 'near', 'your', 'workspace.,', 'very', 'few', 'artists', 'simply', 'dive', 'right', 'into', 'large', 'projects.', 'almost', '100%', 'of', 'the', 'time', 'they', 'instead', 'work', 'on', 'related,', 'smaller', 'projects', 'called', '\"studies\"', 'to', 'prepare', 'for', 'the', 'larger', 'work.', 'you', 'might', 'practice', 'the', 'face', 'of', 'the', 'portrait', \"you're\", 'making,', 'sketch', 'our', 'different', 'composition', 'ideas,', 'or', 'practice', 'a', 'vulnerable', 'or', 'difficult', 'part', 'of', 'a', 'sculpture.', 'keep', 'these', 'organized', 'as', 'a', 'way', 'to', 'prepare', 'both', 'the', 'skills,', 'ideas,', 'and', 'supplies', 'needed', 'for', 'the', 'final', 'project.', ',', 'at', 'the', 'end', 'of', 'the', 'day,', 'artists', 'are', 'visual', 'people,', 'and', 'tucking', 'everything', 'away', 'neatly', 'and', 'cleanly', 'may', 'not', 'be', 'conducive', 'to', 'the', 'artistic', 'process.', 'of', 'course,', 'neither', 'is', 'losing', 'or', 'misplacing', 'essential', 'supplies.', 'find', 'a', 'compromise', 'by', 'packing', 'away', 'any', 'supplies', 'not', 'currently', 'in', 'use,', 'and', 'leaving', 'a', 'little', 'bit', 'of', '\"essential\"', 'clutter.', \"it's\", 'okay', 'to', 'have', 'inspiration', 'scattered', 'around', 'the', 'studio', '--', 'just', 'make', 'sure', \"it's\", 'the', 'inspiration', 'you', 'need', 'for', 'the', 'current', 'project.', 'just', 'because', 'you', '\"aren\\'t', 'organized\"', 'is', 'no', 'excuse', 'not', 'to', 'make', 'an', 'attempt.', \"don't\", 'feel', 'like', 'the', 'only', 'options', 'are', 'perfect', 'cleanliness', 'or', 'an', 'utter', 'mess--', 'there', 'is', 'a', 'middle', 'ground.', ',', 'nothing', 'is', 'worse', 'than', 'spending', 'a', 'long', 'night', 'on', 'a', 'painting', 'only', 'to', 'realize', \"you've\", 'run', 'out', 'of', 'white', 'paint', 'halfway', 'through', 'a', 'section.', 'once', 'a', 'week,', 'or', 'more', 'frequently', 'if', 'possible,', 'check', 'in', 'on', 'the', 'quantities', 'of', 'your', 'supplies', 'so', 'that', 'you', 'can', 'refill', 'them', 'before', 'it', 'becomes', 'a', 'problem.', 'a', 'simple', 'spreadsheet', 'or', 'notebook,', 'marked', 'at', 'the', 'end', 'of', 'each', 'artistic', 'session,', 'is', 'a', 'quick', 'and', 'easy', 'way', 'to', 'keep', 'tabs', 'on', 'your', 'stuff.', ',', 'deciding', 'to', 'paint', 'a', 'mural', 'is', 'a', 'huge', 'undertaking.', 'but', 'sketching', 'the', 'idea,', 'transposing', 'the', 'image', 'onto', 'the', 'wall,', 'painting', 'the', 'basic', 'colors,', 'then', 'adding', 'shading/detail', 'are', 'four', 'separate', 'and', 'more', 'manageable', 'projects.', 'organization', 'is', 'key', 'to', 'big', 'projects,', 'even', 'if', 'it', 'feels', '\"constraining\"', 'to', 'your', 'creativity.', 'in', 'reality,', 'organizing', 'your', 'work', 'and', 'progress', 'frees', 'your', 'mind', 'to', 'actually', 'be', 'creative,', 'instead', 'of', 'worrying', 'about', 'logistics.', 'figure', 'out', 'the', 'building', 'blocks', 'of', 'each', 'part', 'of', 'the', 'project,', 'tackling', 'each', 'at', 'once.', \"don't\", 'jump', 'around', 'across', 'all', 'parts', 'of', 'the', 'project', 'haphazardly.']\n"
     ]
    }
   ],
   "source": [
    "for i in range(5):\n",
    "    print(cleanedText[i])"
   ]
  },
  {
   "cell_type": "code",
   "execution_count": 32,
   "id": "fed8d605",
   "metadata": {},
   "outputs": [],
   "source": [
    "cleanedSummaries=[]\n",
    "for txt in df['headline']:\n",
    "    cleanedSummaries.append(cleanText(txt))"
   ]
  },
  {
   "cell_type": "code",
   "execution_count": 33,
   "id": "82d223aa",
   "metadata": {},
   "outputs": [
    {
     "name": "stdout",
     "output_type": "stream",
     "text": [
      "['keep', 'related', 'supplies', 'in', 'the', 'same', 'area.,', 'make', 'an', 'effort', 'to', 'clean', 'a', 'dedicated', 'workspace', 'after', 'every', 'session.,', 'place', 'loose', 'supplies', 'in', 'large,', 'clearly', 'visible', 'containers.,', 'use', 'clotheslines', 'and', 'clips', 'to', 'hang', 'sketches,', 'photos,', 'and', 'reference', 'material.,', 'use', 'every', 'inch', 'of', 'the', 'room', 'for', 'storage,', 'especially', 'vertical', 'space.,', 'use', 'chalkboard', 'paint', 'to', 'make', 'space', 'for', 'drafting', 'ideas', 'right', 'on', 'the', 'walls.,', 'purchase', 'a', 'label', 'maker', 'to', 'make', 'your', 'organization', 'strategy', 'semi-permanent.,', 'make', 'a', 'habit', 'of', 'throwing', 'out', 'old,', 'excess,', 'or', 'useless', 'stuff', 'each', 'month.']\n",
      "['create', 'a', 'sketch', 'in', 'the', 'neopoprealist', 'manner', 'of', 'the', 'future', 'mural', 'on', 'a', 'small', 'piece', 'of', 'paper', '8\"x10\"', 'using', 'the', 'black', 'ink', 'pen.,', 'prepare', 'to', 'create', 'your', 'neopoprealist', 'mural.,', 'prepare', 'your', 'paint.,', 'begin', 'your', 'project', 'with', 'a', 'design.,', 'produce', 'a', 'scaled', 'down', 'version', 'of', 'your', 'finished', 'mural.,', 'prepare', 'the', 'wall', 'to', 'be', 'painted.,', 'after', 'you', 'have', 'primed', 'the', 'surface,', 'measure', 'the', 'wall.,', 'paint', 'in', 'the', 'base', 'coat', 'of', 'the', 'background.,', 'allow', 'the', 'background', 'and', 'base', 'coats', 'to', 'dry.,', 'draw', 'the', 'lines,', 'then', 'fill', 'the', 'appeared', 'section', 'with', 'different', 'repetitive', 'patterns', '(examine', 'the', 'images', 'above).,', 'paint', 'patterns', 'with', 'brushes', 'of', 'suitable', 'size', 'for', 'the', 'particular', 'portion', 'of', 'work', 'you', 'are', 'painting.,', 'clean', 'up', 'the', 'lines', 'and', 'shapes', 'as', 'needed.,', 'seal', 'the', 'mural', 'if', 'needed.,', 'be', 'inspired', 'and', 'it', 'will', 'help', 'you', 'succeed!']\n",
      "['get', 'a', 'bachelor’s', 'degree.,', 'enroll', 'in', 'a', 'studio-based', 'program.,', 'train', 'on', 'a', 'number', 'of', 'vfx', 'computer', 'programs.,', 'watch', 'online', 'tutorials.,', 'nurture', 'your', 'artistic', 'side.,', 'pay', 'close', 'attention', 'to', 'movies,', 'television', 'shows,', 'and', 'video', 'games.,', 'develop', 'a', 'specialization.']\n",
      "['start', 'with', 'some', 'experience', 'or', 'interest', 'in', 'art.,', 'understand', 'the', 'difference', 'between', 'art', 'collectors,', 'art', 'investors', 'and', 'art', 'speculators.,', 'figure', 'out', 'what', 'you', 'are', 'willing', 'to', 'pay', 'for', 'art,', 'before', 'going', 'to', 'an', 'auction', 'house.,', 'pay', 'attention', 'to', 'what', 'schools', 'of', 'art', 'are', 'selling', 'well,', 'and', 'which', 'are', 'down.,', 'focus', 'art', 'investments', 'on', 'fine', 'art', 'paintings,', 'rather', 'than', 'decorative', 'art.,', 'reach', 'out', 'to', 'trusted', 'auction', 'houses', 'and', 'dealers', 'when', 'you', 'are', 'looking', 'to', 'buy', 'art.,', 'buy', 'your', 'investment', 'art', 'when', 'you', 'feel', 'confident', 'of', 'its', 'worth,', 'its', 'price', 'and', 'its', 'ability', 'to', 'grow', 'in', 'value.,', 'study', 'how', 'art', 'is', 'properly', 'stored.,', 'have', 'your', 'art', 'investments', 'appraised', 'occasionally.,', 'consider', 'renting', 'out', 'your', 'art', 'investments.,', 'understand', 'that', 'selling', 'an', 'art', 'investment', 'can', 'take', 'time.']\n",
      "['keep', 'your', 'reference', 'materials,', 'sketches,', 'articles,', 'photos,', 'etc,', 'in', 'one', 'easy', 'to', 'find', 'place.,', 'make', '\"studies,\"', 'or', 'practice', 'sketches,', 'to', 'organize', 'effectively', 'for', 'larger', 'projects.,', 'limit', 'the', 'supplies', 'you', 'leave', 'out', 'to', 'the', 'project', 'at', 'hand.,', 'keep', 'an', 'updated', 'list', 'of', 'all', 'of', 'the', 'necessary', 'supplies,', 'and', 'the', 'quantities', 'of', 'each.,', 'break', 'down', 'bigger', 'works', 'into', 'more', 'easily', 'completed', 'parts.']\n"
     ]
    }
   ],
   "source": [
    "for i in range(5):\n",
    "    print(cleanedSummaries[i])"
   ]
  },
  {
   "cell_type": "code",
   "execution_count": null,
   "id": "f96e2a83",
   "metadata": {},
   "outputs": [],
   "source": []
  }
 ],
 "metadata": {
  "kernelspec": {
   "display_name": "Python 3 (ipykernel)",
   "language": "python",
   "name": "python3"
  },
  "language_info": {
   "codemirror_mode": {
    "name": "ipython",
    "version": 3
   },
   "file_extension": ".py",
   "mimetype": "text/x-python",
   "name": "python",
   "nbconvert_exporter": "python",
   "pygments_lexer": "ipython3",
   "version": "3.8.10"
  }
 },
 "nbformat": 4,
 "nbformat_minor": 5
}
